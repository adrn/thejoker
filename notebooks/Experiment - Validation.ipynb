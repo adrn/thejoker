{
 "cells": [
  {
   "cell_type": "code",
   "execution_count": null,
   "metadata": {
    "collapsed": false
   },
   "outputs": [],
   "source": [
    "# Standard library\n",
    "from os.path import join\n",
    "\n",
    "# Third-party\n",
    "import corner\n",
    "import astropy.units as u\n",
    "import h5py\n",
    "import matplotlib.pyplot as plt\n",
    "%matplotlib inline\n",
    "import numpy as np\n",
    "\n",
    "# Project\n",
    "from thejoker import Paths\n",
    "paths = Paths()\n",
    "from thejoker.data import RVData\n",
    "from thejoker.celestialmechanics import OrbitalParams\n",
    "from thejoker.plot import plot_rv_curves, _truth_color\n",
    "\n",
    "plt.style.use('../thejoker/thejoker.mplstyle')\n",
    "\n",
    "from figurehelpers import samples_units, make_rv_curve_figure, apw_corner"
   ]
  },
  {
   "cell_type": "code",
   "execution_count": null,
   "metadata": {
    "collapsed": true
   },
   "outputs": [],
   "source": [
    "dpi = 256"
   ]
  },
  {
   "cell_type": "code",
   "execution_count": null,
   "metadata": {
    "collapsed": true
   },
   "outputs": [],
   "source": [
    "# experiment number\n",
    "e_number = 1\n",
    "e_name = 'validation'"
   ]
  },
  {
   "cell_type": "code",
   "execution_count": null,
   "metadata": {
    "collapsed": true
   },
   "outputs": [],
   "source": [
    "data_filename = \"../data/experiment{}.h5\".format(e_number)"
   ]
  },
  {
   "cell_type": "markdown",
   "metadata": {},
   "source": [
    "## read the data:"
   ]
  },
  {
   "cell_type": "code",
   "execution_count": null,
   "metadata": {
    "collapsed": false
   },
   "outputs": [],
   "source": [
    "# read the data\n",
    "with h5py.File(data_filename, 'r') as f:\n",
    "    data = RVData.from_hdf5(f)\n",
    "    truth_pars = OrbitalParams.from_hdf5(f['truth'])\n",
    "    truth_vec = truth_pars.pack(plot_transform=True, units=samples_units)[0]\n",
    "\n",
    "# read the samples from fixing the jitter\n",
    "with h5py.File(join(paths.cache, 'experiment{}-fixed-jitter.h5'.format(e_number)), 'r') as g:\n",
    "    pars1 = OrbitalParams.from_hdf5(g)\n",
    "    samples1 = pars1.pack(plot_transform=True, units=samples_units)\n",
    "    samples1[:,3] = (samples1[:,3] - 360*((data.t_offset/pars1._P) % 1.)) % (360) # HACK\n",
    "\n",
    "# read the samples from sampling over the jitter\n",
    "with h5py.File(join(paths.cache, 'experiment{}-sample-jitter.h5'.format(e_number)), 'r') as g:\n",
    "    pars2 = OrbitalParams.from_hdf5(g)\n",
    "    samples2 = pars2.pack(plot_transform=True, units=samples_units)\n",
    "    samples2[:,3] = (samples2[:,3] - 360*((data.t_offset/pars2._P) % 1.)) % (360)\n",
    "\n",
    "print(\"{} samples survived (a)\".format(samples1.shape[0]))\n",
    "print(\"{} samples survived (b)\".format(samples2.shape[0]))"
   ]
  },
  {
   "cell_type": "code",
   "execution_count": null,
   "metadata": {
    "collapsed": false
   },
   "outputs": [],
   "source": [
    "t_grid = np.linspace(data.t.mjd.min(), data.t.mjd.max(), 1024)\n",
    "truth_rv = truth_pars.rv_orbit(0).generate_rv_curve(t_grid)\n",
    "\n",
    "plt.plot(t_grid, truth_rv.to(samples_units['v0']).value, linestyle='--', \n",
    "         marker='', linewidth=1, alpha=0.9, color=_truth_color)\n",
    "data.plot(ax=plt.gca(), rv_unit=samples_units['v0'], markersize=6)"
   ]
  },
  {
   "cell_type": "code",
   "execution_count": null,
   "metadata": {
    "collapsed": false
   },
   "outputs": [],
   "source": [
    "fig = make_rv_curve_figure(data, [pars1, pars2], truth_pars=truth_pars,\n",
    "                           units=samples_units, rv_lim=(21, 67))\n",
    "fig.axes[0].set_title(\"Experiment {}\".format(e_number), fontsize=22)\n",
    "\n",
    "fig.axes[0].text(55700, 60, \"(a)\", fontsize=18)\n",
    "fig.axes[1].text(55700, 60, \"(b)\", fontsize=18)\n",
    "\n",
    "fig.tight_layout()\n",
    "fig.savefig(join(paths.figures, '{}-rv-curves.pdf'.format(e_name)), dpi=dpi)"
   ]
  },
  {
   "cell_type": "markdown",
   "metadata": {},
   "source": [
    "## Corner plots"
   ]
  },
  {
   "cell_type": "code",
   "execution_count": null,
   "metadata": {
    "collapsed": true
   },
   "outputs": [],
   "source": [
    "# Make a corner plot of all samples\n",
    "_med_v0 = np.median(samples1[:,-1])\n",
    "_mad_v0 = np.median(np.abs(samples1[:,-1] - _med_v0))\n",
    "ranges = [(2.55, 6.45), (-0.025, 1.025), (0,360), (0,360), (-7.25, 7.25),\n",
    "          (5, 25), (_med_v0 - 5*_mad_v0, _med_v0 + 5*_mad_v0)]\n",
    "labels = OrbitalParams.get_labels(samples_units)\n",
    "\n",
    "corner_style = dict(alpha=0.5, markersize=2., bins=16, color='#555555')"
   ]
  },
  {
   "cell_type": "code",
   "execution_count": null,
   "metadata": {
    "collapsed": false
   },
   "outputs": [],
   "source": [
    "# remove jitter from (a) plot\n",
    "s_idx = 4\n",
    "fig = apw_corner(np.delete(samples1, s_idx, axis=1), range=np.delete(ranges, s_idx, axis=0),\n",
    "                 truths=np.delete(truth_vec, s_idx), labels=np.delete(labels, s_idx),\n",
    "                 **corner_style)\n",
    "fig.subplots_adjust(left=0.08, bottom=0.08)\n",
    "fig.suptitle(\"Experiment {}(a): fixed jitter\".format(e_number), fontsize=26)\n",
    "fig.savefig(join(paths.figures, '{}-corner-a.pdf'.format(e_name)), dpi=dpi)"
   ]
  },
  {
   "cell_type": "code",
   "execution_count": null,
   "metadata": {
    "collapsed": false
   },
   "outputs": [],
   "source": [
    "fig = apw_corner(samples2, range=ranges, truths=truth_vec, labels=labels, **corner_style)\n",
    "fig.subplots_adjust(left=0.08, bottom=0.08)\n",
    "fig.suptitle(\"Experiment {}(b): sample jitter\".format(e_number), fontsize=26)\n",
    "fig.savefig(join(paths.figures, '{}-corner-b.pdf'.format(e_name)), dpi=dpi)"
   ]
  },
  {
   "cell_type": "code",
   "execution_count": null,
   "metadata": {
    "collapsed": true
   },
   "outputs": [],
   "source": []
  }
 ],
 "metadata": {
  "anaconda-cloud": {},
  "kernelspec": {
   "display_name": "Python [conda env:thejoker]",
   "language": "python",
   "name": "conda-env-thejoker-py"
  },
  "language_info": {
   "codemirror_mode": {
    "name": "ipython",
    "version": 3
   },
   "file_extension": ".py",
   "mimetype": "text/x-python",
   "name": "python",
   "nbconvert_exporter": "python",
   "pygments_lexer": "ipython3",
   "version": "3.5.2"
  }
 },
 "nbformat": 4,
 "nbformat_minor": 1
}