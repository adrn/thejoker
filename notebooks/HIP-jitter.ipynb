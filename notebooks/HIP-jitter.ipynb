{
 "cells": [
  {
   "cell_type": "code",
   "execution_count": null,
   "metadata": {
    "collapsed": false
   },
   "outputs": [],
   "source": [
    "# Standard library\n",
    "import os\n",
    "\n",
    "# Third-party\n",
    "import astropy.time as atime\n",
    "from astropy import log as logger\n",
    "import astropy.units as u\n",
    "import h5py\n",
    "import matplotlib.pyplot as plt\n",
    "%matplotlib inline\n",
    "from matplotlib import gridspec\n",
    "import numpy as np\n",
    "\n",
    "# Project\n",
    "from thejoker import Paths\n",
    "paths = Paths()\n",
    "from thejoker.data import RVData\n",
    "from thejoker.units import default_units\n",
    "from thejoker.util import quantity_from_hdf5\n",
    "from thejoker.celestialmechanics import OrbitalParams, SimulatedRVOrbit, rv_from_elements\n",
    "from thejoker.plot import plot_rv_curves, plot_corner, _prev_result_color\n",
    "\n",
    "plt.style.use('../thejoker/thejoker.mplstyle')"
   ]
  },
  {
   "cell_type": "code",
   "execution_count": null,
   "metadata": {
    "collapsed": false
   },
   "outputs": [],
   "source": [
    "# name = \"HIP102152\"\n",
    "name = \"HIP11915\"\n",
    "\n",
    "samples_filename = \"../cache/{}_jitter.h5\".format(name)\n",
    "data_filename = \"../data/{}_result.h5\".format(name)\n",
    "plot_path = \"../plots/\"\n",
    "os.makedirs(plot_path, exist_ok=True)"
   ]
  },
  {
   "cell_type": "markdown",
   "metadata": {},
   "source": [
    "## First read the orbital parameters sampled for this experiment:"
   ]
  },
  {
   "cell_type": "code",
   "execution_count": null,
   "metadata": {
    "collapsed": false
   },
   "outputs": [],
   "source": [
    "with h5py.File(samples_filename, 'r') as g:\n",
    "#     jitter = g.attrs['jitter_m/s']*u.m/u.s\n",
    "#     P_min = g.attrs['P_min_day']*u.day\n",
    "#     P_max = g.attrs['P_max_day']*u.day\n",
    "\n",
    "    # read the orbital parameters\n",
    "    opars = OrbitalParams.from_hdf5(g)\n",
    "    samples = opars.pack(plot_transform=True)\n",
    "    \n",
    "index_map = dict([(key, i) for i,key in enumerate(opars._name_to_unit.keys())])"
   ]
  },
  {
   "cell_type": "code",
   "execution_count": null,
   "metadata": {
    "collapsed": true
   },
   "outputs": [],
   "source": [
    "# HACK: this should be fixed for next run\n",
    "i,j = index_map['omega'], index_map['K']\n",
    "\n",
    "_idx = samples[:,j] < 0\n",
    "samples[_idx, j] = np.abs(samples[_idx, j])\n",
    "samples[_idx, i] += np.pi\n",
    "samples[_idx, i] = samples[_idx, i] % (2*np.pi)"
   ]
  },
  {
   "cell_type": "code",
   "execution_count": null,
   "metadata": {
    "collapsed": false
   },
   "outputs": [],
   "source": [
    "samples.shape"
   ]
  },
  {
   "cell_type": "code",
   "execution_count": null,
   "metadata": {
    "collapsed": false
   },
   "outputs": [],
   "source": [
    "# bedell_mf,bedell_asini = SimulatedRVOrbit.P_K_ecc_to_mf_asini_ecc(3830*u.day, (12.9*u.m/u.s), 0.1)"
   ]
  },
  {
   "cell_type": "code",
   "execution_count": null,
   "metadata": {
    "collapsed": true
   },
   "outputs": [],
   "source": [
    "# truths = [np.log(3830), np.log(bedell_asini.to(u.Rsun).value), 0.1, 0, 0, 0, 0]"
   ]
  },
  {
   "cell_type": "markdown",
   "metadata": {},
   "source": [
    "## read the data:"
   ]
  },
  {
   "cell_type": "code",
   "execution_count": null,
   "metadata": {
    "collapsed": false
   },
   "outputs": [],
   "source": [
    "with h5py.File(data_filename, 'r') as g:\n",
    "    bmjd = g['mjd'][:]\n",
    "    rv = quantity_from_hdf5(g, 'rv')\n",
    "    rv_err = quantity_from_hdf5(g, 'rv_err')\n",
    "data = RVData(bmjd, rv, stddev=rv_err)"
   ]
  },
  {
   "cell_type": "code",
   "execution_count": null,
   "metadata": {
    "collapsed": false
   },
   "outputs": [],
   "source": [
    "plt.hist(opars.jitter)"
   ]
  },
  {
   "cell_type": "code",
   "execution_count": null,
   "metadata": {
    "collapsed": false
   },
   "outputs": [],
   "source": [
    "fig,ax = plt.subplots(1,1,figsize=(8,6))\n",
    "\n",
    "dmjd = bmjd.max() - bmjd.min()\n",
    "t_grid = np.linspace(bmjd.min() -0.25*dmjd, \n",
    "                     bmjd.max() + 0.25*dmjd, \n",
    "                     1024)\n",
    "\n",
    "rv_unit = u.m/u.s\n",
    "\n",
    "plot_rv_curves(opars, t_grid, rv_unit=rv_unit, \n",
    "               data=data, ax=ax, \n",
    "               plot_kwargs={'color': '#888888', 'zorder': -100, 'marker': ''},\n",
    "               data_plot_kwargs={'ecolor': 'k', 'markersize': 3, 'elinewidth': 1, 'alpha': 1., 'zorder': 100})\n",
    "\n",
    "# derp_i = np.argmin(samples[:,6])\n",
    "# plot_rv_curves(opars[derp_i:derp_i+1], t_grid, rv_unit=rv_unit,\n",
    "#                data=data, ax=ax, \n",
    "#                plot_kwargs={'color': '#888888', 'zorder': -100},\n",
    "#                data_plot_kwargs={'ecolor': 'k', 'markersize': 3, 'elinewidth': 1, 'alpha': 1., 'zorder': 100})\n",
    "\n",
    "ax.set_rasterization_zorder(-1)\n",
    "# ax.set_ylim(-40, -18)\n",
    "\n",
    "ax.set_title(name)\n",
    "fig.tight_layout()"
   ]
  },
  {
   "cell_type": "code",
   "execution_count": null,
   "metadata": {
    "collapsed": false
   },
   "outputs": [],
   "source": [
    "fig = plt.figure(figsize=(8,6.5))\n",
    "\n",
    "gs = gridspec.GridSpec(2, 2)\n",
    "\n",
    "# First, the RV curves\n",
    "dmjd = bmjd.max() - bmjd.min()\n",
    "t_grid = np.linspace(bmjd.min() -0.25*dmjd, \n",
    "                     bmjd.max() + 0.25*dmjd, \n",
    "                     1024)\n",
    "\n",
    "ax = fig.add_subplot(gs[0, :])\n",
    "ax.set_title(name)\n",
    "plot_rv_curves(opars[:128], t_grid, rv_unit=rv_unit,\n",
    "               ax=ax, plot_kwargs={'color': '#888888', 'zorder': -100})\n",
    "\n",
    "data.plot(ax=ax, rv_unit=rv_unit, ecolor='k', markersize=3, \n",
    "          elinewidth=1, alpha=1., zorder=100)\n",
    "ax.set_ylim(-15, 15)\n",
    "\n",
    "# Projections of the posterior samples:\n",
    "ax2 = fig.add_subplot(gs[1,0])\n",
    "ax3 = fig.add_subplot(gs[1,1])\n",
    "\n",
    "style = dict(alpha=0.5, marker=',', linestyle='none', zorder=-100, color='#888888')\n",
    "ax2.plot(samples[:,index_map['P']], samples[:,index_map['ecc']], **style)\n",
    "ax3.plot(samples[:,index_map['K']], samples[:,index_map['ecc']], **style)\n",
    "\n",
    "lnP_lim = [np.log(16), 8]\n",
    "K_lim = [0, 10]\n",
    "ecc_lim = [-0.025, 1.025]\n",
    "\n",
    "ax2.set_xlim(lnP_lim)\n",
    "ax2.set_ylim(ecc_lim)\n",
    "ax2.set_xlabel(opars._latex_labels[index_map['P']])\n",
    "ax2.set_ylabel(opars._latex_labels[index_map['ecc']])\n",
    "\n",
    "ax3.set_xlim(K_lim)\n",
    "ax3.set_ylim(ecc_lim)\n",
    "ax3.set_xlabel(opars._latex_labels[index_map['K']])\n",
    "\n",
    "ax2.xaxis.set_ticks(range(3,8+1))\n",
    "# ax3.xaxis.set_ticks(range(-16,0+1,4))\n",
    "ax3.yaxis.set_ticklabels([])\n",
    "\n",
    "for ax in fig.axes:\n",
    "    ax.set_rasterization_zorder(-1)\n",
    "    \n",
    "fig.tight_layout()\n",
    "\n",
    "fig.subplots_adjust(hspace=0.5)\n",
    "\n",
    "# fig.savefig(os.path.join(plot_path, '{}-rvcurve.pdf'.format(name)), dpi=128) # change to: dpi=256 for production?"
   ]
  },
  {
   "cell_type": "code",
   "execution_count": null,
   "metadata": {
    "collapsed": true
   },
   "outputs": [],
   "source": []
  },
  {
   "cell_type": "markdown",
   "metadata": {},
   "source": [
    "## Corner"
   ]
  },
  {
   "cell_type": "code",
   "execution_count": null,
   "metadata": {
    "collapsed": false
   },
   "outputs": [],
   "source": [
    "samples = opars.pack(plot_units=True)\n",
    "\n",
    "_med_v0 = np.median(samples[:,5])\n",
    "_mad_v0 = np.median(np.abs(samples[:,5] - _med_v0))\n",
    "\n",
    "ranges = [\n",
    "    lnP_lim,\n",
    "    lnasini_lim,\n",
    "    ecc_lim,\n",
    "    (0,360),\n",
    "    (0,360),\n",
    "    (_med_v0 - 7*_mad_v0, _med_v0 + 7*_mad_v0),\n",
    "    (0, 60)\n",
    "]"
   ]
  },
  {
   "cell_type": "code",
   "execution_count": null,
   "metadata": {
    "collapsed": false
   },
   "outputs": [],
   "source": [
    "fig = plot_corner(opars, alpha=0.04, range=ranges, truth_color=_prev_result_color, \n",
    "                  plot_contours=True, plot_density=True, bins=32, color='#666666',\n",
    "                  truth=truths)\n",
    "fig.suptitle(\"{}\".format(name), fontsize=26)\n",
    "fig.savefig(os.path.join(plot_path, '{}-corner.pdf'.format(name)), dpi=128) # change to: dpi=256 for production?"
   ]
  },
  {
   "cell_type": "code",
   "execution_count": null,
   "metadata": {
    "collapsed": true
   },
   "outputs": [],
   "source": []
  }
 ],
 "metadata": {
  "anaconda-cloud": {},
  "kernelspec": {
   "display_name": "Python [conda env:thejoker]",
   "language": "python",
   "name": "conda-env-thejoker-py"
  },
  "language_info": {
   "codemirror_mode": {
    "name": "ipython",
    "version": 3
   },
   "file_extension": ".py",
   "mimetype": "text/x-python",
   "name": "python",
   "nbconvert_exporter": "python",
   "pygments_lexer": "ipython3",
   "version": "3.5.2"
  }
 },
 "nbformat": 4,
 "nbformat_minor": 1
}