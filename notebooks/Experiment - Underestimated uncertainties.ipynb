{
 "cells": [
  {
   "cell_type": "code",
   "execution_count": null,
   "metadata": {
    "collapsed": false
   },
   "outputs": [],
   "source": [
    "# Standard library\n",
    "from os.path import join\n",
    "\n",
    "# Third-party\n",
    "import corner\n",
    "import astropy.units as u\n",
    "import h5py\n",
    "import matplotlib.pyplot as plt\n",
    "%matplotlib inline\n",
    "import numpy as np\n",
    "\n",
    "# Project\n",
    "from thejoker import Paths\n",
    "paths = Paths()\n",
    "from thejoker.data import RVData\n",
    "from thejoker.celestialmechanics import OrbitalParams\n",
    "from thejoker.plot import plot_rv_curves, _truth_color\n",
    "\n",
    "plt.style.use('../thejoker/thejoker.mplstyle')\n",
    "\n",
    "from figurehelpers import samples_units, make_rv_curve_figure, apw_corner"
   ]
  },
  {
   "cell_type": "code",
   "execution_count": null,
   "metadata": {
    "collapsed": true
   },
   "outputs": [],
   "source": [
    "dpi = 256"
   ]
  },
  {
   "cell_type": "code",
   "execution_count": null,
   "metadata": {
    "collapsed": true
   },
   "outputs": [],
   "source": [
    "# experiment number\n",
    "e_number = 2\n",
    "e_name = 'undunc'"
   ]
  },
  {
   "cell_type": "code",
   "execution_count": null,
   "metadata": {
    "collapsed": true
   },
   "outputs": [],
   "source": [
    "data_filename = \"../data/experiment{}.h5\".format(e_number)"
   ]
  },
  {
   "cell_type": "markdown",
   "metadata": {},
   "source": [
    "## read the data:"
   ]
  },
  {
   "cell_type": "code",
   "execution_count": null,
   "metadata": {
    "collapsed": false
   },
   "outputs": [],
   "source": [
    "# read the data\n",
    "with h5py.File(data_filename, 'r') as f:\n",
    "    data1 = RVData.from_hdf5(f['a'])\n",
    "    data2 = RVData.from_hdf5(f['b'])\n",
    "    truth_pars = OrbitalParams.from_hdf5(f['truth'])\n",
    "    truth_vec = truth_pars.pack(plot_transform=True, units=samples_units)[0]\n",
    "\n",
    "# read the samples from fixing the jitter\n",
    "with h5py.File(join(paths.cache, 'experiment{}-fixed-jitter-a.h5'.format(e_number)), 'r') as g:\n",
    "    pars1 = OrbitalParams.from_hdf5(g)\n",
    "    samples1 = pars1.pack(plot_transform=True, units=samples_units)\n",
    "\n",
    "# read the samples from sampling over the jitter\n",
    "with h5py.File(join(paths.cache, 'experiment{}-fixed-jitter-b.h5'.format(e_number)), 'r') as g:\n",
    "    pars2 = OrbitalParams.from_hdf5(g)\n",
    "    samples2 = pars2.pack(plot_transform=True, units=samples_units)\n",
    "    \n",
    "# read the samples from sampling over the jitter\n",
    "with h5py.File(join(paths.cache, 'experiment{}-sample-jitter-b.h5'.format(e_number)), 'r') as g:\n",
    "    pars3 = OrbitalParams.from_hdf5(g)\n",
    "    samples3 = pars3.pack(plot_transform=True, units=samples_units)\n",
    "\n",
    "print(\"{} samples survived (a)\".format(samples1.shape[0]))\n",
    "print(\"{} samples survived (b)\".format(samples2.shape[0]))\n",
    "print(\"{} samples survived (c)\".format(samples3.shape[0]))"
   ]
  },
  {
   "cell_type": "code",
   "execution_count": null,
   "metadata": {
    "collapsed": false
   },
   "outputs": [],
   "source": [
    "t_grid = np.linspace(data1.t.mjd.min(), data1.t.mjd.max(), 1024)\n",
    "truth_rv = truth_pars.rv_orbit(0).generate_rv_curve(t_grid)\n",
    "\n",
    "plt.plot(t_grid, truth_rv.to(samples_units['v0']).value, linestyle='--', \n",
    "         marker='', linewidth=1, alpha=0.9, color=_truth_color)\n",
    "data1.plot(ax=plt.gca(), rv_unit=samples_units['v0'])"
   ]
  },
  {
   "cell_type": "code",
   "execution_count": null,
   "metadata": {
    "collapsed": false
   },
   "outputs": [],
   "source": [
    "fig = make_rv_curve_figure([data1, data2, data2], [pars1, pars2, pars3], \n",
    "                           truth_pars=truth_pars,\n",
    "                           units=samples_units, rv_lim=(4, 12))\n",
    "fig.axes[0].set_title(\"Experiment {}\".format(e_number), fontsize=22)\n",
    "\n",
    "fig.axes[0].text(55900, 10.8, \"(a)\", fontsize=18)\n",
    "fig.axes[1].text(55900, 10.8, \"(b)\", fontsize=18)\n",
    "fig.axes[2].text(55900, 10.8, \"(c)\", fontsize=18)\n",
    "\n",
    "fig.tight_layout()\n",
    "fig.savefig(join(paths.figures, '{}-rv-curves.pdf'.format(e_name)), dpi=dpi)"
   ]
  },
  {
   "cell_type": "markdown",
   "metadata": {},
   "source": [
    "## Corner plots"
   ]
  },
  {
   "cell_type": "code",
   "execution_count": null,
   "metadata": {
    "collapsed": true
   },
   "outputs": [],
   "source": [
    "# Make a corner plot of all samples\n",
    "_med_v0 = np.median(samples1[:,-1])\n",
    "_mad_v0 = np.median(np.abs(samples1[:,-1] - _med_v0))\n",
    "ranges = [(2.55, 6.45), (-0.025, 1.025), (0,360), (0,360), (2.5, 7.25),\n",
    "          (0.5, 3.5), (_med_v0 - 5*_mad_v0, _med_v0 + 5*_mad_v0)]\n",
    "labels = OrbitalParams.get_labels(samples_units)\n",
    "\n",
    "corner_style = dict(alpha=0.5, markersize=2., bins=16, color='#555555')"
   ]
  },
  {
   "cell_type": "code",
   "execution_count": null,
   "metadata": {
    "collapsed": true
   },
   "outputs": [],
   "source": [
    "# remove angles\n",
    "a_idx = [2,3]\n",
    "\n",
    "# used to remove jitter from samples\n",
    "s_idx = 4"
   ]
  },
  {
   "cell_type": "code",
   "execution_count": null,
   "metadata": {
    "collapsed": false
   },
   "outputs": [],
   "source": [
    "_style = corner_style.copy()\n",
    "_style['alpha'] = 0.1\n",
    "_style['markersize'] = 1.\n",
    "\n",
    "_idx = np.concatenate((a_idx, [s_idx]))\n",
    "fig = apw_corner(np.delete(samples1, _idx, axis=1), \n",
    "                 range=np.delete(ranges, _idx, axis=0),\n",
    "                 truths=np.delete(truth_vec, _idx), \n",
    "                 labels=np.delete(labels, _idx),\n",
    "                 **_style)\n",
    "fig.subplots_adjust(left=0.12, bottom=0.12, top=0.94)\n",
    "fig.suptitle(\"Experiment {}(a): fixed jitter\".format(e_number), fontsize=24)\n",
    "fig.savefig(join(paths.figures, '{}-corner-a.pdf'.format(e_name)), dpi=dpi)"
   ]
  },
  {
   "cell_type": "code",
   "execution_count": null,
   "metadata": {
    "collapsed": false
   },
   "outputs": [],
   "source": [
    "_style = corner_style.copy()\n",
    "\n",
    "_idx = np.concatenate((a_idx, [s_idx]))\n",
    "fig = apw_corner(np.delete(samples2, _idx, axis=1), \n",
    "                 range=np.delete(ranges, _idx, axis=0),\n",
    "                 truths=np.delete(truth_vec, _idx), \n",
    "                 labels=np.delete(labels, _idx),\n",
    "                 **_style)\n",
    "fig.subplots_adjust(left=0.12, bottom=0.12, top=0.94)\n",
    "fig.suptitle(\"Experiment {}(b): fixed jitter, underestimated errors\".format(e_number), fontsize=24)\n",
    "fig.savefig(join(paths.figures, '{}-corner-b.pdf'.format(e_name)), dpi=dpi)"
   ]
  },
  {
   "cell_type": "code",
   "execution_count": null,
   "metadata": {
    "collapsed": false
   },
   "outputs": [],
   "source": [
    "_idx = a_idx\n",
    "fig = apw_corner(np.delete(samples3, _idx, axis=1), \n",
    "                  range=np.delete(ranges, _idx, axis=0),\n",
    "                  truths=np.delete(truth_vec, _idx), \n",
    "                  labels=np.delete(labels, _idx),\n",
    "                  **corner_style)\n",
    "\n",
    "fig.subplots_adjust(left=0.12, bottom=0.12, top=0.94)\n",
    "fig.suptitle(\"Experiment {}(c): sample jitter, underestimated errors\".format(e_number), fontsize=26)\n",
    "fig.savefig(join(paths.figures, '{}-corner-c.pdf'.format(e_name)), dpi=dpi)"
   ]
  },
  {
   "cell_type": "code",
   "execution_count": null,
   "metadata": {
    "collapsed": true
   },
   "outputs": [],
   "source": []
  }
 ],
 "metadata": {
  "anaconda-cloud": {},
  "kernelspec": {
   "display_name": "Python [conda env:thejoker]",
   "language": "python",
   "name": "conda-env-thejoker-py"
  },
  "language_info": {
   "codemirror_mode": {
    "name": "ipython",
    "version": 3
   },
   "file_extension": ".py",
   "mimetype": "text/x-python",
   "name": "python",
   "nbconvert_exporter": "python",
   "pygments_lexer": "ipython3",
   "version": "3.5.2"
  }
 },
 "nbformat": 4,
 "nbformat_minor": 1
}