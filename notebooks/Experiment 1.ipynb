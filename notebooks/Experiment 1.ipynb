{
 "cells": [
  {
   "cell_type": "code",
   "execution_count": null,
   "metadata": {
    "collapsed": false
   },
   "outputs": [],
   "source": [
    "# Standard library\n",
    "import os\n",
    "\n",
    "# Third-party\n",
    "import astropy.time as atime\n",
    "from astropy import log as logger\n",
    "import astropy.units as u\n",
    "import h5py\n",
    "import matplotlib.pyplot as plt\n",
    "%matplotlib inline\n",
    "import numpy as np\n",
    "\n",
    "# Project\n",
    "from thejoker import Paths\n",
    "paths = Paths()\n",
    "from thejoker.data import RVData\n",
    "from thejoker.units import usys\n",
    "from thejoker.util import quantity_from_hdf5\n",
    "from thejoker.celestialmechanics import OrbitalParams, SimulatedRVOrbit, rv_from_elements\n",
    "from thejoker.plot import plot_rv_curves, plot_corner\n",
    "\n",
    "plt.style.use('../thejoker/thejoker.mplstyle')"
   ]
  },
  {
   "cell_type": "code",
   "execution_count": null,
   "metadata": {
    "collapsed": true
   },
   "outputs": [],
   "source": [
    "samples_filename = \"../cache/2M00110648+6609349.h5\"\n",
    "data_filename = \"../data/troup-allVisit.h5\"\n",
    "plot_path = \"../paper/figures/\"\n",
    "os.makedirs(plot_path, exist_ok=True)"
   ]
  },
  {
   "cell_type": "markdown",
   "metadata": {},
   "source": [
    "## First read the orbital parameters sampled for this experiment:"
   ]
  },
  {
   "cell_type": "code",
   "execution_count": null,
   "metadata": {
    "collapsed": false
   },
   "outputs": [],
   "source": [
    "name = os.path.splitext(os.path.split(samples_filename)[1])[0]\n",
    "hdf5_key = name\n",
    "print(name)"
   ]
  },
  {
   "cell_type": "code",
   "execution_count": null,
   "metadata": {
    "collapsed": true
   },
   "outputs": [],
   "source": [
    "with h5py.File(samples_filename, 'r') as g:\n",
    "    jitter = g.attrs['jitter_m/s']*u.m/u.s\n",
    "    P_min = g.attrs['P_min_day']*u.day\n",
    "    P_max = g.attrs['P_max_day']*u.day\n",
    "\n",
    "    # read the orbital parameters\n",
    "    opars = OrbitalParams.from_hdf5(g)"
   ]
  },
  {
   "cell_type": "markdown",
   "metadata": {},
   "source": [
    "## read the data:"
   ]
  },
  {
   "cell_type": "code",
   "execution_count": null,
   "metadata": {
    "collapsed": false
   },
   "outputs": [],
   "source": [
    "with h5py.File(data_filename, 'r') as f:\n",
    "    g = f[hdf5_key]\n",
    "\n",
    "    bmjd = g['mjd'][:]\n",
    "    rv = quantity_from_hdf5(g, 'rv')\n",
    "    rv_err = quantity_from_hdf5(g, 'rv_err')\n",
    "data = RVData(bmjd, rv, stddev=rv_err)"
   ]
  },
  {
   "cell_type": "markdown",
   "metadata": {},
   "source": [
    "### Read in Troup's fit values for the orbital parameters:"
   ]
  },
  {
   "cell_type": "code",
   "execution_count": null,
   "metadata": {
    "collapsed": true
   },
   "outputs": [],
   "source": [
    "all_troup_data = np.genfromtxt(os.path.join(paths.root, \"data\", \"troup16-dr12.csv\"),\n",
    "                               delimiter=\",\", names=True, dtype=None)\n",
    "troup_data = all_troup_data[all_troup_data['APOGEE_ID'].astype(str) == name]"
   ]
  },
  {
   "cell_type": "code",
   "execution_count": null,
   "metadata": {
    "collapsed": false
   },
   "outputs": [],
   "source": [
    "troup_P = troup_data['PERIOD'] * u.day\n",
    "troup_ecc = troup_data['ECC']\n",
    "_,troup_asini = SimulatedRVOrbit.P_K_ecc_to_mf_asini_ecc(troup_P, troup_data['SEMIAMP']*u.m/u.s, troup_ecc)\n",
    "troup_omega = (troup_data['OMEGA'] % (2*np.pi)) * u.radian\n",
    "\n",
    "dt0 = atime.Time(troup_data['TPERI'], format='jd', scale='tcb').tcb.mjd - data.t_offset\n",
    "troup_phi0 = 2*np.pi*dt0/troup_P.value * u.radian\n",
    "\n",
    "troup_v0 = troup_data['V0'] * u.m/u.s\n",
    "print(troup_data['SLOPE'])"
   ]
  },
  {
   "cell_type": "code",
   "execution_count": null,
   "metadata": {
    "collapsed": false
   },
   "outputs": [],
   "source": [
    "troup_truths = np.concatenate((np.log(troup_P.to(u.day).value),\n",
    "                               np.log(troup_asini.to(u.R_sun).value),\n",
    "                               troup_ecc,\n",
    "                               troup_omega.to(u.degree).value % 360.,\n",
    "                               troup_phi0.to(u.degree).value % 360.,\n",
    "                               troup_v0.to(u.km/u.s).value))"
   ]
  },
  {
   "cell_type": "markdown",
   "metadata": {},
   "source": [
    "## RV curves"
   ]
  },
  {
   "cell_type": "code",
   "execution_count": null,
   "metadata": {
    "collapsed": true
   },
   "outputs": [],
   "source": [
    "troup_orbit = SimulatedRVOrbit(P=troup_P, a_sin_i=troup_asini, ecc=troup_ecc, \n",
    "                               omega=troup_omega, phi0=troup_phi0, v0=troup_v0)"
   ]
  },
  {
   "cell_type": "code",
   "execution_count": null,
   "metadata": {
    "collapsed": false
   },
   "outputs": [],
   "source": [
    "fig,ax = plt.subplots(1,1,figsize=(8,6))\n",
    "\n",
    "data.plot(ax=ax, ecolor='k', markersize=3, elinewidth=2, alpha=1, rv_unit=u.km/u.s)\n",
    "\n",
    "t_grid = np.linspace(data._t.min()-100, data._t.max()+100, 1024) + data.t_offset\n",
    "model_rv = troup_orbit.generate_rv_curve(t_grid)\n",
    "\n",
    "ax.plot(t_grid, model_rv, marker=None, alpha=0.5, color='r')"
   ]
  },
  {
   "cell_type": "code",
   "execution_count": null,
   "metadata": {
    "collapsed": true
   },
   "outputs": [],
   "source": [
    "def opt_func(p):\n",
    "    _omega, _phi0, _v0 = p\n",
    "    _orbit = SimulatedRVOrbit(P=troup_P, a_sin_i=-troup_asini, ecc=troup_ecc, \n",
    "                              omega=_omega*usys['angle'], phi0=_phi0*usys['angle'], v0=_v0*usys['speed'])\n",
    "    \n",
    "    model_rv = _orbit.generate_rv_curve(data._t)\n",
    "    return (data._rv - model_rv.decompose(usys).value) * np.sqrt(data._ivar)"
   ]
  },
  {
   "cell_type": "code",
   "execution_count": null,
   "metadata": {
    "collapsed": true
   },
   "outputs": [],
   "source": [
    "from scipy.optimize import leastsq"
   ]
  },
  {
   "cell_type": "code",
   "execution_count": null,
   "metadata": {
    "collapsed": false
   },
   "outputs": [],
   "source": [
    "p0 = [troup_omega.decompose(usys).value, troup_phi0.decompose(usys).value, troup_v0.decompose(usys).value]\n",
    "p_opt,ier = leastsq(opt_func, p0)\n",
    "print(ier)\n",
    "print(p0, p_opt)"
   ]
  },
  {
   "cell_type": "code",
   "execution_count": null,
   "metadata": {
    "collapsed": true
   },
   "outputs": [],
   "source": [
    "opt_troup_orbit = SimulatedRVOrbit(P=troup_P, a_sin_i=-troup_asini, ecc=troup_ecc, \n",
    "                                   omega=p_opt[0]*usys['angle'], phi0=p_opt[1]*usys['angle'], \n",
    "                                   v0=p_opt[2]*usys['speed'])"
   ]
  },
  {
   "cell_type": "code",
   "execution_count": null,
   "metadata": {
    "collapsed": false
   },
   "outputs": [],
   "source": [
    "fig,ax = plt.subplots(1,1,figsize=(8,6))\n",
    "\n",
    "data.plot(ax=ax, ecolor='k', markersize=3, elinewidth=2, alpha=1, rv_unit=u.km/u.s)\n",
    "\n",
    "t_grid = np.linspace(data._t.min()-100, data._t.max()+100, 1024) + data.t_offset\n",
    "model_rv = opt_troup_orbit.generate_rv_curve(t_grid)\n",
    "\n",
    "ax.plot(t_grid, model_rv, marker=None, alpha=0.5, color='r')"
   ]
  },
  {
   "cell_type": "markdown",
   "metadata": {},
   "source": [
    "---"
   ]
  },
  {
   "cell_type": "code",
   "execution_count": null,
   "metadata": {
    "collapsed": false
   },
   "outputs": [],
   "source": [
    "fig,ax = plt.subplots(1,1,figsize=(8,6))\n",
    "\n",
    "dmjd = bmjd.max() - bmjd.min()\n",
    "t_grid = np.linspace(bmjd.min() -0.25*dmjd, \n",
    "                     bmjd.max() + 0.25*dmjd, \n",
    "                     1024)\n",
    "\n",
    "rv_unit = u.km/u.s\n",
    "\n",
    "plot_rv_curves(opars[:512], t_grid, rv_unit=rv_unit,\n",
    "               data=data, ax=ax, \n",
    "               plot_kwargs={'color': '#888888', 'zorder': -100},\n",
    "               data_plot_kwargs={'ecolor': 'k', 'markersize': 3, 'elinewidth': 1, 'alpha': 1., 'zorder': 100})\n",
    "\n",
    "ax.set_rasterization_zorder(-1)\n",
    "ax.set_ylim(-40, -18)\n",
    "\n",
    "ax.set_title(name)\n",
    "fig.tight_layout()\n",
    "fig.savefig(os.path.join(plot_path, 'exp1-rv-curves.pdf'), dpi=100) # change to: dpi=256 for production?"
   ]
  },
  {
   "cell_type": "markdown",
   "metadata": {},
   "source": [
    "## Corner"
   ]
  },
  {
   "cell_type": "code",
   "execution_count": null,
   "metadata": {
    "collapsed": false
   },
   "outputs": [],
   "source": [
    "samples = opars.pack(plot_units=True)\n",
    "\n",
    "_med_v0 = np.median(samples[:,5])\n",
    "_mad_v0 = np.median(np.abs(samples[:,5] - _med_v0))\n",
    "\n",
    "ranges = [\n",
    "    (4.5, 7.5),\n",
    "    (1.5, 5.5),\n",
    "    (0,1),\n",
    "    (0,360),\n",
    "    (0,360),\n",
    "    (_med_v0 - 5*_mad_v0, _med_v0 + 5*_mad_v0)\n",
    "]"
   ]
  },
  {
   "cell_type": "code",
   "execution_count": null,
   "metadata": {
    "collapsed": false
   },
   "outputs": [],
   "source": [
    "fig = plot_corner(opars, alpha=0.02, truths=troup_truths, range=ranges, \n",
    "                  plot_contours=True, plot_density=True, bins=32)\n",
    "fig.suptitle(name, fontsize=26)\n",
    "fig.savefig(os.path.join(plot_path, 'exp1-corner.pdf'), dpi=100) # change to: dpi=256 for production?"
   ]
  },
  {
   "cell_type": "code",
   "execution_count": null,
   "metadata": {
    "collapsed": true
   },
   "outputs": [],
   "source": []
  }
 ],
 "metadata": {
  "anaconda-cloud": {},
  "kernelspec": {
   "display_name": "Python [conda env:thejoker]",
   "language": "python",
   "name": "conda-env-thejoker-py"
  },
  "language_info": {
   "codemirror_mode": {
    "name": "ipython",
    "version": 3
   },
   "file_extension": ".py",
   "mimetype": "text/x-python",
   "name": "python",
   "nbconvert_exporter": "python",
   "pygments_lexer": "ipython3",
   "version": "3.5.2"
  }
 },
 "nbformat": 4,
 "nbformat_minor": 1
}