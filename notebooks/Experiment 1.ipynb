{
 "cells": [
  {
   "cell_type": "code",
   "execution_count": null,
   "metadata": {
    "collapsed": false
   },
   "outputs": [],
   "source": [
    "# Standard library\n",
    "import os\n",
    "\n",
    "# Third-party\n",
    "import astropy.time as atime\n",
    "from astropy import log as logger\n",
    "import astropy.units as u\n",
    "import h5py\n",
    "import matplotlib.pyplot as plt\n",
    "%matplotlib inline\n",
    "import numpy as np\n",
    "import matplotlib.gridspec as gridspec\n",
    "\n",
    "# Project\n",
    "from thejoker import Paths\n",
    "paths = Paths()\n",
    "from thejoker.data import RVData\n",
    "from thejoker.units import usys\n",
    "from thejoker.util import quantity_from_hdf5\n",
    "from thejoker.celestialmechanics import OrbitalParams, SimulatedRVOrbit, rv_from_elements\n",
    "from thejoker.plot import plot_rv_curves, plot_corner, _truth_color\n",
    "\n",
    "plt.style.use('../thejoker/thejoker.mplstyle')"
   ]
  },
  {
   "cell_type": "code",
   "execution_count": null,
   "metadata": {
    "collapsed": true
   },
   "outputs": [],
   "source": [
    "samples_filename = \"../cache/experiment1.h5\"\n",
    "data_filename = \"../data/experiment1.h5\"\n",
    "plot_path = \"../paper/figures/\"\n",
    "os.makedirs(plot_path, exist_ok=True)"
   ]
  },
  {
   "cell_type": "code",
   "execution_count": null,
   "metadata": {
    "collapsed": true
   },
   "outputs": [],
   "source": [
    "rv_unit = u.km/u.s"
   ]
  },
  {
   "cell_type": "markdown",
   "metadata": {},
   "source": [
    "## read the data:"
   ]
  },
  {
   "cell_type": "code",
   "execution_count": null,
   "metadata": {
    "collapsed": false
   },
   "outputs": [],
   "source": [
    "with h5py.File(data_filename, 'r') as f:\n",
    "    data = RVData.from_hdf5(f)\n",
    "    truth_opars = OrbitalParams.unpack(f['truth_vector'])\n",
    "(truth_opars.P, truth_opars.asini, truth_opars.ecc, truth_opars.omega.to(u.degree), \n",
    " truth_opars.phi0.to(u.degree), truth_opars.v0.to(u.km/u.s))"
   ]
  },
  {
   "cell_type": "code",
   "execution_count": null,
   "metadata": {
    "collapsed": false
   },
   "outputs": [],
   "source": [
    "data.plot(rv_unit=u.km/u.s)\n",
    "dmjd = data._t.max() - data._t.min()\n",
    "t_grid = np.linspace(data._t.min() -0.25*dmjd, \n",
    "                     data._t.max() + 0.25*dmjd, \n",
    "                     1024)\n",
    "\n",
    "truth_rv = truth_opars.rv_orbit(0).generate_rv_curve(t_grid + data.t_offset)\n",
    "plt.plot(t_grid + data.t_offset, truth_rv.to(rv_unit).value, linestyle='--', \n",
    "         marker=None, linewidth=1, alpha=0.9, color=_truth_color)"
   ]
  },
  {
   "cell_type": "markdown",
   "metadata": {},
   "source": [
    "## First read the orbital parameters sampled for this experiment:"
   ]
  },
  {
   "cell_type": "code",
   "execution_count": null,
   "metadata": {
    "collapsed": false
   },
   "outputs": [],
   "source": [
    "with h5py.File(samples_filename, 'r') as g:\n",
    "    jitter = g.attrs['jitter_m/s']*u.m/u.s\n",
    "    P_min = g.attrs['P_min_day']*u.day\n",
    "    P_max = g.attrs['P_max_day']*u.day\n",
    "\n",
    "    # read the orbital parameters\n",
    "    opars = OrbitalParams.from_hdf5(g)\n",
    "    samples = opars.pack(plot_units=True)\n",
    "    samples[:,4] -= np.degrees((2*np.pi*data.t_offset / opars.P.to(u.day).value) % (2*np.pi))"
   ]
  },
  {
   "cell_type": "code",
   "execution_count": null,
   "metadata": {
    "collapsed": false,
    "scrolled": true
   },
   "outputs": [],
   "source": [
    "samples.shape"
   ]
  },
  {
   "cell_type": "markdown",
   "metadata": {},
   "source": [
    "## The Figure"
   ]
  },
  {
   "cell_type": "code",
   "execution_count": null,
   "metadata": {
    "collapsed": false
   },
   "outputs": [],
   "source": [
    "fig = plt.figure(figsize=(8,6.5))\n",
    "\n",
    "gs = gridspec.GridSpec(2, 2)\n",
    "\n",
    "# First, the RV curves\n",
    "dmjd = data._t.max() - data._t.min()\n",
    "t_grid = np.linspace(data._t.min() -0.25*dmjd, \n",
    "                     data._t.max() + 0.25*dmjd, \n",
    "                     1024)\n",
    "\n",
    "ax = fig.add_subplot(gs[0, :])\n",
    "ax.set_title(\"Experiment 1\")\n",
    "plot_rv_curves(opars[:128], t_grid + data.t_offset, rv_unit=rv_unit,\n",
    "               ax=ax, t_offset=data.t_offset,\n",
    "               plot_kwargs={'color': '#888888', 'zorder': -100})\n",
    "\n",
    "data.plot(ax=ax, rv_unit=rv_unit, ecolor='k', markersize=3, \n",
    "          elinewidth=1, alpha=1., zorder=100)\n",
    "ax.set_xlim(t_grid.min()+data.t_offset, t_grid.max()+data.t_offset)\n",
    "# ax.set_ylim(0, 30)\n",
    "ax.set_ylim(truth_opars.v0.to(rv_unit).value - 15, truth_opars.v0.to(rv_unit).value + 15)\n",
    "\n",
    "# Projections of the posterior samples:\n",
    "ax2 = fig.add_subplot(gs[1,0])\n",
    "ax3 = fig.add_subplot(gs[1,1])\n",
    "\n",
    "style = dict(alpha=0.25, marker='.', linestyle='none', zorder=-100, color='#888888')\n",
    "ax2.plot(samples[:,0], samples[:,2], **style)\n",
    "ax3.plot(samples[:,1], samples[:,2], **style)\n",
    "\n",
    "# -------------------------------------------------------------\n",
    "# now plot the truth:\n",
    "truth_rv = truth_opars.rv_orbit(0).generate_rv_curve(t_grid + data.t_offset)\n",
    "truth_vec = truth_opars.pack(plot_units=True)[0]\n",
    "ax.plot(t_grid + data.t_offset, truth_rv.to(rv_unit).value, linestyle='--', \n",
    "        marker=None, linewidth=1, alpha=0.9, color=_truth_color)\n",
    "ax2.scatter(truth_vec[0], truth_vec[2], marker='+', color=_truth_color, s=40, alpha=0.8)\n",
    "ax3.scatter(truth_vec[1], truth_vec[2], marker='+', color=_truth_color, s=40, alpha=0.8)\n",
    "\n",
    "lnP_lim = [2.5, 6.5]\n",
    "lnasini_lim = [-0.5, 3.5]\n",
    "ecc_lim = [-0.025, 1.025]\n",
    "\n",
    "ax2.set_xlim(lnP_lim)\n",
    "ax2.set_ylim(ecc_lim)\n",
    "ax2.set_xlabel(opars._latex_labels[0])\n",
    "ax2.set_ylabel(opars._latex_labels[2])\n",
    "\n",
    "ax3.set_xlim(lnasini_lim)\n",
    "ax3.set_ylim(ecc_lim)\n",
    "ax3.set_xlabel(opars._latex_labels[1])\n",
    "\n",
    "ax2.xaxis.set_ticks(range(3,6+1))\n",
    "ax3.xaxis.set_ticks(range(0,3+1))\n",
    "ax3.yaxis.set_ticklabels([])\n",
    "\n",
    "for ax in fig.axes:\n",
    "    ax.set_rasterization_zorder(-1)\n",
    "    \n",
    "fig.tight_layout()\n",
    "\n",
    "fig.subplots_adjust(hspace=0.5)\n",
    "\n",
    "fig.savefig(os.path.join(plot_path, 'exp1-rv-curves.pdf'), dpi=128) # change to: dpi=256 for production?"
   ]
  },
  {
   "cell_type": "markdown",
   "metadata": {},
   "source": [
    "## Full corner plot"
   ]
  },
  {
   "cell_type": "code",
   "execution_count": null,
   "metadata": {
    "collapsed": false
   },
   "outputs": [],
   "source": [
    "_med_v0 = np.median(samples[:,5])\n",
    "_mad_v0 = np.median(np.abs(samples[:,5] - _med_v0))\n",
    "\n",
    "ranges = [\n",
    "    lnP_lim,\n",
    "    lnasini_lim,\n",
    "    ecc_lim,\n",
    "    (0,360),\n",
    "    (0,360),\n",
    "    (_med_v0 - 5*_mad_v0, _med_v0 + 5*_mad_v0)\n",
    "]"
   ]
  },
  {
   "cell_type": "code",
   "execution_count": null,
   "metadata": {
    "collapsed": false
   },
   "outputs": [],
   "source": [
    "fig = plot_corner(opars, alpha=0.5, truths=truth_vec, range=ranges, truth_color=_truth_color, \n",
    "                  plot_contours=False, plot_density=False, bins=32, color='#666666')\n",
    "fig.suptitle(\"Experiment 1\", fontsize=26)\n",
    "fig.savefig(os.path.join(plot_path, 'exp1-corner.pdf'), dpi=128) # change to: dpi=256 for production?"
   ]
  },
  {
   "cell_type": "code",
   "execution_count": null,
   "metadata": {
    "collapsed": true
   },
   "outputs": [],
   "source": []
  }
 ],
 "metadata": {
  "anaconda-cloud": {},
  "kernelspec": {
   "display_name": "Python [conda env:thejoker]",
   "language": "python",
   "name": "conda-env-thejoker-py"
  },
  "language_info": {
   "codemirror_mode": {
    "name": "ipython",
    "version": 3
   },
   "file_extension": ".py",
   "mimetype": "text/x-python",
   "name": "python",
   "nbconvert_exporter": "python",
   "pygments_lexer": "ipython3",
   "version": "3.5.2"
  }
 },
 "nbformat": 4,
 "nbformat_minor": 1
}