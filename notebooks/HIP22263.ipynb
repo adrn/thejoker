{
 "cells": [
  {
   "cell_type": "code",
   "execution_count": null,
   "metadata": {
    "collapsed": false
   },
   "outputs": [],
   "source": [
    "# Standard library\n",
    "import os\n",
    "\n",
    "# Third-party\n",
    "import astropy.time as atime\n",
    "from astropy import log as logger\n",
    "import astropy.units as u\n",
    "import h5py\n",
    "import matplotlib.pyplot as plt\n",
    "%matplotlib inline\n",
    "from matplotlib import gridspec\n",
    "import numpy as np\n",
    "import corner\n",
    "\n",
    "# Project\n",
    "from thejoker import Paths\n",
    "paths = Paths()\n",
    "from thejoker.data import RVData\n",
    "from thejoker.units import default_units\n",
    "from thejoker.util import quantity_from_hdf5\n",
    "from thejoker.celestialmechanics import OrbitalParams, SimulatedRVOrbit, rv_from_elements\n",
    "\n",
    "from figurehelpers import samples_units, make_rv_curve_figure, apw_corner\n",
    "\n",
    "plt.style.use('../thejoker/thejoker.mplstyle')"
   ]
  },
  {
   "cell_type": "code",
   "execution_count": null,
   "metadata": {
    "collapsed": true
   },
   "outputs": [],
   "source": [
    "name = \"HIP22263\""
   ]
  },
  {
   "cell_type": "code",
   "execution_count": null,
   "metadata": {
    "collapsed": false
   },
   "outputs": [],
   "source": [
    "tbl = np.genfromtxt(\"../data/HIP22263_result.vels\")"
   ]
  },
  {
   "cell_type": "code",
   "execution_count": null,
   "metadata": {
    "collapsed": false
   },
   "outputs": [],
   "source": [
    "data = RVData(t=atime.Time(tbl[:,0], format='jd', scale='utc'), \n",
    "              rv=tbl[:,1]*u.m/u.s, stddev=tbl[:,2]*u.m/u.s)"
   ]
  },
  {
   "cell_type": "code",
   "execution_count": null,
   "metadata": {
    "collapsed": false
   },
   "outputs": [],
   "source": [
    "data.to_hdf5(\"../data/HIP22263.hdf5\")"
   ]
  },
  {
   "cell_type": "code",
   "execution_count": null,
   "metadata": {
    "collapsed": false
   },
   "outputs": [],
   "source": [
    "data.plot()"
   ]
  },
  {
   "cell_type": "code",
   "execution_count": null,
   "metadata": {
    "collapsed": false
   },
   "outputs": [],
   "source": [
    "_path = os.path.join(paths.cache, 'HIP22263.h5')\n",
    "with h5py.File(_path, 'r') as g:\n",
    "    pars = OrbitalParams.from_hdf5(g)"
   ]
  },
  {
   "cell_type": "code",
   "execution_count": null,
   "metadata": {
    "collapsed": false
   },
   "outputs": [],
   "source": [
    "len(pars)"
   ]
  },
  {
   "cell_type": "code",
   "execution_count": null,
   "metadata": {
    "collapsed": false
   },
   "outputs": [],
   "source": [
    "t_grid = np.linspace(data.t.mjd.min(), data.t.mjd.max(), 1024)\n",
    "\n",
    "fig,ax = plt.subplots(1,1,figsize=(12,5))\n",
    "\n",
    "ax = data.plot(ax=ax)\n",
    "\n",
    "for i in range(len(pars))[:128]:\n",
    "    orbit = pars.rv_orbit(index=i)\n",
    "    rv = orbit.generate_rv_curve(t_grid)\n",
    "    ax.plot(t_grid, rv.to(u.m/u.s), marker='', alpha=0.2)"
   ]
  },
  {
   "cell_type": "code",
   "execution_count": null,
   "metadata": {
    "collapsed": false
   },
   "outputs": [],
   "source": [
    "plt.hist(pars.P, bins=np.logspace(0,2.,32))\n",
    "plt.xscale('log')"
   ]
  },
  {
   "cell_type": "code",
   "execution_count": null,
   "metadata": {
    "collapsed": false
   },
   "outputs": [],
   "source": [
    "plt.hist(pars.ecc)"
   ]
  },
  {
   "cell_type": "code",
   "execution_count": null,
   "metadata": {
    "collapsed": false
   },
   "outputs": [],
   "source": [
    "plt.hist(pars.jitter)"
   ]
  },
  {
   "cell_type": "code",
   "execution_count": null,
   "metadata": {
    "collapsed": false
   },
   "outputs": [],
   "source": [
    "_samples_units = samples_units.copy()\n",
    "_samples_units['v0'] = u.m/u.s\n",
    "_samples_units['K'] = u.m/u.s"
   ]
  },
  {
   "cell_type": "code",
   "execution_count": null,
   "metadata": {
    "collapsed": true
   },
   "outputs": [],
   "source": [
    "samples = pars.pack(plot_transform=True, units=_samples_units)"
   ]
  },
  {
   "cell_type": "code",
   "execution_count": null,
   "metadata": {
    "collapsed": false
   },
   "outputs": [],
   "source": [
    "# Make a corner plot of all samples\n",
    "_med_v0 = np.median(samples[:,-1])\n",
    "_mad_v0 = np.median(np.abs(samples[:,-1] - _med_v0))\n",
    "ranges = [(0,8), (-0.025, 1.025), (0,360), (0,360), (1,3),\n",
    "          (3.5, 50), (_med_v0 - 5*_mad_v0, _med_v0 + 5*_mad_v0)]\n",
    "labels = OrbitalParams.get_labels(_samples_units)\n",
    "\n",
    "corner_style = dict(alpha=0.25, markersize=1., bins=16, color='#555555')"
   ]
  },
  {
   "cell_type": "code",
   "execution_count": null,
   "metadata": {
    "collapsed": false
   },
   "outputs": [],
   "source": [
    "fig = apw_corner(samples, range=ranges, labels=labels, **corner_style)\n",
    "fig.subplots_adjust(left=0.08, bottom=0.08)\n",
    "fig.suptitle(name, fontsize=24)\n",
    "fig.savefig(os.path.join(paths.plots, '{}-corner.pdf'.format(name)), dpi=128)"
   ]
  },
  {
   "cell_type": "code",
   "execution_count": null,
   "metadata": {
    "collapsed": false
   },
   "outputs": [],
   "source": [
    "med_P = np.median(pars.P)"
   ]
  },
  {
   "cell_type": "code",
   "execution_count": null,
   "metadata": {
    "collapsed": false
   },
   "outputs": [],
   "source": [
    "t_grid = np.linspace(data.t.mjd.min(), data.t.mjd.max(), 1024)\n",
    "\n",
    "fig,ax = plt.subplots(1,1,figsize=(8,6))\n",
    "\n",
    "ax.errorbar((data.t.tcb.mjd*u.day/med_P)%1., data.rv.to(u.m/u.s).value, data.stddev.to(u.m/u.s).value,\n",
    "            linestyle='none', marker='.', color='k')\n",
    "\n",
    "ax.errorbar((data.t.tcb.mjd*u.day/med_P)%1. + 1., data.rv.to(u.m/u.s).value, data.stddev.to(u.m/u.s).value,\n",
    "            linestyle='none', marker='.', color='k')\n",
    "\n",
    "ax.set_xlim(-0.1, 2.1)\n",
    "\n",
    "ax.set_xlabel(r\"$\\phi/(2\\,\\pi)$\")\n",
    "ax.set_ylabel(r\"RV [${\\rm m}\\,{\\rm s}^{-1}$]\")\n",
    "\n",
    "ax.set_title(\"$P = {:.2f}$ day\".format(med_P.to(u.day).value))\n",
    "\n",
    "fig.savefig(os.path.join(paths.plots, '{}-phased.pdf'.format(name)), dpi=128)"
   ]
  },
  {
   "cell_type": "code",
   "execution_count": null,
   "metadata": {
    "collapsed": true
   },
   "outputs": [],
   "source": []
  }
 ],
 "metadata": {
  "anaconda-cloud": {},
  "kernelspec": {
   "display_name": "Python [conda env:thejoker]",
   "language": "python",
   "name": "conda-env-thejoker-py"
  },
  "language_info": {
   "codemirror_mode": {
    "name": "ipython",
    "version": 3
   },
   "file_extension": ".py",
   "mimetype": "text/x-python",
   "name": "python",
   "nbconvert_exporter": "python",
   "pygments_lexer": "ipython3",
   "version": "3.5.2"
  }
 },
 "nbformat": 4,
 "nbformat_minor": 1
}