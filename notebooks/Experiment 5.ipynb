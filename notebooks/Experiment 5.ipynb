{
 "cells": [
  {
   "cell_type": "code",
   "execution_count": null,
   "metadata": {
    "collapsed": true
   },
   "outputs": [],
   "source": [
    "# Standard library\n",
    "from collections import OrderedDict\n",
    "import os\n",
    "\n",
    "# Third-party\n",
    "import astropy.time as atime\n",
    "from astropy import log as logger\n",
    "import astropy.units as u\n",
    "import h5py\n",
    "import matplotlib.pyplot as plt\n",
    "from matplotlib import gridspec\n",
    "%matplotlib inline\n",
    "import numpy as np\n",
    "import corner\n",
    "\n",
    "# Project\n",
    "from thejoker import Paths\n",
    "paths = Paths()\n",
    "from thejoker.data import RVData\n",
    "from thejoker.units import usys\n",
    "from thejoker.celestialmechanics import OrbitalParams, SimulatedRVOrbit, rv_from_elements\n",
    "from thejoker.plot import plot_rv_curves, plot_corner\n",
    "\n",
    "plt.style.use('../thejoker/thejoker.mplstyle')"
   ]
  },
  {
   "cell_type": "code",
   "execution_count": null,
   "metadata": {
    "collapsed": true
   },
   "outputs": [],
   "source": [
    "data_filename = \"../data/experiment5.h5\"\n",
    "\n",
    "plot_path = \"../paper/figures/\"\n",
    "os.makedirs(plot_path, exist_ok=True)"
   ]
  },
  {
   "cell_type": "markdown",
   "metadata": {},
   "source": [
    "## Read the data"
   ]
  },
  {
   "cell_type": "code",
   "execution_count": null,
   "metadata": {
    "collapsed": false
   },
   "outputs": [],
   "source": [
    "all_data = OrderedDict()\n",
    "with h5py.File(data_filename, 'r') as f:\n",
    "    for key in sorted([int(x) for x in f.keys()]):\n",
    "        all_data[key] = RVData.from_hdf5(f[str(key)])"
   ]
  },
  {
   "cell_type": "code",
   "execution_count": null,
   "metadata": {
    "collapsed": true
   },
   "outputs": [],
   "source": [
    "dmjd = all_data[0].t.tcb.mjd.max() - all_data[0].t.tcb.mjd.min()\n",
    "t_grid = np.linspace(all_data[0].t.tcb.mjd.min() -0.25*dmjd, \n",
    "                     all_data[0].t.tcb.mjd.max() + 0.25*dmjd, \n",
    "                     1024)\n",
    "\n",
    "rv_unit = u.km/u.s"
   ]
  },
  {
   "cell_type": "code",
   "execution_count": null,
   "metadata": {
    "collapsed": false
   },
   "outputs": [],
   "source": [
    "fig,axes = plt.subplots(2, 1, figsize=(5,10), \n",
    "                        sharex=True, sharey=True)   \n",
    "\n",
    "for i,key in enumerate(list(all_data.keys())):\n",
    "    data = all_data[key]\n",
    "    data.plot(ax=axes[i], rv_unit=u.km/u.s, markersize=3, capsize=0,\n",
    "              elinewidth=0, color='k', zorder=1000, alpha=0.75)\n",
    "    \n",
    "    # read the orbital parameters\n",
    "#     samples_filename = \"../cache/experiment5-{}.h5\".format(key)\n",
    "#     with h5py.File(samples_filename, 'r') as g:            \n",
    "#         opars = OrbitalParams.from_hdf5(g)\n",
    "#         samples = opars.pack(plot_units=True)\n",
    "#         print(samples.shape)\n",
    "\n",
    "#     plot_rv_curves(opars[:128], t_grid, t_offset=data.t_offset, rv_unit=rv_unit, \n",
    "#                    ax=axes[i], plot_kwargs={'color': '#888888', 'zorder': -100},\n",
    "#                    add_labels=False)\n",
    "#     axes[i].set_rasterization_zorder(-1)\n",
    "\n",
    "axes[0].set_ylim(0, 30)\n",
    "\n",
    "fig.tight_layout()"
   ]
  },
  {
   "cell_type": "markdown",
   "metadata": {},
   "source": [
    "### Two-column, rv curves + period-eccentricity"
   ]
  },
  {
   "cell_type": "code",
   "execution_count": null,
   "metadata": {
    "collapsed": false
   },
   "outputs": [],
   "source": [
    "fig = plt.figure(figsize=(10,6.5))\n",
    "gs = gridspec.GridSpec(2, 3)\n",
    "\n",
    "axes_l = []\n",
    "axes_r = []\n",
    "for i,key in enumerate(all_data.keys()):\n",
    "    if len(axes_l) == 0:\n",
    "        ax_l = fig.add_subplot(gs[i, :2])\n",
    "        ax_r = fig.add_subplot(gs[i, 2])\n",
    "    else:\n",
    "        ax_l = fig.add_subplot(gs[i, :2], sharex=axes_l[0], sharey=axes_l[0])\n",
    "        ax_r = fig.add_subplot(gs[i, 2], sharex=axes_r[0], sharey=axes_r[0])\n",
    "    axes_l.append(ax_l)\n",
    "    axes_r.append(ax_r)\n",
    "\n",
    "    data = all_data[key]\n",
    "\n",
    "    # read the orbital parameters\n",
    "    samples_filename = \"../cache/experiment5-{}.h5\".format(key)\n",
    "    with h5py.File(samples_filename, 'r') as g:            \n",
    "        opars = OrbitalParams.from_hdf5(g)\n",
    "        samples = opars.pack(plot_units=True)\n",
    "        print(samples.shape)\n",
    "\n",
    "    plot_rv_curves(opars[:128], t_grid, t_offset=data.t_offset, rv_unit=rv_unit, \n",
    "                   ax=ax_l, plot_kwargs={'color': '#888888', 'zorder': -100},\n",
    "                   add_labels=False)\n",
    "    ax_l.set_rasterization_zorder(-1)\n",
    "    data.plot(ax=ax_l, rv_unit=u.km/u.s, markersize=3, capsize=0,\n",
    "              elinewidth=0, color='k', zorder=1000, alpha=0.75)\n",
    "#     ax_l.text(55650, -9, \"$N={}$, M={}\".format(len(data), len(joker_opars)), va='top', fontsize=18)\n",
    "\n",
    "    # plot markers on right panel\n",
    "    _n = len(opars)\n",
    "    y1,y2 = 0.75, 0.05\n",
    "    alpha = (y2-y1) * (np.log(_n) - np.log(37)) / (np.log(461789)-np.log(37)) + y1\n",
    "\n",
    "    y1,y2 = 4,1\n",
    "    size = max(1, int((y2-y1) * (np.log(_n) - np.log(37)) / (np.log(10000)-np.log(37)) + y1))\n",
    "\n",
    "    style = dict(alpha=alpha, marker='.', markersize=size, linestyle='none', \n",
    "                 rasterized=True, color='#888888')\n",
    "    ax_r.plot(samples[:,0], samples[:,2], **style)\n",
    "\n",
    "    if i == 0:\n",
    "        print(\"hide\", i)\n",
    "        plt.setp(ax_l.get_xticklabels(), visible=False)\n",
    "        plt.setp(ax_r.get_xticklabels(), visible=False)\n",
    "\n",
    "    ax_l.set_ylabel('RV [km s$^{-1}$]')\n",
    "    ax_r.set_ylabel(OrbitalParams._latex_labels[2])\n",
    "\n",
    "axes_l[-1].set_xlabel('BMJD')\n",
    "axes_r[-1].set_xlabel(OrbitalParams._latex_labels[0])\n",
    "\n",
    "axes_l[0].set_xlim(t_grid.min(), t_grid.max())\n",
    "axes_l[0].set_ylim(0, 30)\n",
    "\n",
    "# axes_r[0].set_xlim(ln_P_lims[j])\n",
    "# axes_r[0].set_ylim(ecc_lims[j])\n",
    "\n",
    "# hack:\n",
    "# if j == 0:\n",
    "#     axes_r[0].yaxis.set_ticks([0, 0.1, 0.2])\n",
    "#     axes_r[0].xaxis.set_ticks([5.1,5.2,5.3,5.4])\n",
    "\n",
    "fig.tight_layout()\n",
    "\n",
    "# change to: dpi=256 for production?\n",
    "# fig.savefig(os.path.join(plot_path, 'exp5-rv-curves-{}.pdf'.format(j)), dpi=100) "
   ]
  },
  {
   "cell_type": "code",
   "execution_count": null,
   "metadata": {
    "collapsed": true
   },
   "outputs": [],
   "source": [
    "samples_filename = \"../cache/experiment5-{}.h5\".format(0)\n",
    "with h5py.File(samples_filename, 'r') as g:            \n",
    "    opars = OrbitalParams.from_hdf5(g)\n",
    "    samples = opars.pack(plot_units=True)"
   ]
  },
  {
   "cell_type": "code",
   "execution_count": null,
   "metadata": {
    "collapsed": true
   },
   "outputs": [],
   "source": [
    "plt.plot(samples[:,0], samples[:,1])"
   ]
  },
  {
   "cell_type": "markdown",
   "metadata": {},
   "source": [
    "--- \n",
    "\n",
    "### Old version:"
   ]
  },
  {
   "cell_type": "code",
   "execution_count": null,
   "metadata": {
    "collapsed": false,
    "scrolled": false
   },
   "outputs": [],
   "source": [
    "n_panel_per_fig = 4\n",
    "\n",
    "for j in range(len(all_data) // n_panel_per_fig):\n",
    "    fig,axes = plt.subplots(n_panel_per_fig, 1, figsize=(6.5,10), \n",
    "                            sharex=True, sharey=True)   \n",
    "\n",
    "    for i,key in enumerate(list(all_data.keys())[j*n_panel_per_fig:(j+1)*n_panel_per_fig]):\n",
    "        data = all_data[key]\n",
    "        \n",
    "        # read the orbital parameters\n",
    "        samples_filename = \"../cache/experiment3-{}.h5\".format(key)\n",
    "        with h5py.File(samples_filename, 'r') as g:            \n",
    "            if 'emcee' in g:\n",
    "                opars = OrbitalParams.from_hdf5(g['emcee'])\n",
    "            else:\n",
    "                opars = OrbitalParams.from_hdf5(g)\n",
    "        \n",
    "        plot_rv_curves(opars[:128], t_grid, t_offset=data.t_offset, rv_unit=rv_unit, \n",
    "                       ax=axes[i], plot_kwargs={'color': '#888888', 'zorder': -100},\n",
    "                       add_labels=False)\n",
    "        axes[i].set_rasterization_zorder(-1)\n",
    "        \n",
    "        data.plot(ax=axes[i], rv_unit=u.km/u.s, markersize=3, capsize=0,\n",
    "                  elinewidth=0, color='k', zorder=1000, alpha=0.75)\n",
    "        \n",
    "        if key > 0:\n",
    "            not_included = np.array([x not in data._rv for x in all_data[0]._rv])\n",
    "            reject_data = all_data[0][not_included]\n",
    "            \n",
    "            axes[i].plot(reject_data.t.tcb.mjd, reject_data.rv.to(u.km/u.s).value, \n",
    "                         marker='x', zorder=100, linestyle='none',\n",
    "                         markersize=4, markeredgewidth=1, color='#de2d26')\n",
    "        \n",
    "        axes[i].text(55650, -9, \"$N={}$, M={}\".format(len(data), len(opars)), va='top', fontsize=18)\n",
    "    \n",
    "    axes[0].set_ylabel('RV [km s$^{-1}$]')\n",
    "    axes[-1].set_xlabel('BMJD')\n",
    "    \n",
    "    axes[0].set_xlim(t_grid.min(), t_grid.max())\n",
    "    axes[0].set_ylim(-55, -5)\n",
    "\n",
    "    fig.tight_layout()\n",
    "    \n",
    "    # change to: dpi=256 for production?\n",
    "#     fig.savefig(os.path.join(plot_path, 'exp2-rv-curves-{}.pdf'.format(j)), dpi=100) "
   ]
  },
  {
   "cell_type": "markdown",
   "metadata": {},
   "source": [
    "## Corner plots"
   ]
  },
  {
   "cell_type": "code",
   "execution_count": null,
   "metadata": {
    "collapsed": false
   },
   "outputs": [],
   "source": [
    "for key in all_data.keys():\n",
    "    data = all_data[key]\n",
    "\n",
    "    # read the orbital parameters\n",
    "    samples_filename = \"../cache/experiment2-{}.h5\".format(key)\n",
    "    with h5py.File(samples_filename, 'r') as g:\n",
    "        opars = OrbitalParams.from_hdf5(g)\n",
    "    \n",
    "    _n = len(opars)\n",
    "        \n",
    "    y1,y2 = 3,1\n",
    "    size = int((y2-y1) * (np.log(_n) - np.log(37)) / (np.log(461789)-np.log(37)) + y1)\n",
    "    \n",
    "    print(_n, size)"
   ]
  },
  {
   "cell_type": "code",
   "execution_count": null,
   "metadata": {
    "collapsed": false
   },
   "outputs": [],
   "source": [
    "n_panel_per_fig = 4\n",
    "\n",
    "for j in range(len(all_data) // n_panel_per_fig):\n",
    "    fig,axes = plt.subplots(n_panel_per_fig, 3, figsize=(8,11), \n",
    "                            sharex='col', sharey=True)   \n",
    "\n",
    "    for i,key in enumerate(list(all_data.keys())[j*n_panel_per_fig:(j+1)*n_panel_per_fig]):\n",
    "        data = all_data[key]\n",
    "        \n",
    "        # read the orbital parameters\n",
    "        samples_filename = \"../cache/experiment2-{}.h5\".format(key)\n",
    "        with h5py.File(samples_filename, 'r') as g:\n",
    "            opars = OrbitalParams.from_hdf5(g)\n",
    "        \n",
    "        samples = opars.pack(plot_units=True)\n",
    "        \n",
    "#         kw = dict(plot_contours=False, plot_density=False, \n",
    "#                   data_kwargs=dict(alpha=0.05, marker=','))\n",
    "#         corner.hist2d(samples[:,1], samples[:,0], ax=axes[i,0], **kw)\n",
    "#         corner.hist2d(samples[:,2], samples[:,0], ax=axes[i,1], **kw)\n",
    "#         corner.hist2d(samples[:,5], samples[:,0], ax=axes[i,2], **kw)\n",
    "        \n",
    "        _n = len(opars)\n",
    "        y1,y2 = 0.75, 0.05\n",
    "        alpha = (y2-y1) * (np.log(_n) - np.log(37)) / (np.log(461789)-np.log(37)) + y1\n",
    "        \n",
    "        y1,y2 = 4,1\n",
    "        size = max(1, int((y2-y1) * (np.log(_n) - np.log(37)) / (np.log(10000)-np.log(37)) + y1))\n",
    "    \n",
    "        print(_n, alpha, size)\n",
    "    \n",
    "        style = dict(alpha=alpha, marker='.', markersize=size, linestyle='none', rasterized=True)\n",
    "        axes[i,0].plot(samples[:,1], samples[:,0], **style)\n",
    "        axes[i,1].plot(samples[:,2], samples[:,0], **style)\n",
    "        axes[i,2].plot(samples[:,5], samples[:,0], **style)\n",
    "        \n",
    "        axes[i,0].set_ylabel(opars._latex_labels[0])\n",
    "        \n",
    "    axes[0,0].set_xlim(-0.5, 7.5) # ln asini\n",
    "    axes[0,1].set_xlim(-0.1, 1.1) # ecc\n",
    "    axes[0,2].set_xlim(-75, 15) # v0\n",
    "    \n",
    "    axes[0,0].set_ylim(2.5, 7.5) # ln P\n",
    "    \n",
    "    axes[-1,0].set_xlabel(opars._latex_labels[1])\n",
    "    axes[-1,1].set_xlabel(opars._latex_labels[2])\n",
    "    axes[-1,2].set_xlabel(opars._latex_labels[5])\n",
    "    \n",
    "    fig.tight_layout()\n",
    "    \n",
    "    # change to: dpi=256 for production?\n",
    "    fig.savefig(os.path.join(plot_path, 'exp2-corner-{}.pdf'.format(j)), dpi=100) "
   ]
  },
  {
   "cell_type": "code",
   "execution_count": null,
   "metadata": {
    "collapsed": true
   },
   "outputs": [],
   "source": []
  }
 ],
 "metadata": {
  "anaconda-cloud": {},
  "kernelspec": {
   "display_name": "Python [conda env:thejoker]",
   "language": "python",
   "name": "conda-env-thejoker-py"
  },
  "language_info": {
   "codemirror_mode": {
    "name": "ipython",
    "version": 3
   },
   "file_extension": ".py",
   "mimetype": "text/x-python",
   "name": "python",
   "nbconvert_exporter": "python",
   "pygments_lexer": "ipython3",
   "version": "3.5.2"
  }
 },
 "nbformat": 4,
 "nbformat_minor": 1
}