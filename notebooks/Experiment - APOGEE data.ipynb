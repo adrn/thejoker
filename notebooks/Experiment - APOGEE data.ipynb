{
 "cells": [
  {
   "cell_type": "code",
   "execution_count": null,
   "metadata": {
    "collapsed": false
   },
   "outputs": [],
   "source": [
    "# Standard library\n",
    "from os.path import join\n",
    "\n",
    "# Third-party\n",
    "import corner\n",
    "import astropy.time as atime\n",
    "import astropy.units as u\n",
    "import h5py\n",
    "import matplotlib.pyplot as plt\n",
    "%matplotlib inline\n",
    "import numpy as np\n",
    "\n",
    "# Project\n",
    "from thejoker import Paths\n",
    "paths = Paths()\n",
    "from thejoker.data import RVData\n",
    "from thejoker.celestialmechanics import OrbitalParams\n",
    "from thejoker.plot import plot_rv_curves, _prev_result_color\n",
    "\n",
    "plt.style.use('../thejoker/thejoker.mplstyle')\n",
    "\n",
    "from figurehelpers import samples_units, make_rv_curve_figure, apw_corner"
   ]
  },
  {
   "cell_type": "code",
   "execution_count": null,
   "metadata": {
    "collapsed": true
   },
   "outputs": [],
   "source": [
    "dpi = 256"
   ]
  },
  {
   "cell_type": "code",
   "execution_count": null,
   "metadata": {
    "collapsed": true
   },
   "outputs": [],
   "source": [
    "# experiment number\n",
    "e_number = 4\n",
    "e_name = 'apogee'"
   ]
  },
  {
   "cell_type": "code",
   "execution_count": null,
   "metadata": {
    "collapsed": true
   },
   "outputs": [],
   "source": [
    "data_filename = \"../data/troup-allVisit.h5\""
   ]
  },
  {
   "cell_type": "markdown",
   "metadata": {},
   "source": [
    "## First read the orbital parameters sampled for this experiment:"
   ]
  },
  {
   "cell_type": "code",
   "execution_count": null,
   "metadata": {
    "collapsed": false
   },
   "outputs": [],
   "source": [
    "hdf5_key = name = '2M00110648+6609349' # HACK: This is hard coded and BAD!!\n",
    "print(name)"
   ]
  },
  {
   "cell_type": "code",
   "execution_count": null,
   "metadata": {
    "collapsed": false
   },
   "outputs": [],
   "source": [
    "# read the data\n",
    "with h5py.File(data_filename, 'r') as f:\n",
    "    data = RVData.from_hdf5(f[hdf5_key])"
   ]
  },
  {
   "cell_type": "code",
   "execution_count": null,
   "metadata": {
    "collapsed": false
   },
   "outputs": [],
   "source": [
    "# read the samples from fixing the jitter\n",
    "with h5py.File(join(paths.cache, 'experiment{}-fixed-jitter.h5'.format(e_number)), 'r') as g:\n",
    "    pars1 = OrbitalParams.from_hdf5(g)\n",
    "    samples1 = pars1.pack(plot_transform=True, units=samples_units)\n",
    "    samples1[:,3] = (samples1[:,3] - 360*((data.t_offset/pars1._P) % 1.)) % (360) # HACK\n",
    "    \n",
    "# read the samples from sampling over the jitter\n",
    "with h5py.File(join(paths.cache, 'experiment{}-sample-jitter.h5'.format(e_number)), 'r') as g:\n",
    "    pars2 = OrbitalParams.from_hdf5(g)\n",
    "    samples2 = pars2.pack(plot_transform=True, units=samples_units)\n",
    "    samples2[:,3] = (samples2[:,3] - 360*((data.t_offset/pars2._P) % 1.)) % (360) # HACK\n",
    "\n",
    "print(\"{} samples survived (a)\".format(samples1.shape[0]))\n",
    "print(\"{} samples survived (b)\".format(samples2.shape[0]))"
   ]
  },
  {
   "cell_type": "markdown",
   "metadata": {},
   "source": [
    "### Read in Troup's fit values for the orbital parameters:"
   ]
  },
  {
   "cell_type": "code",
   "execution_count": null,
   "metadata": {
    "collapsed": false
   },
   "outputs": [],
   "source": [
    "all_troup_data = np.genfromtxt(join(paths.root, \"data\", \"troup16-dr12.csv\"),\n",
    "                               delimiter=\",\", names=True, dtype=None)\n",
    "troup_data = all_troup_data[all_troup_data['APOGEE_ID'].astype(str) == name]"
   ]
  },
  {
   "cell_type": "code",
   "execution_count": null,
   "metadata": {
    "collapsed": false
   },
   "outputs": [],
   "source": [
    "troup_P = troup_data['PERIOD'] * u.day\n",
    "troup_ecc = troup_data['ECC']\n",
    "troup_K = troup_data['SEMIAMP']*u.m/u.s\n",
    "troup_omega = (troup_data['OMEGA'] % (2*np.pi)) * u.radian\n",
    "\n",
    "dt0 = atime.Time(troup_data['TPERI'], format='jd', scale='tcb').tcb.mjd# - data.t_offset\n",
    "troup_phi0 = ((2*np.pi*dt0/troup_P.value) % (2*np.pi)) * u.radian\n",
    "\n",
    "troup_v0 = troup_data['V0'] * u.m/u.s\n",
    "print(troup_data['SLOPE'])\n",
    "\n",
    "_t0 = atime.Time(troup_data['T0'], format='jd', scale='tcb').tcb.mjd\n",
    "derp = -((2*np.pi*_t0/troup_P.value) % (2*np.pi)) * u.radian\n",
    "\n",
    "truth_pars = OrbitalParams(P=troup_P, K=troup_K, ecc=troup_ecc, omega=troup_omega, \n",
    "                           phi0=troup_phi0 + derp, v0=troup_v0)\n",
    "truth_vec = truth_pars.pack(plot_transform=True, units=samples_units)[0]"
   ]
  },
  {
   "cell_type": "code",
   "execution_count": null,
   "metadata": {
    "collapsed": false
   },
   "outputs": [],
   "source": [
    "fig,ax = plt.subplots(1,1,figsize=(8,6))\n",
    "\n",
    "bmjd = data.t.tcb.mjd\n",
    "dmjd = bmjd.max() - bmjd.min()\n",
    "t_grid = np.linspace(bmjd.min() -0.25*dmjd, \n",
    "                     bmjd.max() + 0.25*dmjd, \n",
    "                     1024)\n",
    "\n",
    "rv_unit = u.km/u.s\n",
    "\n",
    "plot_rv_curves(pars2[:256], t_grid, rv_unit=rv_unit,\n",
    "               data=data, ax=ax, \n",
    "               plot_kwargs={'color': '#aaaaaa', 'zorder': -100, 'marker': ''},\n",
    "               data_plot_kwargs={'ecolor': 'k', 'markersize': 3, 'elinewidth': 1, 'alpha': 1., 'zorder': 100})\n",
    "\n",
    "# plt.plot(t_grid, truth_pars.rv_orbit(0)(t_grid), marker='')\n",
    "\n",
    "ax.set_rasterization_zorder(-1)\n",
    "ax.set_ylim(-40, -18)\n",
    "\n",
    "ax.set_title(\"Experiment {}: {}\".format(e_number, name), fontsize=24)\n",
    "fig.tight_layout()\n",
    "fig.savefig(join(paths.figures, '{}-rv-curves.pdf'.format(e_name)), dpi=dpi)"
   ]
  },
  {
   "cell_type": "markdown",
   "metadata": {},
   "source": [
    "## Corner plot"
   ]
  },
  {
   "cell_type": "code",
   "execution_count": null,
   "metadata": {
    "collapsed": true
   },
   "outputs": [],
   "source": [
    "# Make a corner plot of all samples\n",
    "_med_v0 = np.median(samples2[:,-1])\n",
    "_mad_v0 = np.median(np.abs(samples2[:,-1] - _med_v0))\n",
    "ranges = [(4.8, 7.8), (-0.025, 1.025), (0,360), (0,360), (2.25, 7.25),\n",
    "          (3.5, 10), (_med_v0 - 5*_mad_v0, _med_v0 + 5*_mad_v0)]\n",
    "labels = OrbitalParams.get_labels(samples_units)\n",
    "\n",
    "corner_style = dict(alpha=0.25, markersize=1., bins=16, color='#555555')"
   ]
  },
  {
   "cell_type": "code",
   "execution_count": null,
   "metadata": {
    "collapsed": false
   },
   "outputs": [],
   "source": [
    "fig = apw_corner(samples2, range=ranges, truths=truth_vec, labels=labels, truth_color=_prev_result_color, \n",
    "                 **corner_style)\n",
    "fig.subplots_adjust(left=0.08, bottom=0.08)\n",
    "fig.suptitle(\"Experiment {}\".format(e_number), fontsize=24)\n",
    "fig.savefig(join(paths.figures, '{}-corner.pdf'.format(e_name)), dpi=128)"
   ]
  },
  {
   "cell_type": "code",
   "execution_count": null,
   "metadata": {
    "collapsed": false
   },
   "outputs": [],
   "source": [
    "np.median(np.exp(samples2[:,4]))"
   ]
  },
  {
   "cell_type": "code",
   "execution_count": null,
   "metadata": {
    "collapsed": false
   },
   "outputs": [],
   "source": [
    "plt.hist(np.exp(samples2[:,4]))\n",
    "plt.axvline(np.median(data.stddev.to(u.m/u.s)).value, color='r')"
   ]
  },
  {
   "cell_type": "code",
   "execution_count": null,
   "metadata": {
    "collapsed": true
   },
   "outputs": [],
   "source": []
  }
 ],
 "metadata": {
  "anaconda-cloud": {},
  "kernelspec": {
   "display_name": "Python [conda env:thejoker]",
   "language": "python",
   "name": "conda-env-thejoker-py"
  },
  "language_info": {
   "codemirror_mode": {
    "name": "ipython",
    "version": 3
   },
   "file_extension": ".py",
   "mimetype": "text/x-python",
   "name": "python",
   "nbconvert_exporter": "python",
   "pygments_lexer": "ipython3",
   "version": "3.5.2"
  }
 },
 "nbformat": 4,
 "nbformat_minor": 1
}