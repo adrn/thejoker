{
 "cells": [
  {
   "cell_type": "code",
   "execution_count": null,
   "metadata": {
    "collapsed": false
   },
   "outputs": [],
   "source": [
    "# Standard library\n",
    "import os\n",
    "\n",
    "# Third-party\n",
    "import astropy.time as atime\n",
    "from astropy import log as logger\n",
    "import astropy.units as u\n",
    "import h5py\n",
    "import matplotlib.pyplot as plt\n",
    "%matplotlib inline\n",
    "from matplotlib import gridspec\n",
    "import numpy as np\n",
    "\n",
    "# Project\n",
    "from thejoker import Paths\n",
    "paths = Paths()\n",
    "from thejoker.data import RVData\n",
    "from thejoker.units import usys\n",
    "from thejoker.util import quantity_from_hdf5\n",
    "from thejoker.celestialmechanics import OrbitalParams, SimulatedRVOrbit, rv_from_elements\n",
    "from thejoker.plot import plot_rv_curves, plot_corner, _prev_result_color\n",
    "\n",
    "plt.style.use('../thejoker/thejoker.mplstyle')"
   ]
  },
  {
   "cell_type": "code",
   "execution_count": null,
   "metadata": {
    "collapsed": true
   },
   "outputs": [],
   "source": [
    "samples_filename = \"../cache/experiment2.h5\"\n",
    "data_filename = \"../data/troup-allVisit.h5\"\n",
    "plot_path = \"../paper/figures/\"\n",
    "os.makedirs(plot_path, exist_ok=True)"
   ]
  },
  {
   "cell_type": "markdown",
   "metadata": {},
   "source": [
    "## First read the orbital parameters sampled for this experiment:"
   ]
  },
  {
   "cell_type": "code",
   "execution_count": null,
   "metadata": {
    "collapsed": false
   },
   "outputs": [],
   "source": [
    "name = os.path.splitext(os.path.split(samples_filename)[1])[0]\n",
    "hdf5_key = name = '2M00110648+6609349' # HACK: This is hard coded and BAD!!\n",
    "print(name)"
   ]
  },
  {
   "cell_type": "code",
   "execution_count": null,
   "metadata": {
    "collapsed": true
   },
   "outputs": [],
   "source": [
    "with h5py.File(samples_filename, 'r') as g:\n",
    "    jitter = g.attrs['jitter_m/s']*u.m/u.s\n",
    "    P_min = g.attrs['P_min_day']*u.day\n",
    "    P_max = g.attrs['P_max_day']*u.day\n",
    "\n",
    "    # read the orbital parameters\n",
    "    opars = OrbitalParams.from_hdf5(g)\n",
    "    samples = opars.pack(plot_units=True)"
   ]
  },
  {
   "cell_type": "code",
   "execution_count": null,
   "metadata": {
    "collapsed": false
   },
   "outputs": [],
   "source": [
    "print(len(opars))"
   ]
  },
  {
   "cell_type": "markdown",
   "metadata": {},
   "source": [
    "## read the data:"
   ]
  },
  {
   "cell_type": "code",
   "execution_count": null,
   "metadata": {
    "collapsed": false
   },
   "outputs": [],
   "source": [
    "with h5py.File(data_filename, 'r') as f:\n",
    "    g = f[hdf5_key]\n",
    "\n",
    "    bmjd = g['mjd'][:]\n",
    "    rv = quantity_from_hdf5(g, 'rv')\n",
    "    rv_err = quantity_from_hdf5(g, 'rv_err')\n",
    "data = RVData(bmjd, rv, stddev=rv_err)"
   ]
  },
  {
   "cell_type": "markdown",
   "metadata": {},
   "source": [
    "### Read in Troup's fit values for the orbital parameters:"
   ]
  },
  {
   "cell_type": "code",
   "execution_count": null,
   "metadata": {
    "collapsed": true
   },
   "outputs": [],
   "source": [
    "all_troup_data = np.genfromtxt(os.path.join(paths.root, \"data\", \"troup16-dr12.csv\"),\n",
    "                               delimiter=\",\", names=True, dtype=None)\n",
    "troup_data = all_troup_data[all_troup_data['APOGEE_ID'].astype(str) == name]"
   ]
  },
  {
   "cell_type": "code",
   "execution_count": null,
   "metadata": {
    "collapsed": false
   },
   "outputs": [],
   "source": [
    "troup_P = troup_data['PERIOD'] * u.day\n",
    "troup_ecc = troup_data['ECC']\n",
    "_,troup_asini = SimulatedRVOrbit.P_K_ecc_to_mf_asini_ecc(troup_P, troup_data['SEMIAMP']*u.m/u.s, troup_ecc)\n",
    "troup_omega = (troup_data['OMEGA'] % (2*np.pi)) * u.radian\n",
    "\n",
    "dt0 = atime.Time(troup_data['TPERI'], format='jd', scale='tcb').tcb.mjd - data.t_offset\n",
    "troup_phi0 = 2*np.pi*dt0/troup_P.value * u.radian\n",
    "\n",
    "troup_v0 = troup_data['V0'] * u.m/u.s\n",
    "print(troup_data['SLOPE'])"
   ]
  },
  {
   "cell_type": "code",
   "execution_count": null,
   "metadata": {
    "collapsed": false
   },
   "outputs": [],
   "source": [
    "troup_truths = np.concatenate((np.log(troup_P.to(u.day).value),\n",
    "                               np.log(troup_asini.to(u.R_sun).value),\n",
    "                               troup_ecc,\n",
    "                               troup_omega.to(u.degree).value % 360.,\n",
    "                               troup_phi0.to(u.degree).value % 360.,\n",
    "                               troup_v0.to(u.km/u.s).value))"
   ]
  },
  {
   "cell_type": "code",
   "execution_count": null,
   "metadata": {
    "collapsed": false
   },
   "outputs": [],
   "source": [
    "fig,ax = plt.subplots(1,1,figsize=(8,6))\n",
    "\n",
    "dmjd = bmjd.max() - bmjd.min()\n",
    "t_grid = np.linspace(bmjd.min() -0.25*dmjd, \n",
    "                     bmjd.max() + 0.25*dmjd, \n",
    "                     1024)\n",
    "\n",
    "rv_unit = u.km/u.s\n",
    "\n",
    "plot_rv_curves(opars[:128], t_grid, rv_unit=rv_unit,\n",
    "               data=data, ax=ax, \n",
    "               plot_kwargs={'color': '#888888', 'zorder': -100},\n",
    "               data_plot_kwargs={'ecolor': 'k', 'markersize': 3, 'elinewidth': 1, 'alpha': 1., 'zorder': 100})\n",
    "\n",
    "ax.set_rasterization_zorder(-1)\n",
    "ax.set_ylim(-40, -18)\n",
    "\n",
    "ax.set_title(name)\n",
    "fig.tight_layout()\n",
    "# fig.savefig(os.path.join(plot_path, 'exp2-rv-curves.pdf'), dpi=100) # change to: dpi=256 for production?"
   ]
  },
  {
   "cell_type": "code",
   "execution_count": null,
   "metadata": {
    "collapsed": false
   },
   "outputs": [],
   "source": [
    "fig = plt.figure(figsize=(8,6.5))\n",
    "\n",
    "gs = gridspec.GridSpec(2, 2)\n",
    "\n",
    "# First, the RV curves\n",
    "dmjd = bmjd.max() - bmjd.min()\n",
    "t_grid = np.linspace(bmjd.min() -0.25*dmjd, \n",
    "                     bmjd.max() + 0.25*dmjd, \n",
    "                     1024)\n",
    "\n",
    "rv_unit = u.km/u.s\n",
    "\n",
    "ax = fig.add_subplot(gs[0, :])\n",
    "ax.set_title(\"Experiment 2: {}\".format(name))\n",
    "plot_rv_curves(opars[:128], t_grid, rv_unit=rv_unit,\n",
    "               ax=ax, t_offset=data.t_offset,\n",
    "               plot_kwargs={'color': '#888888', 'zorder': -100})\n",
    "\n",
    "data.plot(ax=ax, rv_unit=rv_unit, ecolor='k', markersize=3, \n",
    "          elinewidth=1, alpha=1., zorder=100)\n",
    "ax.set_ylim(-40, -18)\n",
    "\n",
    "# Projections of the posterior samples:\n",
    "ax2 = fig.add_subplot(gs[1,0])\n",
    "ax3 = fig.add_subplot(gs[1,1])\n",
    "\n",
    "style = dict(alpha=0.1, marker=',', linestyle='none', zorder=-100, color='k')\n",
    "ax2.plot(samples[:,0], samples[:,2], **style)\n",
    "ax3.plot(samples[:,1], samples[:,2], **style)\n",
    "\n",
    "# -------------------------------------------------------------\n",
    "# now plot the truth:\n",
    "# ax.plot(t_grid, truth_rv.to(rv_unit).value, linestyle='--', \n",
    "#         marker=None, linewidth=1, alpha=0.9, color=_truth_color)\n",
    "ax2.scatter(troup_truths[0], troup_truths[2], marker='+', color=_prev_result_color, s=40, alpha=0.8)\n",
    "ax3.scatter(troup_truths[1], troup_truths[2], marker='+', color=_prev_result_color, s=40, alpha=0.8)\n",
    "\n",
    "lnP_lim = [4., 8]\n",
    "lnasini_lim = [1.5, 5.5]\n",
    "ecc_lim = [-0.025, 1.025]\n",
    "\n",
    "ax2.set_xlim(lnP_lim)\n",
    "ax2.set_ylim(ecc_lim)\n",
    "ax2.set_xlabel(opars._latex_labels[0])\n",
    "ax2.set_ylabel(opars._latex_labels[2])\n",
    "\n",
    "ax3.set_xlim(lnasini_lim)\n",
    "ax3.set_ylim(ecc_lim)\n",
    "ax3.set_xlabel(opars._latex_labels[1])\n",
    "\n",
    "ax2.xaxis.set_ticks(range(4,8+1))\n",
    "ax3.xaxis.set_ticks(range(2,5+1))\n",
    "ax3.yaxis.set_ticklabels([])\n",
    "\n",
    "for ax in fig.axes:\n",
    "    ax.set_rasterization_zorder(-1)\n",
    "    \n",
    "fig.tight_layout()\n",
    "\n",
    "fig.subplots_adjust(hspace=0.5)\n",
    "\n",
    "fig.savefig(os.path.join(plot_path, 'exp2-rv-curves.pdf'), dpi=128) # change to: dpi=256 for production?"
   ]
  },
  {
   "cell_type": "markdown",
   "metadata": {},
   "source": [
    "## Corner"
   ]
  },
  {
   "cell_type": "code",
   "execution_count": null,
   "metadata": {
    "collapsed": false
   },
   "outputs": [],
   "source": [
    "samples = opars.pack(plot_units=True)\n",
    "\n",
    "_med_v0 = np.median(samples[:,5])\n",
    "_mad_v0 = np.median(np.abs(samples[:,5] - _med_v0))\n",
    "\n",
    "ranges = [\n",
    "    lnP_lim,\n",
    "    lnasini_lim,\n",
    "    ecc_lim,\n",
    "    (0,360),\n",
    "    (0,360),\n",
    "    (_med_v0 - 7*_mad_v0, _med_v0 + 7*_mad_v0)\n",
    "]"
   ]
  },
  {
   "cell_type": "code",
   "execution_count": null,
   "metadata": {
    "collapsed": false
   },
   "outputs": [],
   "source": [
    "fig = plot_corner(opars, alpha=0.02, truths=troup_truths, range=ranges, truth_color=_prev_result_color,\n",
    "                  plot_contours=True, plot_density=True, bins=32)\n",
    "fig.suptitle(\"Experiment 2: {}\".format(name), fontsize=26)\n",
    "fig.savefig(os.path.join(plot_path, 'exp2-corner.pdf'), dpi=100) # change to: dpi=256 for production?"
   ]
  },
  {
   "cell_type": "code",
   "execution_count": null,
   "metadata": {
    "collapsed": true
   },
   "outputs": [],
   "source": []
  },
  {
   "cell_type": "code",
   "execution_count": null,
   "metadata": {
    "collapsed": true
   },
   "outputs": [],
   "source": []
  }
 ],
 "metadata": {
  "anaconda-cloud": {},
  "kernelspec": {
   "display_name": "Python [conda env:thejoker]",
   "language": "python",
   "name": "conda-env-thejoker-py"
  },
  "language_info": {
   "codemirror_mode": {
    "name": "ipython",
    "version": 3
   },
   "file_extension": ".py",
   "mimetype": "text/x-python",
   "name": "python",
   "nbconvert_exporter": "python",
   "pygments_lexer": "ipython3",
   "version": "3.5.2"
  }
 },
 "nbformat": 4,
 "nbformat_minor": 1
}