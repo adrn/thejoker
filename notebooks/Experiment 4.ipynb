{
 "cells": [
  {
   "cell_type": "code",
   "execution_count": null,
   "metadata": {
    "collapsed": true
   },
   "outputs": [],
   "source": [
    "# Standard library\n",
    "from collections import OrderedDict\n",
    "import os\n",
    "\n",
    "# Third-party\n",
    "import astropy.time as atime\n",
    "from astropy import log as logger\n",
    "import astropy.units as u\n",
    "import h5py\n",
    "import matplotlib.pyplot as plt\n",
    "from matplotlib import gridspec\n",
    "%matplotlib inline\n",
    "import numpy as np\n",
    "import corner\n",
    "\n",
    "# Project\n",
    "from thejoker import Paths\n",
    "paths = Paths()\n",
    "from thejoker.data import RVData\n",
    "from thejoker.units import usys\n",
    "from thejoker.celestialmechanics import OrbitalParams, SimulatedRVOrbit, rv_from_elements\n",
    "from thejoker.plot import plot_rv_curves, plot_corner\n",
    "\n",
    "plt.style.use('../thejoker/thejoker.mplstyle')"
   ]
  },
  {
   "cell_type": "code",
   "execution_count": null,
   "metadata": {
    "collapsed": true
   },
   "outputs": [],
   "source": [
    "data_filename = \"../data/experiment4.h5\"\n",
    "\n",
    "plot_path = \"../paper/figures/\"\n",
    "os.makedirs(plot_path, exist_ok=True)"
   ]
  },
  {
   "cell_type": "markdown",
   "metadata": {},
   "source": [
    "## Read the data"
   ]
  },
  {
   "cell_type": "code",
   "execution_count": null,
   "metadata": {
    "collapsed": false
   },
   "outputs": [],
   "source": [
    "all_data = OrderedDict()\n",
    "with h5py.File(data_filename, 'r') as f:\n",
    "    apogee_id = f.attrs['APOGEE_ID']\n",
    "    for key in sorted([int(x) for x in f.keys()]):\n",
    "        all_data[key] = RVData.from_hdf5(f[str(key)])"
   ]
  },
  {
   "cell_type": "code",
   "execution_count": null,
   "metadata": {
    "collapsed": false
   },
   "outputs": [],
   "source": [
    "fig,axes = plt.subplots(len(all_data), 1, figsize=(5,10), \n",
    "                        sharex=True, sharey=True)   \n",
    "\n",
    "for i,key in enumerate(list(all_data.keys())):\n",
    "    data = all_data[key]\n",
    "    data.plot(ax=axes[i], rv_unit=u.km/u.s, markersize=3, capsize=0,\n",
    "              elinewidth=0, color='k', zorder=1000, alpha=0.75)\n",
    "        \n",
    "fig.tight_layout()"
   ]
  },
  {
   "cell_type": "code",
   "execution_count": null,
   "metadata": {
    "collapsed": false
   },
   "outputs": [],
   "source": [
    "dmjd = all_data[2].t.tcb.mjd.max() - all_data[2].t.tcb.mjd.min()\n",
    "t_grid = np.linspace(all_data[2].t.tcb.mjd.min() -0.25*dmjd, \n",
    "                     all_data[2].t.tcb.mjd.max() + 0.25*dmjd, \n",
    "                     1024)\n",
    "\n",
    "rv_unit = u.km/u.s"
   ]
  },
  {
   "cell_type": "code",
   "execution_count": null,
   "metadata": {
    "collapsed": false,
    "scrolled": false
   },
   "outputs": [],
   "source": [
    "fig = plt.figure(figsize=(10,12))\n",
    "gs = gridspec.GridSpec(4, 3)\n",
    "\n",
    "axes_l = []\n",
    "axes_r = []\n",
    "for i,key in enumerate(all_data.keys()):\n",
    "    if len(axes_l) == 0:\n",
    "        ax_l = fig.add_subplot(gs[i, :2])\n",
    "        ax_r = fig.add_subplot(gs[i, 2])\n",
    "    else:\n",
    "        ax_l = fig.add_subplot(gs[i, :2], sharex=axes_l[0], sharey=axes_l[0])\n",
    "        ax_r = fig.add_subplot(gs[i, 2], sharex=axes_r[0], sharey=axes_r[0])\n",
    "    axes_l.append(ax_l)\n",
    "    axes_r.append(ax_r)\n",
    "\n",
    "    data = all_data[key]\n",
    "    \n",
    "    _mean_s = np.mean(data.stddev.to(u.km/u.s).value)\n",
    "    sigma_str = r\"$\\left\\langle \\sigma_n \\right\\rangle = {:.1f}$ ${{\\rm km}}\\,{{\\rm s}}^{{-1}}$\".format(_mean_s)\n",
    "\n",
    "    # read the orbital parameters\n",
    "    samples_filename = \"../cache/experiment4-{}.h5\".format(key)\n",
    "    with h5py.File(samples_filename, 'r') as g:            \n",
    "        joker_opars = OrbitalParams.from_hdf5(g)\n",
    "#         if 'emcee' in g and j ==0 and i < 6:\n",
    "#             opars = OrbitalParams.from_hdf5(g['emcee'])\n",
    "#         else:\n",
    "        opars = joker_opars\n",
    "        samples = opars.pack(plot_units=True)\n",
    "\n",
    "    plot_rv_curves(opars[:128], t_grid, t_offset=data.t_offset, rv_unit=rv_unit, \n",
    "                   ax=ax_l, plot_kwargs={'color': '#888888', 'zorder': -100},\n",
    "                   add_labels=False)\n",
    "    ax_l.set_rasterization_zorder(-1)\n",
    "    data.plot(ax=ax_l, rv_unit=u.km/u.s, markersize=3, capsize=0,\n",
    "              elinewidth=0, color='k', zorder=1000, alpha=0.75)\n",
    "    ax_l.text(55650, -9, r\"{}, M={}\".format(sigma_str, len(joker_opars)), \n",
    "              va='top', fontsize=18)\n",
    "\n",
    "    # plot markers on right panel\n",
    "    _n = len(opars)\n",
    "    y1,y2 = 0.75, 0.1\n",
    "    alpha = max(y2, (y2-y1) * (np.log(_n) - np.log(219)) / (np.log(50000)-np.log(219)) + y1)\n",
    "\n",
    "    y1,y2 = 3,1\n",
    "    size = max(y2, int((y2-y1) * (np.log(_n) - np.log(219)) / (np.log(50000)-np.log(219)) + y1))\n",
    "    \n",
    "    print(_n, size, alpha)\n",
    "\n",
    "    style = dict(alpha=alpha, marker='.', markersize=size, linestyle='none', \n",
    "                 rasterized=True, color='#888888')\n",
    "    ax_r.plot(samples[:,0], samples[:,2], **style)\n",
    "\n",
    "    if i < (len(all_data)-1):\n",
    "        plt.setp(ax_l.get_xticklabels(), visible=False)\n",
    "        plt.setp(ax_r.get_xticklabels(), visible=False)\n",
    "\n",
    "    ax_l.set_ylabel('RV [km s$^{-1}$]')\n",
    "    ax_r.set_ylabel(OrbitalParams._latex_labels[2])\n",
    "\n",
    "axes_l[-1].set_xlabel('BMJD')\n",
    "axes_r[-1].set_xlabel(OrbitalParams._latex_labels[0])\n",
    "\n",
    "axes_l[0].set_xlim(t_grid.min(), t_grid.max())\n",
    "axes_l[0].set_ylim(-55, -5)\n",
    "\n",
    "axes_r[0].set_xlim(2.5,7.5)\n",
    "axes_r[0].set_ylim(-0.025, 1.025)\n",
    "\n",
    "fig.tight_layout()\n",
    "\n",
    "fig.tight_layout()\n",
    "fig.subplots_adjust(top=0.95, hspace=0.15)\n",
    "fig.suptitle(\"Experiment 4: {}\".format(apogee_id), fontsize=26, y=0.99)\n",
    "\n",
    "# change to: dpi=256 for production?\n",
    "fig.savefig(os.path.join(plot_path, 'exp4-rv-curves.pdf'), dpi=100) "
   ]
  },
  {
   "cell_type": "code",
   "execution_count": null,
   "metadata": {
    "collapsed": true
   },
   "outputs": [],
   "source": []
  }
 ],
 "metadata": {
  "anaconda-cloud": {},
  "kernelspec": {
   "display_name": "Python [conda env:thejoker]",
   "language": "python",
   "name": "conda-env-thejoker-py"
  },
  "language_info": {
   "codemirror_mode": {
    "name": "ipython",
    "version": 3
   },
   "file_extension": ".py",
   "mimetype": "text/x-python",
   "name": "python",
   "nbconvert_exporter": "python",
   "pygments_lexer": "ipython3",
   "version": "3.5.2"
  }
 },
 "nbformat": 4,
 "nbformat_minor": 1
}