{
 "cells": [
  {
   "cell_type": "code",
   "execution_count": null,
   "metadata": {
    "collapsed": false
   },
   "outputs": [],
   "source": [
    "import os\n",
    "import astropy.units as u\n",
    "import h5py\n",
    "import matplotlib.pyplot as plt\n",
    "plt.style.use('apw-notebook')\n",
    "%matplotlib inline\n",
    "import numpy as np\n",
    "\n",
    "from thejoker import Paths\n",
    "paths = Paths()\n",
    "from thejoker.data import RVData"
   ]
  },
  {
   "cell_type": "code",
   "execution_count": null,
   "metadata": {
    "collapsed": false
   },
   "outputs": [],
   "source": [
    "troup_csv_path = os.path.join(paths.root, \"data\", \"troup16-dr12.csv\")\n",
    "troup = np.genfromtxt(troup_csv_path, delimiter=',', dtype=None, names=True)"
   ]
  },
  {
   "cell_type": "code",
   "execution_count": null,
   "metadata": {
    "collapsed": false
   },
   "outputs": [],
   "source": [
    "with h5py.File(paths.troup_allVisit, 'r') as f:\n",
    "    count = 0\n",
    "    for apogee_id in f:\n",
    "        if len(f[apogee_id]['rv']) >= 19:\n",
    "            count += 1\n",
    "            mjd = f[apogee_id]['mjd'][:]\n",
    "            period = troup[troup['APOGEE_ID'] == apogee_id]['PERIOD']\n",
    "            if (mjd.max() - mjd.min()) > period:\n",
    "                print(apogee_id)\n",
    "                rv = f[apogee_id]['rv'][:]\n",
    "                rv_err = f[apogee_id]['rv_err'][:]\n",
    "                \n",
    "                if count >= 2:\n",
    "                    break"
   ]
  },
  {
   "cell_type": "code",
   "execution_count": null,
   "metadata": {
    "collapsed": false
   },
   "outputs": [],
   "source": [
    "data = RVData(t=mjd, rv=rv*u.km/u.s, stddev=rv_err*u.km/u.s)\n",
    "data[np.random.choice(29, size=19, replace=False)].plot()\n",
    "print(period, len(data))"
   ]
  },
  {
   "cell_type": "code",
   "execution_count": null,
   "metadata": {
    "collapsed": true
   },
   "outputs": [],
   "source": []
  }
 ],
 "metadata": {
  "anaconda-cloud": {},
  "kernelspec": {
   "display_name": "Python [conda env:thejoker]",
   "language": "python",
   "name": "conda-env-thejoker-py"
  },
  "language_info": {
   "codemirror_mode": {
    "name": "ipython",
    "version": 3
   },
   "file_extension": ".py",
   "mimetype": "text/x-python",
   "name": "python",
   "nbconvert_exporter": "python",
   "pygments_lexer": "ipython3",
   "version": "3.5.2"
  }
 },
 "nbformat": 4,
 "nbformat_minor": 1
}