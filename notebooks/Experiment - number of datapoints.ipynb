{
 "cells": [
  {
   "cell_type": "code",
   "execution_count": null,
   "metadata": {
    "collapsed": false
   },
   "outputs": [],
   "source": [
    "# Standard library\n",
    "from collections import OrderedDict\n",
    "from os.path import join, exists\n",
    "\n",
    "# Third-party\n",
    "import corner\n",
    "import astropy.units as u\n",
    "import h5py\n",
    "from matplotlib import gridspec\n",
    "import matplotlib.pyplot as plt\n",
    "%matplotlib inline\n",
    "import numpy as np\n",
    "\n",
    "# Project\n",
    "from thejoker import Paths\n",
    "paths = Paths()\n",
    "from thejoker.data import RVData\n",
    "from thejoker.celestialmechanics import OrbitalParams\n",
    "from thejoker.plot import plot_rv_curves, _truth_color\n",
    "\n",
    "plt.style.use('../thejoker/thejoker.mplstyle')\n",
    "\n",
    "from figurehelpers import samples_units, make_rv_curve_figure, apw_corner"
   ]
  },
  {
   "cell_type": "code",
   "execution_count": null,
   "metadata": {
    "collapsed": true
   },
   "outputs": [],
   "source": [
    "dpi = 256"
   ]
  },
  {
   "cell_type": "code",
   "execution_count": null,
   "metadata": {
    "collapsed": true
   },
   "outputs": [],
   "source": [
    "# experiment number\n",
    "e_number = 3\n",
    "e_name = 'numpts'"
   ]
  },
  {
   "cell_type": "code",
   "execution_count": null,
   "metadata": {
    "collapsed": true
   },
   "outputs": [],
   "source": [
    "data_filename = \"../data/experiment{}.h5\".format(e_number)"
   ]
  },
  {
   "cell_type": "code",
   "execution_count": null,
   "metadata": {
    "collapsed": true
   },
   "outputs": [],
   "source": [
    "labels = OrbitalParams.get_labels(samples_units)"
   ]
  },
  {
   "cell_type": "markdown",
   "metadata": {},
   "source": [
    "## Read the data"
   ]
  },
  {
   "cell_type": "code",
   "execution_count": null,
   "metadata": {
    "collapsed": false
   },
   "outputs": [],
   "source": [
    "all_data = OrderedDict()\n",
    "all_pars = OrderedDict()\n",
    "all_samples = OrderedDict()\n",
    "emcee_samples = OrderedDict()\n",
    "with h5py.File(data_filename, 'r') as f:\n",
    "    for key in sorted([int(x) for x in f.keys() if x != 'truth'], reverse=True):\n",
    "        all_data[key] = RVData.from_hdf5(f[str(key)])\n",
    "    \n",
    "        _path = join(paths.cache, 'experiment{}-{}.h5'.format(e_number, key))\n",
    "        if not exists(_path): continue\n",
    "        with h5py.File(_path, 'r') as g:\n",
    "            all_pars[key] = OrbitalParams.from_hdf5(g)\n",
    "            all_samples[key] = all_pars[key].pack(plot_transform=True, units=samples_units)\n",
    "\n",
    "            if 'emcee' in g:\n",
    "                emcee_pars = OrbitalParams.from_hdf5(g['emcee'])\n",
    "                emcee_samples[key] = emcee_pars.pack(plot_transform=True, units=samples_units)\n",
    "            \n",
    "        print(len(all_data[key]), all_samples[key].shape)\n",
    "    \n",
    "    truth_pars = OrbitalParams.from_hdf5(f['truth'])\n",
    "    truth_vec = truth_pars.pack(plot_transform=True, units=samples_units)"
   ]
  },
  {
   "cell_type": "code",
   "execution_count": null,
   "metadata": {
    "collapsed": false
   },
   "outputs": [],
   "source": [
    "fig,axes = plt.subplots(len(all_data), 1, figsize=(5,10), \n",
    "                        sharex=True, sharey=True)   \n",
    "\n",
    "t_grid = np.linspace(all_data[11].t.tcb.mjd.min()-50, all_data[11].t.tcb.mjd.max()+50, 1024)\n",
    "\n",
    "for i,key in enumerate(list(all_data.keys())):\n",
    "    data = all_data[key]\n",
    "    \n",
    "    axes[i].plot(t_grid, truth_pars.rv_orbit()(t_grid), marker='', color='g', linestyle='--')\n",
    "    data.plot(ax=axes[i], rv_unit=u.km/u.s, markersize=3, capsize=0,\n",
    "              elinewidth=0, color='k', zorder=1000, alpha=0.75)\n",
    "        \n",
    "    if key > 0:\n",
    "        not_included = np.array([x not in data._rv for x in all_data[key]._rv])\n",
    "        reject_data = all_data[key][not_included]\n",
    "\n",
    "        axes[i].plot(reject_data.t.tcb.mjd, reject_data.rv.to(u.km/u.s).value, \n",
    "                     marker='x', zorder=100, linestyle='none',\n",
    "                     markersize=4, markeredgewidth=1, color='#de2d26')\n",
    "        \n",
    "fig.tight_layout()"
   ]
  },
  {
   "cell_type": "code",
   "execution_count": null,
   "metadata": {
    "collapsed": true
   },
   "outputs": [],
   "source": [
    "dmjd = all_data[11].t.tcb.mjd.max() - all_data[11].t.tcb.mjd.min()\n",
    "t_grid = np.linspace(all_data[11].t.tcb.mjd.min() - 0.25*dmjd, \n",
    "                     all_data[11].t.tcb.mjd.max() + 0.25*dmjd, \n",
    "                     1024)"
   ]
  },
  {
   "cell_type": "markdown",
   "metadata": {},
   "source": [
    "### Two-column, rv curves + period-eccentricity"
   ]
  },
  {
   "cell_type": "code",
   "execution_count": null,
   "metadata": {
    "collapsed": false
   },
   "outputs": [],
   "source": [
    "fig = plt.figure(figsize=(9.5,12))\n",
    "gs = gridspec.GridSpec(5,3)\n",
    "\n",
    "axes_l = []\n",
    "axes_r = []\n",
    "for i,key in enumerate(all_data.keys()):\n",
    "    if len(axes_l) == 0:\n",
    "        ax_l = fig.add_subplot(gs[i, :2])\n",
    "        ax_r = fig.add_subplot(gs[i, 2])\n",
    "    else:\n",
    "        ax_l = fig.add_subplot(gs[i, :2], sharex=axes_l[0], sharey=axes_l[0])\n",
    "        ax_r = fig.add_subplot(gs[i, 2], sharex=axes_r[0], sharey=axes_r[0])\n",
    "    axes_l.append(ax_l)\n",
    "    axes_r.append(ax_r)\n",
    "\n",
    "    data = all_data[key]\n",
    "    pars = all_pars[key]\n",
    "    samples = all_samples[key]\n",
    "    \n",
    "    plot_rv_curves(pars[:128], t_grid, rv_unit=u.km/u.s, \n",
    "                   ax=ax_l, plot_kwargs={'color': '#aaaaaa', 'zorder': -100, 'marker': ''},\n",
    "                   add_labels=False)\n",
    "    ax_l.set_rasterization_zorder(-1)\n",
    "    data.plot(ax=ax_l, rv_unit=u.km/u.s, markersize=4, capsize=0,\n",
    "              elinewidth=0, color='k', zorder=1000, alpha=0.75)\n",
    "    ax_l.text(55400, 40, r\"$N={}$, $M={}$\".format(len(data), len(samples)), \n",
    "              va='top', fontsize=16)\n",
    "\n",
    "    # plot markers on right panel\n",
    "    _n = len(pars)\n",
    "    if key in emcee_samples:\n",
    "        _n += len(emcee_samples[key])\n",
    "        \n",
    "    _tmp = np.log(max([len(d) for d in all_pars.values()]))\n",
    "    y1,y2 = 0.75, 0.05\n",
    "    alpha = (y2-y1) * (np.log(_n) - np.log(128)) / (_tmp-np.log(128)) + y1\n",
    "\n",
    "    y1,y2 = 4,1\n",
    "    size = max(1, int((y2-y1) * (np.log(_n) - np.log(128)) / (_tmp-np.log(128)) + y1))\n",
    "\n",
    "    style = dict(alpha=alpha, marker='.', markersize=size, linestyle='none', \n",
    "                 rasterized=True, color='#888888')\n",
    "    ax_r.plot(samples[:,0], samples[:,1], **style)\n",
    "    if key in emcee_samples:\n",
    "        ax_r.plot(emcee_samples[key][:,0], emcee_samples[key][:,1], **style)\n",
    "\n",
    "    if i < 4:\n",
    "        print(\"hide\", i)\n",
    "        plt.setp(ax_l.get_xticklabels(), visible=False)\n",
    "        plt.setp(ax_r.get_xticklabels(), visible=False)\n",
    "\n",
    "    ax_r.set_ylabel(labels[1])\n",
    "\n",
    "axes_l[0].set_ylabel('RV [km s$^{-1}$]')\n",
    "axes_l[-1].set_xlabel('BMJD')\n",
    "axes_r[-1].set_xlabel(labels[0])\n",
    "\n",
    "axes_l[0].set_xlim(t_grid.min(), t_grid.max())\n",
    "axes_l[0].set_ylim(-5, 45)\n",
    "\n",
    "axes_r[0].set_xlim(2.5, 7.5)\n",
    "axes_r[0].set_ylim(-0.025, 1)\n",
    "\n",
    "# hack:\n",
    "# if j == 0:\n",
    "#     axes_r[0].yaxis.set_ticks([0, 0.1, 0.2])\n",
    "#     axes_r[0].xaxis.set_ticks([5.1,5.2,5.3,5.4])\n",
    "\n",
    "fig.tight_layout()\n",
    "fig.subplots_adjust(top=0.95, hspace=0.15)\n",
    "fig.suptitle(\"Experiment {}\".format(e_number), fontsize=24)\n",
    "\n",
    "# change to: dpi=256 for production?\n",
    "fig.savefig(join(paths.figures, '{}-rv-curves.pdf'.format(e_name)), dpi=dpi) "
   ]
  },
  {
   "cell_type": "code",
   "execution_count": null,
   "metadata": {
    "collapsed": true
   },
   "outputs": [],
   "source": []
  }
 ],
 "metadata": {
  "anaconda-cloud": {},
  "kernelspec": {
   "display_name": "Python [conda env:thejoker]",
   "language": "python",
   "name": "conda-env-thejoker-py"
  },
  "language_info": {
   "codemirror_mode": {
    "name": "ipython",
    "version": 3
   },
   "file_extension": ".py",
   "mimetype": "text/x-python",
   "name": "python",
   "nbconvert_exporter": "python",
   "pygments_lexer": "ipython3",
   "version": "3.5.2"
  }
 },
 "nbformat": 4,
 "nbformat_minor": 1
}