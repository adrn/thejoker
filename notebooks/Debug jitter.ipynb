{
 "cells": [
  {
   "cell_type": "code",
   "execution_count": null,
   "metadata": {
    "collapsed": false
   },
   "outputs": [],
   "source": [
    "# Standard library\n",
    "import os\n",
    "\n",
    "# Third-party\n",
    "import astropy.time as atime\n",
    "from astropy import log as logger\n",
    "import astropy.units as u\n",
    "import h5py\n",
    "import matplotlib.pyplot as plt\n",
    "%matplotlib inline\n",
    "from matplotlib import gridspec\n",
    "import numpy as np\n",
    "\n",
    "# Project\n",
    "from thejoker import Paths\n",
    "paths = Paths()\n",
    "from thejoker.data import RVData\n",
    "from thejoker.util import quantity_from_hdf5\n",
    "from thejoker.celestialmechanics import OrbitalParams, SimulatedRVOrbit, rv_from_elements\n",
    "from thejoker.plot import plot_rv_curves, plot_corner, _prev_result_color\n",
    "from thejoker.sampler import tensor_vector_scalar, marginal_ln_likelihood, design_matrix\n",
    "\n",
    "plt.style.use('../thejoker/thejoker.mplstyle')"
   ]
  },
  {
   "cell_type": "code",
   "execution_count": null,
   "metadata": {
    "collapsed": false
   },
   "outputs": [],
   "source": [
    "# high-eccentricity orbit with reasonable or randomly chosen parameters\n",
    "opars = OrbitalParams(P=1.412*u.year, K=1200.205*u.m/u.s, ecc=0., # like Jupiter\n",
    "                      omega=np.random.uniform(0, 2*np.pi)*u.rad,\n",
    "                      phi0=np.random.uniform(0, 2*np.pi)*u.rad,\n",
    "                      v0=np.random.normal(0, 30) * u.km/u.s, \n",
    "                      jitter=0.*u.m/u.s)\n",
    "orbit = opars.rv_orbit(0)\n",
    "print(\"Mass function:\", opars.mf)\n",
    "print(\"  (companion mass: {})\".format((opars.mf.value**(1/3.) * u.Msun).to(u.Mjup)))\n",
    "print(\"asini:\", opars.asini)\n",
    "print(\"omega:\", opars.omega.to(u.degree))\n",
    "print(\"phi0:\", opars.phi0.to(u.degree))\n",
    "print(\"v0:\", opars.v0.to(u.km/u.s))\n",
    "\n",
    "n_obs = 100 # MAGIC NUMBER: number of observations\n",
    "# bmjd = np.random.uniform(0, 3*365, size=n_obs) + 55555. # 3 year survey\n",
    "bmjd = np.linspace(0, 3*365, n_obs) # 3 year survey\n",
    "bmjd.sort()\n",
    "rv = orbit.generate_rv_curve(bmjd)\n",
    "rv_err = np.random.uniform(100, 200, size=n_obs) * u.m/u.s # apogee-like\n",
    "# rv_err = np.random.uniform(1, 2, size=n_obs) * u.m/u.s # apogee-like\n",
    "rv = np.random.normal(rv.to(u.m/u.s).value, rv_err.value) * u.m/u.s\n",
    "\n",
    "data = RVData(t=bmjd, rv=rv, stddev=rv_err)\n",
    "data.plot(marker='.', rv_unit=u.km/u.s)"
   ]
  },
  {
   "cell_type": "code",
   "execution_count": null,
   "metadata": {
    "collapsed": false
   },
   "outputs": [],
   "source": [
    "nonlinear_p = np.vstack((opars._P, opars._phi0, opars._ecc, opars._omega, 0)).T[0]\n",
    "\n",
    "ivar = data.get_ivar(0.)\n",
    "A = design_matrix(nonlinear_p, data._t, data.t_offset)\n",
    "ATCinvA,p,chi2 = tensor_vector_scalar(A, ivar, data._rv)\n",
    "chi2"
   ]
  },
  {
   "cell_type": "code",
   "execution_count": null,
   "metadata": {
    "collapsed": false
   },
   "outputs": [],
   "source": [
    "s2 = (1E3)**2\n",
    "nonlinear_p = np.vstack((opars._P, \n",
    "                         opars._phi0, \n",
    "                         opars._ecc, \n",
    "                         opars._omega, \n",
    "                         s2)).T[0]\n",
    "\n",
    "A = design_matrix(nonlinear_p, data._t, data.t_offset)\n",
    "# print(A)\n",
    "\n",
    "ivar = data.get_ivar(s2)\n",
    "ATCinv = (A.T * ivar[None])\n",
    "ATCinvA = ATCinv.dot(A)\n",
    "\n",
    "# def func(p):\n",
    "#     return (A.dot(p) - data._rv) * ivar\n",
    "# print(leastsq(func, x0=[0., 100.])[0])\n",
    "\n",
    "# Note: this is unstable! if cond num is high, could do:\n",
    "p = np.linalg.solve(ATCinvA, ATCinv.dot(data._rv))\n",
    "print(p)\n",
    "print(np.sqrt(np.diag(np.linalg.inv(ATCinvA))))"
   ]
  },
  {
   "cell_type": "code",
   "execution_count": null,
   "metadata": {
    "collapsed": false
   },
   "outputs": [],
   "source": [
    "plt.plot(data._t, data._rv, ls='none')\n",
    "plt.plot(data._t, A.dot(p), marker='')"
   ]
  },
  {
   "cell_type": "code",
   "execution_count": null,
   "metadata": {
    "collapsed": false
   },
   "outputs": [],
   "source": [
    "s2 = np.logspace(-2, 4, 128)**2\n",
    "logdet = np.zeros_like(s2)\n",
    "exp_arg = np.zeros_like(s2)\n",
    "for i,val in enumerate(s2):\n",
    "    nonlinear_p = np.vstack((opars._P, \n",
    "                             opars._phi0, \n",
    "                             opars._ecc, \n",
    "                             opars._omega, \n",
    "                             val)).T[0]\n",
    "    \n",
    "    A = design_matrix(nonlinear_p, data._t, data.t_offset)\n",
    "    ivar = data.get_ivar(val)\n",
    "    ATCinv = (A.T * ivar[None])\n",
    "    ATCinvA = ATCinv.dot(A)\n",
    "\n",
    "    v0_K = np.linalg.solve(ATCinvA, ATCinv.dot(data._rv))\n",
    "\n",
    "    dy = A.dot(v0_K) - data._rv\n",
    "    chi2 = np.sum(dy**2 * ivar) # don't need log term for the jitter b.c. in likelihood below\n",
    "    \n",
    "    # ATCinvA,p,chi2 = tensor_vector_scalar(nonlinear_p, data)\n",
    "    logdet[i] = np.linalg.slogdet(ATCinvA/(2*np.pi))[1] + np.sum(np.log(ivar/(2*np.pi)))\n",
    "    exp_arg[i] = -0.5*chi2\n",
    "    \n",
    "fig,ax = plt.subplots(1,1)\n",
    "ax.semilogx(np.sqrt(s2), logdet, c='r', marker='', label='logdet')\n",
    "ax.semilogx(np.sqrt(s2), exp_arg, c='g', marker='', label='-0.5*chi2')\n",
    "ax.semilogx(np.sqrt(s2), exp_arg + 0.5*logdet, c='k', marker='', lw=2)\n",
    "ax.axvline(np.median(rv_err.value), color='b', label='median uncertainty')\n",
    "ax.legend(loc='center left')\n",
    "ax.set_xlabel('$s$ [m/s]')"
   ]
  },
  {
   "cell_type": "code",
   "execution_count": null,
   "metadata": {
    "collapsed": false,
    "scrolled": false
   },
   "outputs": [],
   "source": [
    "s2 = np.logspace(-2, 4, 128)**2\n",
    "ll = np.zeros_like(s2)\n",
    "for i,val in enumerate(s2):\n",
    "    nonlinear_p = np.vstack((opars._P, \n",
    "                             opars._phi0, \n",
    "                             opars._ecc, \n",
    "                             opars._omega, \n",
    "                             val)).T[0]\n",
    "#     ATCinvA,p,chi2 = tensor_vector_scalar(nonlinear_p, data)\n",
    "#     logdet = np.linalg.slogdet(ATCinvA)[1]\n",
    "#     ll[i] = -0.5*np.atleast_1d(chi2) + 0.5*logdet - 0.5*np.sum(np.log(rv_err.value**2 + val))\n",
    "    ll[i] = marginal_ln_likelihood(nonlinear_p, data)\n",
    "    \n",
    "fig,axes = plt.subplots(1,2,figsize=(12,5))\n",
    "axes[0].semilogx(np.sqrt(s2), ll, c='k')\n",
    "axes[1].semilogx(np.sqrt(s2), np.exp(ll - ll.max()), c='k')\n",
    "axes[1].set_ylim(0,1)\n",
    "\n",
    "axes[0].axvline(np.median(rv_err.value))\n",
    "axes[1].axvline(np.median(rv_err.value))"
   ]
  },
  {
   "cell_type": "code",
   "execution_count": null,
   "metadata": {
    "collapsed": true
   },
   "outputs": [],
   "source": []
  },
  {
   "cell_type": "code",
   "execution_count": null,
   "metadata": {
    "collapsed": true
   },
   "outputs": [],
   "source": []
  }
 ],
 "metadata": {
  "anaconda-cloud": {},
  "kernelspec": {
   "display_name": "Python [conda env:thejoker]",
   "language": "python",
   "name": "conda-env-thejoker-py"
  },
  "language_info": {
   "codemirror_mode": {
    "name": "ipython",
    "version": 3
   },
   "file_extension": ".py",
   "mimetype": "text/x-python",
   "name": "python",
   "nbconvert_exporter": "python",
   "pygments_lexer": "ipython3",
   "version": "3.5.2"
  }
 },
 "nbformat": 4,
 "nbformat_minor": 1
}