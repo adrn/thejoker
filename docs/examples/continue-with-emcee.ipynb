{
 "cells": [
  {
   "cell_type": "markdown",
   "metadata": {},
   "source": [
    "# Generate samples for unimodal systems with standard MCMC"
   ]
  },
  {
   "cell_type": "markdown",
   "metadata": {},
   "source": [
    "When many prior samples are used with The Joker, and the sampler returns one sample, or the samples returned are within the same mode of the posterior, the posterior pdf is likely unimodal. In these cases, we can use standard MCMC (e.g., Metropolis-Hastings or an ensemble sampler like `emcee`) to generate posterior samples for us. In this example, we will use `emcee` to \"continue\" sampling for data that are very constraining, so that The Joker only returns a single sample."
   ]
  },
  {
   "cell_type": "code",
   "execution_count": null,
   "metadata": {},
   "outputs": [],
   "source": [
    "import pickle\n",
    "\n",
    "from astropy.time import Time\n",
    "import astropy.units as u\n",
    "import matplotlib.pyplot as plt\n",
    "import numpy as np\n",
    "%matplotlib inline\n",
    "\n",
    "from thejoker.data import RVData\n",
    "from thejoker.sampler.mcmc import TheJokerMCMCModel\n",
    "from thejoker.sampler import JokerParams, TheJoker\n",
    "from thejoker.plot import plot_rv_curves"
   ]
  },
  {
   "cell_type": "markdown",
   "metadata": {},
   "source": [
    "For this example, I've already pre-generated some simulated data that we're going to use -- the true parameters of the main orbit are in the cell below:"
   ]
  },
  {
   "cell_type": "code",
   "execution_count": null,
   "metadata": {},
   "outputs": [],
   "source": [
    "true_P = 61.1166 * u.day"
   ]
  },
  {
   "cell_type": "markdown",
   "metadata": {},
   "source": [
    "The data are provided in-line in the next cell:"
   ]
  },
  {
   "cell_type": "code",
   "execution_count": null,
   "metadata": {},
   "outputs": [],
   "source": [
    "from twobody import KeplerOrbit\n",
    "rnd = np.random.RandomState(42)\n",
    "\n",
    "t0 = Time(2450546.80, format='jd', scale='utc')\n",
    "\n",
    "truth = dict()\n",
    "truth['P'] = true_P\n",
    "truth['a'] = 0.2081*u.au * (1000.95*u.Mjup) / (0.320*u.Msun)\n",
    "truth['e'] = 0.0324 * u.one\n",
    "phi0 = 2*np.pi*t0.tcb.mjd / truth['P'].to(u.day).value\n",
    "truth['M0'] = (phi0 % (2*np.pi)) * u.radian\n",
    "truth['omega'] = 50.3 * u.degree\n",
    "\n",
    "orbit = KeplerOrbit(**truth, \n",
    "                    Omega=0*u.deg, i=90*u.deg) # these angle don't matter for RV\n",
    "\n",
    "n_data = 16\n",
    "t = Time(55557. + rnd.uniform(0, 350, n_data), \n",
    "         format='mjd', scale='tcb')\n",
    "t.sort()\n",
    "rv = orbit.radial_velocity(t)\n",
    "\n",
    "err = np.full_like(t, 500) * u.m/u.s\n",
    "rv = rv + rnd.normal(0, err.value)*err.unit"
   ]
  },
  {
   "cell_type": "code",
   "execution_count": null,
   "metadata": {},
   "outputs": [],
   "source": [
    "t = Time([55688.0890416 , 55889.75000724, 55813.19787963, 55766.53046947,\n",
    "          55611.60652415, 55611.59808212, 55577.32926426, 55860.16165102,\n",
    "          55767.39025411, 55804.82540223, 55564.204573  , 55896.46844826,\n",
    "          55848.35492428, 55631.31868874, 55620.63873852, 55621.19157845], \n",
    "         format='mjd', scale='tcb')\n",
    "rv = [  83.31689433,   39.6248937 ,  100.92882012,   51.26634215,\n",
    "        -69.07714276,  -68.48276032,  100.59400063,  -31.12700028,\n",
    "         42.74779325,   31.24570195,   69.42366188,  -38.67907851,\n",
    "       -107.75242796,  108.11581448,   21.85112231,   28.52994995] * u.km/u.s\n",
    "rv_err = [500., 500., 500., 500., \n",
    "          500., 500., 500., 500., \n",
    "          500., 500., 500., 500., \n",
    "          500., 500., 500., 500.] * u.m/u.s\n",
    "data = RVData(t, rv, stddev=rv_err)\n",
    "_ = data.plot()"
   ]
  },
  {
   "cell_type": "markdown",
   "metadata": {},
   "source": [
    "We'll start by running The Joker to see how many samples we get back:"
   ]
  },
  {
   "cell_type": "code",
   "execution_count": null,
   "metadata": {},
   "outputs": [],
   "source": [
    "params = JokerParams(P_min=2*u.day, P_max=1024*u.day,\n",
    "                     linear_par_Lambda=np.diag([1e2, 1e2])**2)\n",
    "joker = TheJoker(params)\n",
    "joker_samples = joker.rejection_sample(data, n_prior_samples=2**19)"
   ]
  },
  {
   "cell_type": "code",
   "execution_count": null,
   "metadata": {},
   "outputs": [],
   "source": [
    "_ = plot_rv_curves(joker_samples, data=data)"
   ]
  },
  {
   "cell_type": "markdown",
   "metadata": {},
   "source": [
    "Only one sample is returned! This either means we need to dramatically increase the number of prior samples we're using, or it means that the data are so informative that the posterior pdf is effectively unimodal. Here, we'll assume the latter is true, and we'll use the one sample that is returned to initialize standard MCMC to continue generating posterior samples. \n",
    "\n",
    "We perform the MCMC sampling in a different parametrization of the Kepler problem from that used in The Joker. Motivated by [this paper](https://ui.adsabs.harvard.edu/#abs/2006ApJ...642..505F/abstract), we use our own parametrization defined as:\n",
    "$$\n",
    "\\begin{align}\n",
    "&\\ln P \\\\\n",
    "&\\sqrt{K}\\,\\cos(M_0-\\omega), \\sqrt{K}\\,\\sin(M_0-\\omega) \\\\\n",
    "&\\sqrt{e}\\,\\cos\\omega, \\sqrt{e}\\,\\sin\\omega \\\\\n",
    "&\\ln s^2 \\\\\n",
    "&v_0,..., v_n\n",
    "\\end{align}\n",
    "$$\n",
    "\n",
    "However, we don't want *you* to have to worry about these details: The Joker provides a class, `TheJokerMCMCModel`, that handles transforming to and from this parametrization, and deals with the MCMC sampling for you. This is all wrapped inside a convenience method on `TheJoker` object, so you can continue sampling with `emcee` by specifying the number of steps and number of walkers. This method uses samples generated from The Joker (here, `joker_samples`) to initialize the `emcee` sampling:"
   ]
  },
  {
   "cell_type": "code",
   "execution_count": null,
   "metadata": {},
   "outputs": [],
   "source": [
    "# Note: this takes a few minutes to execute, so I've pickled the results\n",
    "# and we load them for this demo\n",
    "# model, samples, sampler = joker.mcmc_sample(data, joker_samples, \n",
    "#                                             n_steps=256, n_burn=256,\n",
    "#                                             n_walkers=256,\n",
    "#                                             return_sampler=True)\n",
    "\n",
    "# with open('mcmc_results.pkl', 'wb') as f:\n",
    "#     pickle.dump((model, samples, sampler), f)\n",
    "\n",
    "with open('mcmc_results.pkl', 'rb') as f:\n",
    "    (model, samples, sampler) = pickle.load(f)"
   ]
  },
  {
   "cell_type": "markdown",
   "metadata": {},
   "source": [
    "Let's start by plotting the MCMC chain traces for each parameter as a function of step number:"
   ]
  },
  {
   "cell_type": "code",
   "execution_count": null,
   "metadata": {},
   "outputs": [],
   "source": [
    "fig, axes = plt.subplots(sampler.chain.shape[-1], 1, figsize=(8, 16),\n",
    "                         sharex=True)\n",
    "\n",
    "for k in range(sampler.chain.shape[-1]):\n",
    "    ax = axes[k]\n",
    "    for walker in sampler.chain[..., k]:\n",
    "        ax.plot(walker, marker='', drawstyle='steps-mid', \n",
    "                color='k', alpha=0.2)"
   ]
  },
  {
   "cell_type": "markdown",
   "metadata": {},
   "source": [
    "Visually, the chains look like they are converged (the parameters plotted are the transformed MCMC parameters). We can also visualize the samples by making a \"corner\" plot with the `corner` package (you can install this with `pip install corner`):"
   ]
  },
  {
   "cell_type": "code",
   "execution_count": null,
   "metadata": {},
   "outputs": [],
   "source": [
    "import corner"
   ]
  },
  {
   "cell_type": "code",
   "execution_count": null,
   "metadata": {
    "scrolled": false
   },
   "outputs": [],
   "source": [
    "_ = corner.corner(sampler.flatchain)"
   ]
  },
  {
   "cell_type": "markdown",
   "metadata": {},
   "source": [
    "The `samples` returned from the MCMC sampling have been transformed back to the Keplerian parameters, i.e. the parameters used in The Joker:"
   ]
  },
  {
   "cell_type": "code",
   "execution_count": null,
   "metadata": {},
   "outputs": [],
   "source": [
    "samples.keys()"
   ]
  },
  {
   "cell_type": "markdown",
   "metadata": {},
   "source": [
    "How do the period samples compare to the true period?"
   ]
  },
  {
   "cell_type": "code",
   "execution_count": null,
   "metadata": {},
   "outputs": [],
   "source": [
    "plt.hist(samples['P'].value)\n",
    "plt.axvline(true_P.value, zorder=100, color='tab:orange')\n",
    "plt.xlabel('period, $P$ [day]')"
   ]
  },
  {
   "cell_type": "code",
   "execution_count": null,
   "metadata": {},
   "outputs": [],
   "source": []
  }
 ],
 "metadata": {
  "kernelspec": {
   "display_name": "Python 3",
   "language": "python",
   "name": "python3"
  },
  "language_info": {
   "codemirror_mode": {
    "name": "ipython",
    "version": 3
   },
   "file_extension": ".py",
   "mimetype": "text/x-python",
   "name": "python",
   "nbconvert_exporter": "python",
   "pygments_lexer": "ipython3",
   "version": "3.7.4"
  }
 },
 "nbformat": 4,
 "nbformat_minor": 2
}
