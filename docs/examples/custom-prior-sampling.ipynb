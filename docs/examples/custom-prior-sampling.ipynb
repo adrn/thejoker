{
 "cells": [
  {
   "cell_type": "markdown",
   "metadata": {},
   "source": [
    "# Running The Joker with custom prior samples"
   ]
  },
  {
   "cell_type": "markdown",
   "metadata": {},
   "source": [
    "By default, The Joker will generate prior samples internally and use these to generate posterior samples. It is sometimes useful to instead create a custom cache of prior samples to use if you, for example, believe that your data or systems of interest have a different eccentricity distribution than that assumed in The Joker. Here, we'll work through an example of how to generate your own prior samples file and use this with The Joker. In particular, we will assume that the system has no eccentricity (is circular), so we will generate prior samples with $e = 0$."
   ]
  },
  {
   "cell_type": "code",
   "execution_count": null,
   "metadata": {},
   "outputs": [],
   "source": [
    "import os\n",
    "\n",
    "from astropy.time import Time\n",
    "import astropy.units as u\n",
    "import matplotlib.pyplot as plt\n",
    "import numpy as np\n",
    "%matplotlib inline\n",
    "\n",
    "from thejoker.data import RVData\n",
    "from thejoker.sampler.io import save_prior_samples\n",
    "from thejoker.sampler import JokerParams, TheJoker\n",
    "from thejoker.plot import plot_rv_curves"
   ]
  },
  {
   "cell_type": "markdown",
   "metadata": {},
   "source": [
    "For this example, I've already pre-generated some simulated data that we're going to use -- the true parameters of the main orbit are in the cell below:"
   ]
  },
  {
   "cell_type": "code",
   "execution_count": null,
   "metadata": {},
   "outputs": [],
   "source": [
    "true_P = 61.1166 * u.day\n",
    "true_e = 0.0324"
   ]
  },
  {
   "cell_type": "markdown",
   "metadata": {},
   "source": [
    "The data are provided in-line in the next cell:"
   ]
  },
  {
   "cell_type": "code",
   "execution_count": null,
   "metadata": {},
   "outputs": [],
   "source": [
    "t = Time([56001.71633991, 56030.37736291, 56033.3716085 , 56035.26497108,\n",
    "          56037.53465393, 56131.88500321, 56145.72804619, 56215.01481418], \n",
    "         format='mjd', scale='tcb')\n",
    "rv = [19.911927, 12.004762, 4.320121, 0.21907635, \n",
    "      -3.8032671, 36.162901, 28.636109, 8.2394115] * u.km/u.s\n",
    "rv_err = [0.2, 0.2, 0.2, 0.2, 0.2, 0.2, 0.2, 0.2] * u.m/u.s\n",
    "data = RVData(t, rv, stddev=rv_err)\n",
    "_ = data.plot()"
   ]
  },
  {
   "cell_type": "markdown",
   "metadata": {},
   "source": [
    "The easiest way to generate your own prior samples is to use the `TheJoker.sample_prior()` method, then modify the samples that are returned. Here we will use the default period prior (uniform in the logarithm of period between the specified bounds), but will modify the prior samples in eccentricity that are generated:"
   ]
  },
  {
   "cell_type": "code",
   "execution_count": null,
   "metadata": {},
   "outputs": [],
   "source": [
    "params = JokerParams(P_min=2*u.day, P_max=1024*u.day)\n",
    "joker = TheJoker(params)"
   ]
  },
  {
   "cell_type": "markdown",
   "metadata": {},
   "source": [
    "Here we use the `.sample_prior()` method to generate a million prior samples under the default prior, then we replace the eccentricity, `\"e\"`, values with zeros:"
   ]
  },
  {
   "cell_type": "code",
   "execution_count": null,
   "metadata": {},
   "outputs": [],
   "source": [
    "prior_samples = joker.sample_prior(size=1_000_000)\n",
    "\n",
    "default_e_samples = prior_samples['e']\n",
    "prior_samples['e'] = np.zeros(len(prior_samples))"
   ]
  },
  {
   "cell_type": "markdown",
   "metadata": {},
   "source": [
    "To use these samples with The Joker, we have to create a cache file and save the prior samples. We can do that with the `save_prior_samples()` function in `thejoker`:"
   ]
  },
  {
   "cell_type": "code",
   "execution_count": null,
   "metadata": {},
   "outputs": [],
   "source": [
    "prior_cache_file = 'prior_cache.hdf5'\n",
    "\n",
    "# always overwrite the file:\n",
    "os.remove(prior_cache_file)\n",
    "\n",
    "save_prior_samples(prior_cache_file,\n",
    "                   prior_samples,\n",
    "                   data.rv.unit);"
   ]
  },
  {
   "cell_type": "markdown",
   "metadata": {},
   "source": [
    "We now pass this cache filename in to `rejection_sample` or `iterative_rejection_sample`:"
   ]
  },
  {
   "cell_type": "code",
   "execution_count": null,
   "metadata": {},
   "outputs": [],
   "source": [
    "samples = joker.rejection_sample(data, prior_cache_file=prior_cache_file)"
   ]
  },
  {
   "cell_type": "code",
   "execution_count": null,
   "metadata": {},
   "outputs": [],
   "source": [
    "_ = plot_rv_curves(samples, data=data)"
   ]
  },
  {
   "cell_type": "markdown",
   "metadata": {},
   "source": [
    "Notice that the samples (in this case, just 1) that are returned have eccentricity $e=0$, as we desired:"
   ]
  },
  {
   "cell_type": "code",
   "execution_count": null,
   "metadata": {},
   "outputs": [],
   "source": [
    "samples"
   ]
  }
 ],
 "metadata": {
  "kernelspec": {
   "display_name": "Python [default]",
   "language": "python",
   "name": "python3"
  },
  "language_info": {
   "codemirror_mode": {
    "name": "ipython",
    "version": 3
   },
   "file_extension": ".py",
   "mimetype": "text/x-python",
   "name": "python",
   "nbconvert_exporter": "python",
   "pygments_lexer": "ipython3",
   "version": "3.6.4"
  }
 },
 "nbformat": 4,
 "nbformat_minor": 2
}
