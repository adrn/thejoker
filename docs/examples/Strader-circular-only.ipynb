{
 "cells": [
  {
   "cell_type": "code",
   "execution_count": null,
   "metadata": {},
   "outputs": [],
   "source": [
    "%run notebook_setup"
   ]
  },
  {
   "cell_type": "markdown",
   "metadata": {},
   "source": [
    "# Reproducing Swihart et al. 2019\n",
    "\n",
    "In this science demo tutorial, we will reproduce the results in [Swihart et al. 2019](https://ui.adsabs.harvard.edu/abs/2019ApJ...876....8S/abstract), who used optical spectroscopic follow-up of a companion to a millisecond pulsar to constrain the mass of the pulsar. We will use *The Joker* to constrain the orbit of the system, assuming circular orbits (as done in the paper), and then continue sampling using MCMC (as implemented in pymc3) to compare our results.\n",
    "\n",
    "First, a bunch of imports we will need later:"
   ]
  },
  {
   "cell_type": "code",
   "execution_count": null,
   "metadata": {},
   "outputs": [],
   "source": [
    "import arviz as az\n",
    "import astropy.units as u\n",
    "import corner\n",
    "import matplotlib.pyplot as plt\n",
    "import numpy as np\n",
    "import pymc as pm\n",
    "import pymc_ext as pmx\n",
    "import pytensor.tensor as pt\n",
    "import thejoker as tj\n",
    "import thejoker.units as xu\n",
    "from astropy.io import ascii\n",
    "from astropy.time import Time\n",
    "\n",
    "%matplotlib inline"
   ]
  },
  {
   "cell_type": "code",
   "execution_count": null,
   "metadata": {},
   "outputs": [],
   "source": [
    "# set up a random number generator to ensure reproducibility\n",
    "seed = 42\n",
    "rnd = np.random.default_rng(seed=seed)"
   ]
  },
  {
   "cell_type": "markdown",
   "metadata": {},
   "source": [
    "## Load the data\n",
    "\n",
    "We will start by loading the radial velocity data from SOAR/Goodman, copy-pasted from Table 1 in Swihart et al. 2019):"
   ]
  },
  {
   "cell_type": "code",
   "execution_count": null,
   "metadata": {},
   "outputs": [],
   "source": [
    "tbl = ascii.read(\n",
    "    \"\"\"2457945.5419639 -119.5 6.5\n",
    "    2457945.6301728 -16.9 7.2\n",
    "    2457956.5212405 -123.1 6.8\n",
    "    2457956.5352468 -107.9 6.4\n",
    "    2457956.5546942 -95.8 8.1\n",
    "    2457956.5687017 -65.6 8.2\n",
    "    2457956.5948590 -57.2 7.0\n",
    "    2457956.6088705 -38.0 6.0\n",
    "    2457966.4981876 -27.2 7.6\n",
    "    2457966.5122271 -18.4 20.1\n",
    "    2457966.5399208 38.7 7.2\n",
    "    2457966.5608956 49.6 8.7\n",
    "    2457966.5914866 115.1 10.2\n",
    "    2457967.5998999 -1.5 12.8\n",
    "    2457996.4786139 231.8 8.4\n",
    "    2457996.4931540 238.7 8.0\n",
    "    2457996.5105239 228.8 9.4\n",
    "    2458001.4795192 -144.0 11.4\n",
    "    2458001.4935388 -124.6 10.2\n",
    "    2458139.7564130 -136.8 7.7\n",
    "    2458139.7704090 -117.1 6.8\n",
    "    2458140.7400266 -194.5 9.8\n",
    "    2458140.7540222 -166.4 8.3\n",
    "    2458140.7770050 -150.8 7.4\n",
    "    2458140.7910007 -158.5 8.2\n",
    "    2458161.6721983 -121.2 7.9\n",
    "    2458161.6872977 -107.7 7.3\n",
    "    2458202.5822163 177.8 8.5\n",
    "    2458202.5962046 197.7 9.6\n",
    "    2458202.8350917 190.9 7.4\n",
    "    2458202.8490793 176.1 7.6\n",
    "    2458223.5928781 231.9 7.7\n",
    "    2458223.8317433 41.2 8.4\n",
    "    2458223.8456941 32.1 14.9\n",
    "    2458243.6779211 -87.6 8.6\n",
    "    2458243.6919415 -112.3 10.5\n",
    "    2458243.7115353 -125.5 9.5\n",
    "    2458243.7263475 -141.9 10.2\n",
    "    2458243.7459698 -130.3 10.9\n",
    "    2458247.5062024 131.9 11.5\n",
    "    2458247.5435496 160.5 14.2\n",
    "    2458278.5472619 197.1 15.9\n",
    "    2458278.5613912 183.7 15.7\"\"\",\n",
    "    names=[\"BJD\", \"rv\", \"rv_err\"],\n",
    ")\n",
    "tbl[\"rv\"].unit = u.km / u.s\n",
    "tbl[\"rv_err\"].unit = u.km / u.s"
   ]
  },
  {
   "cell_type": "markdown",
   "metadata": {},
   "source": [
    "We set the scale to 'tcb' to indicate that these are barycentric julian dates:"
   ]
  },
  {
   "cell_type": "code",
   "execution_count": null,
   "metadata": {},
   "outputs": [],
   "source": [
    "data = tj.RVData(\n",
    "    t=Time(tbl[\"BJD\"], format=\"jd\", scale=\"tcb\"),\n",
    "    rv=u.Quantity(tbl[\"rv\"]),\n",
    "    rv_err=u.Quantity(tbl[\"rv_err\"]),\n",
    ")"
   ]
  },
  {
   "cell_type": "markdown",
   "metadata": {},
   "source": [
    "Let's make a quick plot of the data:"
   ]
  },
  {
   "cell_type": "code",
   "execution_count": null,
   "metadata": {},
   "outputs": [],
   "source": [
    "data.plot(markersize=3)"
   ]
  },
  {
   "cell_type": "markdown",
   "metadata": {},
   "source": [
    "We now need to specify the prior probability distribution over the Keplerian orbital parameters. We will fix the eccentricity to 0, assuming that the system has circularized. We set the scale of the prior on K to be 50 km/s at a period of 1 year: The default prior on K depends on period and eccentricity in a way that keeps the implied prior over companion mass constant. These parameter choices imply a standard deviation in companion mass of ~1.5 Msun:"
   ]
  },
  {
   "cell_type": "code",
   "execution_count": null,
   "metadata": {},
   "outputs": [],
   "source": [
    "with pm.Model() as model:\n",
    "    # Allow extra error to account for under-estimated error bars\n",
    "    e = xu.with_unit(pm.ConstantData(\"e\", 0), u.one)\n",
    "    omega = xu.with_unit(pm.ConstantData(\"omega\", 0), u.rad)\n",
    "\n",
    "    prior = tj.JokerPrior.default(\n",
    "        P_min=0.1 * u.day,\n",
    "        P_max=100 * u.day,  # Range of periods to consider\n",
    "        sigma_K0=50 * u.km / u.s,\n",
    "        P0=1 * u.year,  # scale of the prior on semiamplitude, K\n",
    "        sigma_v=50 * u.km / u.s,  # std dev of the prior on the systemic velocity, v0\n",
    "        pars={\"e\": e, \"omega\": omega},\n",
    "    )"
   ]
  },
  {
   "cell_type": "markdown",
   "metadata": {},
   "source": [
    "Now that we have defined the prior, we can run *The Joker* to generate posterior orbit samples:"
   ]
  },
  {
   "cell_type": "code",
   "execution_count": null,
   "metadata": {},
   "outputs": [],
   "source": [
    "# Run rejection sampling with The Joker:\n",
    "joker = tj.TheJoker(prior, rng=rnd)\n",
    "samples = joker.rejection_sample(\n",
    "    data, prior_samples=1_000_000, max_posterior_samples=100\n",
    ")\n",
    "samples"
   ]
  },
  {
   "cell_type": "markdown",
   "metadata": {},
   "source": [
    "Only one sample was returned, implying that this system is very well constrained. Let's plot the data and the orbit determined from that sample:"
   ]
  },
  {
   "cell_type": "code",
   "execution_count": null,
   "metadata": {},
   "outputs": [],
   "source": [
    "_ = tj.plot_rv_curves(samples, data=data)"
   ]
  },
  {
   "cell_type": "markdown",
   "metadata": {},
   "source": [
    "Well, that plot isn't too useful! The period is very short and the baseline is long, so it is hard to see the orbit in the above solution. Let's instead plot the phase-folded orbit and data:"
   ]
  },
  {
   "cell_type": "code",
   "execution_count": null,
   "metadata": {},
   "outputs": [],
   "source": [
    "_ = tj.plot_phase_fold(samples[0], data=data)"
   ]
  },
  {
   "cell_type": "markdown",
   "metadata": {},
   "source": [
    "Only one sample is returned from *The Joker*, implying that the data are very constraining. We therefore switch to using standard MCMC to continue generating posterior samples. With the new version of *The Joker*, this is done with `pymc3`, which uses Hamiltonian Monte Carlo (and the NUTS sampler) to efficiently generate samples. Setting up the MCMC sampling is similar to setting up *The Joker*, and we will use the sample returned from *The Joker* to initialize the MCMC:"
   ]
  },
  {
   "cell_type": "code",
   "execution_count": null,
   "metadata": {},
   "outputs": [],
   "source": [
    "with pm.Model() as model:\n",
    "    # To sample with pymc, we have to set any constant variables as \"Deterministic\"\n",
    "    # objects. We can ignore eccentricity and the argument of pericenter by setting\n",
    "    # them both to 0:\n",
    "    e = xu.with_unit(pm.Deterministic(\"e\", pt.constant(0)), u.one)\n",
    "    omega = xu.with_unit(pm.Deterministic(\"omega\", pt.constant(0)), u.radian)\n",
    "\n",
    "    # We use the same prior parameters as before:\n",
    "    prior_mcmc = tj.JokerPrior.default(\n",
    "        P_min=0.1 * u.day,\n",
    "        P_max=10 * u.day,\n",
    "        sigma_K0=50 * u.km / u.s,\n",
    "        P0=1 * u.year,\n",
    "        sigma_v=50 * u.km / u.s,\n",
    "        pars={\"e\": e, \"omega\": omega},\n",
    "    )\n",
    "\n",
    "    # Now we use the sample returned from The Joker to set up our initialization for\n",
    "    # standard MCMC:\n",
    "    joker_mcmc = tj.TheJoker(prior_mcmc, rng=rnd)\n",
    "    mcmc_init = joker_mcmc.setup_mcmc(data, samples)\n",
    "\n",
    "    opt_init = pmx.optimize(mcmc_init)\n",
    "\n",
    "    trace = pm.sample(\n",
    "        tune=1000,\n",
    "        draws=1000,\n",
    "        start=opt_init,\n",
    "        random_seed=seed,\n",
    "        cores=1,\n",
    "        chains=2,\n",
    "        init=\"adapt_full\",\n",
    "        target_accept=0.9,\n",
    "    )"
   ]
  },
  {
   "cell_type": "markdown",
   "metadata": {},
   "source": [
    "We can now use `arviz` to look at some statistics of the MC chains to assess convergence:"
   ]
  },
  {
   "cell_type": "code",
   "execution_count": null,
   "metadata": {},
   "outputs": [],
   "source": [
    "par_names = prior_mcmc.par_names.copy()\n",
    "par_names.pop(par_names.index(\"e\"))\n",
    "par_names.pop(par_names.index(\"omega\"))\n",
    "# par_names.pop(par_names.index(\"s\"))\n",
    "az.summary(trace, var_names=par_names)"
   ]
  },
  {
   "cell_type": "markdown",
   "metadata": {},
   "source": [
    "We can then transform the MCMC samples back into a `JokerSamples` instance so we can manipulate and visualize the samples:"
   ]
  },
  {
   "cell_type": "code",
   "execution_count": null,
   "metadata": {},
   "outputs": [],
   "source": [
    "mcmc_samples = tj.JokerSamples.from_inference_data(prior, trace, data=data)\n",
    "mcmc_samples = mcmc_samples.wrap_K()"
   ]
  },
  {
   "cell_type": "markdown",
   "metadata": {},
   "source": [
    "For example, we can make a [corner](https://corner.readthedocs.io/en/latest/) plot of the orbital parameters (I remove any of the parameters we ignored):"
   ]
  },
  {
   "cell_type": "code",
   "execution_count": null,
   "metadata": {},
   "outputs": [],
   "source": [
    "df = mcmc_samples.tbl.to_pandas()\n",
    "df = df.drop(columns=[\"e\", \"s\", \"omega\", \"ln_posterior\", \"ln_prior\", \"ln_likelihood\"])\n",
    "\n",
    "true_P = 1.097195\n",
    "true_T0 = 2457780.8373\n",
    "true_M0 = (2 * np.pi * (true_T0 - data.t_ref.tcb.jd) / true_P) % (2 * np.pi) - (\n",
    "    2 * np.pi\n",
    ")\n",
    "_ = corner.corner(df, truths=[true_P, true_M0, 210, 32.0])"
   ]
  },
  {
   "cell_type": "markdown",
   "metadata": {},
   "source": [
    "We can also use the median MCMC sample to fold the data and plot residuals relative to our inferred RV model:"
   ]
  },
  {
   "cell_type": "code",
   "execution_count": null,
   "metadata": {},
   "outputs": [],
   "source": [
    "fig, axes = plt.subplots(2, 1, figsize=(6, 8), sharex=True)\n",
    "\n",
    "_ = tj.plot_phase_fold(mcmc_samples.mean(), data, ax=axes[0], add_labels=False)\n",
    "_ = tj.plot_phase_fold(mcmc_samples.mean(), data, ax=axes[1], residual=True)\n",
    "\n",
    "for ax in axes:\n",
    "    ax.set_ylabel(f\"RV [{data.rv.unit:latex_inline}]\")\n",
    "\n",
    "axes[1].axhline(0, zorder=-10, color=\"tab:green\", alpha=0.5)\n",
    "axes[1].set_ylim(-50, 50)"
   ]
  },
  {
   "cell_type": "markdown",
   "metadata": {},
   "source": [
    "In the end, it looks like we reproduce the results in Swihart et al. using their data and the new version of *The Joker*. A success for reproducible science!"
   ]
  }
 ],
 "metadata": {
  "kernelspec": {
   "display_name": "Python 3",
   "language": "python",
   "name": "python3"
  },
  "language_info": {
   "codemirror_mode": {
    "name": "ipython",
    "version": 3
   },
   "file_extension": ".py",
   "mimetype": "text/x-python",
   "name": "python",
   "nbconvert_exporter": "python",
   "pygments_lexer": "ipython3",
   "version": "3.11.8"
  },
  "toc": {
   "base_numbering": 1,
   "nav_menu": {},
   "number_sections": true,
   "sideBar": true,
   "skip_h1_title": false,
   "title_cell": "Table of Contents",
   "title_sidebar": "Contents",
   "toc_cell": false,
   "toc_position": {},
   "toc_section_display": true,
   "toc_window_display": false
  }
 },
 "nbformat": 4,
 "nbformat_minor": 2
}
