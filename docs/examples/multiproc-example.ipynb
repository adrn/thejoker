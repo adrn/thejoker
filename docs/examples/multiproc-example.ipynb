{
 "cells": [
  {
   "cell_type": "markdown",
   "metadata": {},
   "source": [
    "# Running the sampler locally with multiprocessing"
   ]
  },
  {
   "cell_type": "markdown",
   "metadata": {},
   "source": [
    "We'll generate some fake radial velocity measurements of a source and run _The Joker_ using Python's `multiprocessing` package. Parallelizing the rejection sampling will generally speed up the sampling by a factor equal to the number of cores (evaluating the marginal likelihood for each of the prior samples \"embarassingly parallel\")."
   ]
  },
  {
   "cell_type": "code",
   "execution_count": null,
   "metadata": {},
   "outputs": [],
   "source": [
    "from astropy.time import Time\n",
    "import astropy.units as u\n",
    "import matplotlib.pyplot as plt\n",
    "import numpy as np\n",
    "import schwimmbad\n",
    "%matplotlib inline\n",
    "\n",
    "from twobody import KeplerOrbit, Barycenter\n",
    "from thejoker.data import RVData\n",
    "from thejoker.sampler import JokerParams, TheJoker\n",
    "from thejoker.plot import plot_rv_curves\n",
    "\n",
    "rnd = np.random.RandomState(seed=123)"
   ]
  },
  {
   "cell_type": "markdown",
   "metadata": {},
   "source": [
    "For data, we'll generate simulated observations of the exoplanet GJ 876 b (with parameters taken from [exoplanets.org](http://exoplanets.org/detail/GJ_876_b)):"
   ]
  },
  {
   "cell_type": "code",
   "execution_count": null,
   "metadata": {
    "collapsed": true
   },
   "outputs": [],
   "source": [
    "t0 = Time(2450546.80, format='jd', scale='utc')\n",
    "\n",
    "truth = dict()\n",
    "truth['P'] = 61.1166 * u.day\n",
    "truth['a'] = 0.2081*u.au * (1.95*u.Mjup) / (0.320*u.Msun)\n",
    "truth['e'] = 0.0324 * u.one\n",
    "phi0 = 2*np.pi*t0.tcb.mjd / truth['P'].to(u.day).value\n",
    "truth['M0'] = (phi0 % (2*np.pi)) * u.radian\n",
    "truth['omega'] = 50.3 * u.degree\n",
    "truth['barycenter'] = Barycenter(radial_velocity=-1.52 * u.km/u.s)\n",
    "\n",
    "orbit = KeplerOrbit(**truth, \n",
    "                    Omega=0*u.deg, i=90*u.deg) # these angle don't matter for RV"
   ]
  },
  {
   "cell_type": "markdown",
   "metadata": {},
   "source": [
    "We generate the data by sampling times uniformly over 350 days relative to an arbitrary epoch in MJD:"
   ]
  },
  {
   "cell_type": "code",
   "execution_count": null,
   "metadata": {
    "collapsed": true
   },
   "outputs": [],
   "source": [
    "n_data = 6\n",
    "t = Time(55557. + rnd.uniform(0, 350, n_data), \n",
    "         format='mjd', scale='tcb')\n",
    "t.sort()\n",
    "rv = orbit.radial_velocity(t)\n",
    "\n",
    "err = np.full_like(t, 25) * u.m/u.s\n",
    "rv = rv + rnd.normal(0, err.value)*err.unit"
   ]
  },
  {
   "cell_type": "markdown",
   "metadata": {},
   "source": [
    "Now we create an `RVData` object to store the \"observations\":"
   ]
  },
  {
   "cell_type": "code",
   "execution_count": null,
   "metadata": {},
   "outputs": [],
   "source": [
    "data = RVData(t=t, rv=rv, stddev=err)\n",
    "ax = data.plot()\n",
    "ax.set_xlabel(\"BMJD\")\n",
    "ax.set_ylabel(\"RV [km/s]\")"
   ]
  },
  {
   "cell_type": "markdown",
   "metadata": {},
   "source": [
    "We'll set the period range to be somewhat more restricted since (in practice, you should use a very large range of periods):"
   ]
  },
  {
   "cell_type": "code",
   "execution_count": null,
   "metadata": {
    "collapsed": true
   },
   "outputs": [],
   "source": [
    "params = JokerParams(P_min=8*u.day, P_max=256*u.day, anomaly_tol=1E-11)"
   ]
  },
  {
   "cell_type": "markdown",
   "metadata": {},
   "source": [
    "To run using `multiprocessing`, we have to create a `schwimmbad.MultiPool` instance to pass in to `TheJoker`. In this case, we only need the pool to do the rejection sampling, so we'll use a context manager to make sure the worker processes are all cleaned up:"
   ]
  },
  {
   "cell_type": "code",
   "execution_count": null,
   "metadata": {},
   "outputs": [],
   "source": [
    "%%time\n",
    "with schwimmbad.MultiPool() as pool:\n",
    "    joker = TheJoker(params, pool=pool)\n",
    "    samples = joker.rejection_sample(data, n_prior_samples=2**18)"
   ]
  },
  {
   "cell_type": "markdown",
   "metadata": {},
   "source": [
    "Now we'll plot the samples in various projections of the parameters:"
   ]
  },
  {
   "cell_type": "code",
   "execution_count": null,
   "metadata": {},
   "outputs": [],
   "source": [
    "fig, axes = plt.subplots(1, 2, figsize=(8, 4), sharey=True)\n",
    "\n",
    "y_key = 'P'\n",
    "y_unit = u.day\n",
    "x_keys = ['K', 'e']\n",
    "x_units = [u.km/u.s, u.one]\n",
    "\n",
    "for ax,x_key,x_unit in zip(axes, x_keys, x_units):\n",
    "    ax.scatter(samples[x_key].to(x_unit).value, \n",
    "               samples[y_key].to(y_unit).value,\n",
    "               marker='.', color='k', alpha=0.45)\n",
    "    ax.set_xlabel(r\"{} [{}]\".format(x_key, x_unit.to_string('latex')))\n",
    "    \n",
    "    ax.axvline(getattr(orbit, x_key).to(x_unit).value, \n",
    "               zorder=-100, color='#31a354', alpha=0.4)\n",
    "    ax.axhline(getattr(orbit, y_key).to(y_unit).value, \n",
    "               zorder=-100, color='#31a354', alpha=0.4)\n",
    "    \n",
    "axes[0].set_ylabel(r\"{} [{}]\".format(y_key, y_unit.to_string('latex')))\n",
    "\n",
    "fig.tight_layout()"
   ]
  },
  {
   "cell_type": "markdown",
   "metadata": {},
   "source": [
    "And here we'll plot RV curves for the posterior samples over the data:"
   ]
  },
  {
   "cell_type": "code",
   "execution_count": null,
   "metadata": {},
   "outputs": [],
   "source": [
    "fig, ax = plt.subplots(1, 1, figsize=(8,5)) \n",
    "t_grid = np.linspace(data.t.mjd.min()-10, data.t.mjd.max()+10, 1024)\n",
    "fig = plot_rv_curves(samples, t_grid, rv_unit=u.km/u.s, data=data, ax=ax,\n",
    "                     plot_kwargs=dict(color='#74a9cf', zorder=-100))"
   ]
  },
  {
   "cell_type": "code",
   "execution_count": null,
   "metadata": {
    "collapsed": true
   },
   "outputs": [],
   "source": []
  }
 ],
 "metadata": {
  "anaconda-cloud": {},
  "kernelspec": {
   "display_name": "Python [conda env:thejoker-dev]",
   "language": "python",
   "name": "conda-env-thejoker-dev-py"
  },
  "language_info": {
   "codemirror_mode": {
    "name": "ipython",
    "version": 3
   },
   "file_extension": ".py",
   "mimetype": "text/x-python",
   "name": "python",
   "nbconvert_exporter": "python",
   "pygments_lexer": "ipython3",
   "version": "3.6.4"
  }
 },
 "nbformat": 4,
 "nbformat_minor": 2
}
