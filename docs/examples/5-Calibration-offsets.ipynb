{
 "cells": [
  {
   "cell_type": "markdown",
   "metadata": {},
   "source": [
    "If you have not already read it, you may want to start with the first tutorial: [Getting started with The Joker](1-Getting-started.ipynb)."
   ]
  },
  {
   "cell_type": "markdown",
   "metadata": {},
   "source": [
    "# Inferring calibration offsets between instruments\n",
    "\n",
    "Also in addition to the default linear parameters (see [Tutorial 1](1-Getting-started.ipynb), or the documentation for ``JokerSamples.default()``), *The Joker* allows adding linear parameters to TODO\n",
    "\n",
    "First, some imports we will need later:"
   ]
  },
  {
   "cell_type": "code",
   "execution_count": null,
   "metadata": {},
   "outputs": [],
   "source": [
    "import astropy.table as at\n",
    "import astropy.units as u\n",
    "from astropy.visualization.units import quantity_support\n",
    "import matplotlib.pyplot as plt\n",
    "import numpy as np\n",
    "%matplotlib inline\n",
    "import pymc3 as pm\n",
    "import exoplanet.units as xu\n",
    "\n",
    "from thejoker import RVData, JokerPrior, TheJoker, JokerSamples\n",
    "from thejoker.plot import plot_rv_curves"
   ]
  },
  {
   "cell_type": "code",
   "execution_count": null,
   "metadata": {},
   "outputs": [],
   "source": [
    "data1 = RVData.guess_from_table(at.QTable.read('data-survey1.ecsv'))\n",
    "data2 = RVData.guess_from_table(at.QTable.read('data-survey2.ecsv'))\n",
    "data = [data1, data2]"
   ]
  },
  {
   "cell_type": "code",
   "execution_count": null,
   "metadata": {},
   "outputs": [],
   "source": [
    "fig, ax = plt.subplots()\n",
    "_ = data1.plot(color=None)\n",
    "_ = data2.plot(color=None)"
   ]
  },
  {
   "cell_type": "code",
   "execution_count": null,
   "metadata": {},
   "outputs": [],
   "source": [
    "with pm.Model() as model:\n",
    "    dv0_1 = xu.with_unit(pm.Normal('dv0_1', 0, 10),\n",
    "                         u.km/u.s)\n",
    "    \n",
    "    prior = JokerPrior.default(P_min=2*u.day, P_max=256*u.day,\n",
    "                               sigma_K0=30*u.km/u.s,\n",
    "                               sigma_v=100*u.km/u.s,\n",
    "                               v0_offsets=[dv0_1])\n",
    "\n",
    "prior_samples = prior.sample(size=1_000_000)"
   ]
  },
  {
   "cell_type": "code",
   "execution_count": null,
   "metadata": {},
   "outputs": [],
   "source": [
    "joker = TheJoker(prior)\n",
    "samples = joker.rejection_sample(data, prior_samples, \n",
    "                                 max_posterior_samples=128)\n",
    "samples"
   ]
  },
  {
   "cell_type": "code",
   "execution_count": null,
   "metadata": {},
   "outputs": [],
   "source": [
    "_ = plot_rv_curves(samples, data=data)"
   ]
  },
  {
   "cell_type": "code",
   "execution_count": null,
   "metadata": {},
   "outputs": [],
   "source": [
    "samples.tbl"
   ]
  },
  {
   "cell_type": "code",
   "execution_count": null,
   "metadata": {},
   "outputs": [],
   "source": []
  }
 ],
 "metadata": {
  "kernelspec": {
   "display_name": "Python 3",
   "language": "python",
   "name": "python3"
  },
  "language_info": {
   "codemirror_mode": {
    "name": "ipython",
    "version": 3
   },
   "file_extension": ".py",
   "mimetype": "text/x-python",
   "name": "python",
   "nbconvert_exporter": "python",
   "pygments_lexer": "ipython3",
   "version": "3.7.3"
  }
 },
 "nbformat": 4,
 "nbformat_minor": 2
}
