{
 "cells": [
  {
   "cell_type": "code",
   "execution_count": null,
   "metadata": {},
   "outputs": [],
   "source": [
    "%run notebook_setup"
   ]
  },
  {
   "cell_type": "markdown",
   "metadata": {},
   "source": [
    "If you have not already read it, you may want to start with the first tutorial: [Getting started with The Joker](1-Getting-started.ipynb)."
   ]
  },
  {
   "cell_type": "markdown",
   "metadata": {},
   "source": [
    "# Inferring calibration offsets between instruments\n",
    "\n",
    "Also in addition to the default linear parameters (see [Tutorial 1](1-Getting-started.ipynb), or the documentation for ``JokerSamples.default()``), *The Joker* allows adding linear parameters to account for possible calibration offsets between instruments. For example, there may be an absolute velocity offset between two spectrographs. Below we will demonstrate how to simultaneously infer and marginalize over a constant velocity offset between two simulated surveys of the same \"star\".\n",
    "\n",
    "First, some imports we will need later:"
   ]
  },
  {
   "cell_type": "code",
   "execution_count": null,
   "metadata": {},
   "outputs": [],
   "source": [
    "import astropy.table as at\n",
    "import astropy.units as u\n",
    "import numpy as np\n",
    "import corner\n",
    "import pymc as pm\n",
    "import thejoker.units as xu\n",
    "import arviz as az\n",
    "\n",
    "import thejoker as tj\n",
    "\n",
    "%matplotlib inline"
   ]
  },
  {
   "cell_type": "code",
   "execution_count": null,
   "metadata": {},
   "outputs": [],
   "source": [
    "# set up a random number generator to ensure reproducibility\n",
    "rnd = np.random.default_rng(seed=42)"
   ]
  },
  {
   "cell_type": "markdown",
   "metadata": {},
   "source": [
    "The data for our two surveys are stored in two separate CSV files included with the documentation. We will load separate `RVData` instances for the two data sets and append these objects to a list of datasets:"
   ]
  },
  {
   "cell_type": "code",
   "execution_count": null,
   "metadata": {},
   "outputs": [],
   "source": [
    "data = []\n",
    "for filename in [\"data-survey1.ecsv\", \"data-survey2.ecsv\"]:\n",
    "    tbl = at.QTable.read(filename)\n",
    "    _data = tj.RVData.guess_from_table(tbl, t_ref=tbl.meta[\"t_ref\"])\n",
    "    data.append(_data)"
   ]
  },
  {
   "cell_type": "markdown",
   "metadata": {},
   "source": [
    "In the plot below, the two data sets are shown in different colors:"
   ]
  },
  {
   "cell_type": "code",
   "execution_count": null,
   "metadata": {},
   "outputs": [],
   "source": [
    "for d, color in zip(data, [\"tab:blue\", \"tab:red\"]):\n",
    "    _ = d.plot(color=color)"
   ]
  },
  {
   "cell_type": "markdown",
   "metadata": {},
   "source": [
    "To tell *The Joker* to handle additional linear parameters to account for offsets in absolute velocity, we must define a new parameter for the offset betwen survey 1 and survey 2 and specify a prior. Here we will assume a Gaussian prior on the offset, centered on 0, but with a 10 km/s standard deviation. We then pass this in to `JokerPrior.default()` (all other parameters here use the default prior) through the `v0_offsets` argument:"
   ]
  },
  {
   "cell_type": "code",
   "execution_count": null,
   "metadata": {},
   "outputs": [],
   "source": [
    "with pm.Model() as model:\n",
    "    dv0_1 = xu.with_unit(pm.Normal(\"dv0_1\", 0, 10), u.km / u.s)\n",
    "\n",
    "    prior = tj.JokerPrior.default(\n",
    "        P_min=2 * u.day,\n",
    "        P_max=256 * u.day,\n",
    "        sigma_K0=30 * u.km / u.s,\n",
    "        sigma_v=100 * u.km / u.s,\n",
    "        v0_offsets=[dv0_1],\n",
    "    )"
   ]
  },
  {
   "cell_type": "markdown",
   "metadata": {},
   "source": [
    "The rest should look familiar: The code below is identical to previous tutorials, in which we generate prior samples and then rejection sample with *The Joker*:"
   ]
  },
  {
   "cell_type": "code",
   "execution_count": null,
   "metadata": {},
   "outputs": [],
   "source": [
    "prior_samples = prior.sample(size=1_000_000, rng=rnd)"
   ]
  },
  {
   "cell_type": "code",
   "execution_count": null,
   "metadata": {},
   "outputs": [],
   "source": [
    "joker = tj.TheJoker(prior, rng=rnd)\n",
    "joker_samples = joker.rejection_sample(data, prior_samples, max_posterior_samples=128)\n",
    "joker_samples"
   ]
  },
  {
   "cell_type": "markdown",
   "metadata": {},
   "source": [
    "Note that the new parameter, `dv0_1`, now appears in the returned samples above.\n",
    "\n",
    "If we pass these samples in to the `plot_rv_curves` function, the data from other surveys is, by default, shifted by the mean value of the offset before plotting:"
   ]
  },
  {
   "cell_type": "code",
   "execution_count": null,
   "metadata": {},
   "outputs": [],
   "source": [
    "_ = tj.plot_rv_curves(joker_samples, data=data)"
   ]
  },
  {
   "cell_type": "markdown",
   "metadata": {},
   "source": [
    "However, the above behavior can be disabled by setting `apply_mean_v0_offset=False`. Note that with this set, the inferred orbit will not generally pass through data that suffer from a measurable offset:"
   ]
  },
  {
   "cell_type": "code",
   "execution_count": null,
   "metadata": {},
   "outputs": [],
   "source": [
    "_ = tj.plot_rv_curves(joker_samples, data=data, apply_mean_v0_offset=False)"
   ]
  },
  {
   "cell_type": "markdown",
   "metadata": {},
   "source": [
    "As introduced in the previous tutorial, we can also continue generating samples by initializing and running standard MCMC:"
   ]
  },
  {
   "cell_type": "code",
   "execution_count": null,
   "metadata": {},
   "outputs": [],
   "source": [
    "with prior.model:\n",
    "    mcmc_init = joker.setup_mcmc(data, joker_samples)\n",
    "\n",
    "    trace = pm.sample(tune=500, draws=500, start=mcmc_init, cores=1, chains=2)"
   ]
  },
  {
   "cell_type": "code",
   "execution_count": null,
   "metadata": {},
   "outputs": [],
   "source": [
    "az.summary(trace, var_names=prior.par_names)"
   ]
  },
  {
   "cell_type": "markdown",
   "metadata": {},
   "source": [
    "Here the true offset is 4.8 km/s, so it looks like we recover this value!\n",
    "\n",
    "A full corner plot of the MCMC samples:"
   ]
  },
  {
   "cell_type": "code",
   "execution_count": null,
   "metadata": {},
   "outputs": [],
   "source": [
    "mcmc_samples = tj.JokerSamples.from_inference_data(prior, trace, data)\n",
    "mcmc_samples = mcmc_samples.wrap_K()"
   ]
  },
  {
   "cell_type": "code",
   "execution_count": null,
   "metadata": {},
   "outputs": [],
   "source": [
    "df = mcmc_samples.tbl.to_pandas()\n",
    "colnames = mcmc_samples.par_names\n",
    "colnames.pop(colnames.index(\"s\"))\n",
    "_ = corner.corner(df[colnames])"
   ]
  }
 ],
 "metadata": {
  "kernelspec": {
   "display_name": "Python 3",
   "language": "python",
   "name": "python3"
  },
  "language_info": {
   "codemirror_mode": {
    "name": "ipython",
    "version": 3
   },
   "file_extension": ".py",
   "mimetype": "text/x-python",
   "name": "python",
   "nbconvert_exporter": "python",
   "pygments_lexer": "ipython3",
   "version": "3.11.8"
  },
  "toc": {
   "base_numbering": 1,
   "nav_menu": {},
   "number_sections": true,
   "sideBar": true,
   "skip_h1_title": false,
   "title_cell": "Table of Contents",
   "title_sidebar": "Contents",
   "toc_cell": false,
   "toc_position": {},
   "toc_section_display": true,
   "toc_window_display": false
  }
 },
 "nbformat": 4,
 "nbformat_minor": 2
}
