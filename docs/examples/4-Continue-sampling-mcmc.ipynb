{
 "cells": [
  {
   "cell_type": "code",
   "execution_count": null,
   "metadata": {},
   "outputs": [],
   "source": [
    "%run notebook_setup"
   ]
  },
  {
   "cell_type": "markdown",
   "metadata": {},
   "source": [
    "*If you have not already read it, you may want to start with the first tutorial: [Getting started with The Joker](1-Getting-started.ipynb).*"
   ]
  },
  {
   "cell_type": "markdown",
   "metadata": {},
   "source": [
    "# Continue generating samples with standard MCMC"
   ]
  },
  {
   "cell_type": "markdown",
   "metadata": {},
   "source": [
    "When many prior samples are used with *The Joker*, and the sampler returns one sample, or the samples returned are within the same mode of the posterior, the posterior *pdf* is likely unimodal. In these cases, we can use standard MCMC methods to generate posterior samples, which will typically be much more efficient than *The Joker* itself. In this example, we will use `pymc3` to \"continue\" sampling for data that are very constraining.\n",
    "\n",
    "First, some imports we will need later:"
   ]
  },
  {
   "cell_type": "code",
   "execution_count": null,
   "metadata": {},
   "outputs": [],
   "source": [
    "import astropy.coordinates as coord\n",
    "import astropy.table as at\n",
    "import astropy.units as u\n",
    "import numpy as np\n",
    "import corner\n",
    "import pymc as pm\n",
    "import arviz as az\n",
    "import thejoker as tj\n",
    "\n",
    "%matplotlib inline"
   ]
  },
  {
   "cell_type": "code",
   "execution_count": null,
   "metadata": {},
   "outputs": [],
   "source": [
    "# set up a random number generator to ensure reproducibility\n",
    "rnd = np.random.default_rng(seed=8675309)"
   ]
  },
  {
   "cell_type": "markdown",
   "metadata": {},
   "source": [
    "Here we will again load some pre-generated data meant to represent well-sampled, precise radial velocity observations of a single luminous source with  a single companion (we again downsample the data set here just for demonstration):"
   ]
  },
  {
   "cell_type": "code",
   "execution_count": null,
   "metadata": {},
   "outputs": [],
   "source": [
    "data_tbl = at.QTable.read(\"data.ecsv\")\n",
    "sub_tbl = data_tbl[rnd.choice(len(data_tbl), size=18, replace=False)]  # downsample data\n",
    "data = tj.RVData.guess_from_table(sub_tbl, t_ref=data_tbl.meta[\"t_ref\"])"
   ]
  },
  {
   "cell_type": "code",
   "execution_count": null,
   "metadata": {},
   "outputs": [],
   "source": [
    "_ = data.plot()"
   ]
  },
  {
   "cell_type": "markdown",
   "metadata": {},
   "source": [
    "We will use the default prior, but feel free to play around with these values:"
   ]
  },
  {
   "cell_type": "code",
   "execution_count": null,
   "metadata": {},
   "outputs": [],
   "source": [
    "prior = tj.JokerPrior.default(\n",
    "    P_min=2 * u.day,\n",
    "    P_max=1e3 * u.day,\n",
    "    sigma_K0=30 * u.km / u.s,\n",
    "    sigma_v=100 * u.km / u.s,\n",
    ")"
   ]
  },
  {
   "cell_type": "markdown",
   "metadata": {},
   "source": [
    "The data above look fairly constraining: it would be hard to draw many distinct orbital solutions through the RV data plotted above. In cases like this, we will often only get back 1 or a few samples from *The Joker* even if we use a huge number of prior samples. Since we are only going to use the samples from *The Joker* to initialize standard MCMC, we will only use a moderate number of prior samples:"
   ]
  },
  {
   "cell_type": "code",
   "execution_count": null,
   "metadata": {},
   "outputs": [],
   "source": [
    "prior_samples = prior.sample(size=250_000, rng=rnd)"
   ]
  },
  {
   "cell_type": "code",
   "execution_count": null,
   "metadata": {},
   "outputs": [],
   "source": [
    "joker = tj.TheJoker(prior, rng=rnd)\n",
    "joker_samples = joker.rejection_sample(data, prior_samples, max_posterior_samples=256)\n",
    "joker_samples"
   ]
  },
  {
   "cell_type": "code",
   "execution_count": null,
   "metadata": {},
   "outputs": [],
   "source": [
    "joker_samples.tbl"
   ]
  },
  {
   "cell_type": "code",
   "execution_count": null,
   "metadata": {},
   "outputs": [],
   "source": [
    "_ = tj.plot_rv_curves(joker_samples, data=data)"
   ]
  },
  {
   "cell_type": "markdown",
   "metadata": {},
   "source": [
    "The sample that was returned by *The Joker* does look like it is a reasonable fit to the RV data, but to fully explore the posterior *pdf* we will use standard MCMC through `pymc3`. Here we will use the NUTS sampler, but you could also experiment with other backends (e.g., Metropolis-Hastings, or even `emcee` by [following this blog post](https://dfm.io/posts/emcee-pymc3/)):"
   ]
  },
  {
   "cell_type": "code",
   "execution_count": null,
   "metadata": {},
   "outputs": [],
   "source": [
    "with prior.model:\n",
    "    mcmc_init = joker.setup_mcmc(data, joker_samples)\n",
    "\n",
    "    trace = pm.sample(tune=500, draws=500, start=mcmc_init, cores=1, chains=2)"
   ]
  },
  {
   "cell_type": "markdown",
   "metadata": {},
   "source": [
    "If you get warnings from running the sampler above, they usually indicate that we should run the sampler for many more steps to tune the sampler and for our main run, but let's ignore that for now. With the MCMC traces in hand, we can summarize the properties of the chains using `pymc3.summary`:"
   ]
  },
  {
   "cell_type": "code",
   "execution_count": null,
   "metadata": {},
   "outputs": [],
   "source": [
    "az.summary(trace, var_names=prior.par_names)"
   ]
  },
  {
   "cell_type": "markdown",
   "metadata": {},
   "source": [
    "To convert the trace into a `JokerSamples` instance, we can use the `TheJoker.trace_to_samples()` method. Note here that the sign of `K` is arbitrary, so to compare to the true value, we also call `wrap_K()` to store only the absolute value of `K` (which also increases `omega` by π, to stay consistent):"
   ]
  },
  {
   "cell_type": "code",
   "execution_count": null,
   "metadata": {},
   "outputs": [],
   "source": [
    "mcmc_samples = tj.JokerSamples.from_inference_data(prior, trace, data)\n",
    "mcmc_samples.wrap_K()\n",
    "mcmc_samples"
   ]
  },
  {
   "cell_type": "markdown",
   "metadata": {},
   "source": [
    "We can now compare the samples we got from MCMC to the true orbital parameters used to generate this data:"
   ]
  },
  {
   "cell_type": "code",
   "execution_count": null,
   "metadata": {},
   "outputs": [],
   "source": [
    "import pickle\n",
    "\n",
    "with open(\"true-orbit.pkl\", \"rb\") as f:\n",
    "    truth = pickle.load(f)\n",
    "\n",
    "# make sure the angles are wrapped the same way\n",
    "if np.median(mcmc_samples[\"omega\"]) < 0:\n",
    "    truth[\"omega\"] = coord.Angle(truth[\"omega\"]).wrap_at(np.pi * u.radian)\n",
    "\n",
    "if np.median(mcmc_samples[\"M0\"]) < 0:\n",
    "    truth[\"M0\"] = coord.Angle(truth[\"M0\"]).wrap_at(np.pi * u.radian)"
   ]
  },
  {
   "cell_type": "code",
   "execution_count": null,
   "metadata": {},
   "outputs": [],
   "source": [
    "df = mcmc_samples.tbl.to_pandas()\n",
    "truths = []\n",
    "colnames = []\n",
    "for name in df.columns:\n",
    "    if name in truth:\n",
    "        colnames.append(name)\n",
    "        truths.append(truth[name].value)\n",
    "_ = corner.corner(df[colnames], truths=truths)"
   ]
  },
  {
   "cell_type": "markdown",
   "metadata": {},
   "source": [
    "Overall, it looks like we do recover the input parameters!"
   ]
  }
 ],
 "metadata": {
  "kernelspec": {
   "display_name": "Python 3",
   "language": "python",
   "name": "python3"
  },
  "language_info": {
   "codemirror_mode": {
    "name": "ipython",
    "version": 3
   },
   "file_extension": ".py",
   "mimetype": "text/x-python",
   "name": "python",
   "nbconvert_exporter": "python",
   "pygments_lexer": "ipython3",
   "version": "3.11.8"
  },
  "toc": {
   "base_numbering": 1,
   "nav_menu": {},
   "number_sections": true,
   "sideBar": true,
   "skip_h1_title": false,
   "title_cell": "Table of Contents",
   "title_sidebar": "Contents",
   "toc_cell": false,
   "toc_position": {},
   "toc_section_display": true,
   "toc_window_display": false
  }
 },
 "nbformat": 4,
 "nbformat_minor": 2
}
