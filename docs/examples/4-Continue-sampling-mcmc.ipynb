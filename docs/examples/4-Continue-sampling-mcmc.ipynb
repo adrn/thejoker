{
 "cells": [
  {
   "cell_type": "markdown",
   "metadata": {},
   "source": [
    "# Generate samples for unimodal systems with standard MCMC"
   ]
  },
  {
   "cell_type": "markdown",
   "metadata": {},
   "source": [
    "When many prior samples are used with The Joker, and the sampler returns one sample, or the samples returned are within the same mode of the posterior, the posterior pdf is likely unimodal. In these cases, we can use standard MCMC (e.g., Metropolis-Hastings or an ensemble sampler like `emcee`) to generate posterior samples for us. In this example, we will use `emcee` to \"continue\" sampling for data that are very constraining, so that The Joker only returns a single sample."
   ]
  },
  {
   "cell_type": "code",
   "execution_count": null,
   "metadata": {},
   "outputs": [],
   "source": [
    "import astropy.table as at\n",
    "from astropy.time import Time\n",
    "import astropy.units as u\n",
    "import matplotlib.pyplot as plt\n",
    "import numpy as np\n",
    "%matplotlib inline\n",
    "import corner\n",
    "import pymc3 as pm\n",
    "import exoplanet as xo\n",
    "\n",
    "from thejoker import RVData, JokerPrior, TheJoker, JokerSamples\n",
    "from thejoker.plot import plot_rv_curves"
   ]
  },
  {
   "cell_type": "code",
   "execution_count": null,
   "metadata": {},
   "outputs": [],
   "source": [
    "data_tbl = at.QTable.read('data.ecsv')\n",
    "\n",
    "rnd = np.random.RandomState(seed=42)\n",
    "sub_tbl = data_tbl[rnd.choice(len(data_tbl), size=18, replace=False)]\n",
    "data = RVData.guess_from_table(sub_tbl, t0=data_tbl.meta['t0'])"
   ]
  },
  {
   "cell_type": "code",
   "execution_count": null,
   "metadata": {},
   "outputs": [],
   "source": [
    "_ = data.plot()"
   ]
  },
  {
   "cell_type": "code",
   "execution_count": null,
   "metadata": {},
   "outputs": [],
   "source": [
    "prior = JokerPrior.default(P_min=2*u.day, P_max=1e3*u.day,\n",
    "                           sigma_K0=30*u.km/u.s,\n",
    "                           sigma_v=100*u.km/u.s)"
   ]
  },
  {
   "cell_type": "code",
   "execution_count": null,
   "metadata": {},
   "outputs": [],
   "source": [
    "prior_samples = prior.sample(size=1_000_000)\n",
    "prior_samples"
   ]
  },
  {
   "cell_type": "code",
   "execution_count": null,
   "metadata": {},
   "outputs": [],
   "source": [
    "joker = TheJoker(prior, random_state=rnd)\n",
    "joker_samples = joker.rejection_sample(data, prior_samples, \n",
    "                                       max_posterior_samples=256)\n",
    "joker_samples"
   ]
  },
  {
   "cell_type": "code",
   "execution_count": null,
   "metadata": {},
   "outputs": [],
   "source": [
    "joker_samples.tbl"
   ]
  },
  {
   "cell_type": "code",
   "execution_count": null,
   "metadata": {},
   "outputs": [],
   "source": [
    "_ = plot_rv_curves(joker_samples, data=data)"
   ]
  },
  {
   "cell_type": "code",
   "execution_count": null,
   "metadata": {},
   "outputs": [],
   "source": [
    "with prior.model:\n",
    "    mcmc_init = joker.setup_mcmc(data, joker_samples)\n",
    "    \n",
    "    trace = pm.sample(tune=1000, draws=1000, \n",
    "                      start=mcmc_init,\n",
    "                      step=xo.get_dense_nuts_step(target_accept=0.95))"
   ]
  },
  {
   "cell_type": "code",
   "execution_count": null,
   "metadata": {},
   "outputs": [],
   "source": [
    "pm.summary(trace, var_names=prior.par_names)"
   ]
  },
  {
   "cell_type": "code",
   "execution_count": null,
   "metadata": {},
   "outputs": [],
   "source": [
    "mcmc_samples = joker.trace_to_samples(trace, remove_constants=False)\n",
    "mcmc_samples.tbl.remove_column('s')\n",
    "mcmc_samples.wrap_K()"
   ]
  },
  {
   "cell_type": "code",
   "execution_count": null,
   "metadata": {},
   "outputs": [],
   "source": [
    "import pickle\n",
    "with open('true-orbit.pkl', 'rb') as f:\n",
    "    truth = pickle.load(f)"
   ]
  },
  {
   "cell_type": "code",
   "execution_count": null,
   "metadata": {},
   "outputs": [],
   "source": [
    "df = mcmc_samples.tbl.to_pandas()\n",
    "truths = []\n",
    "for name in df.columns:\n",
    "    truths.append(truth[name].value)\n",
    "_ = corner.corner(df, truths=truths)"
   ]
  },
  {
   "cell_type": "code",
   "execution_count": null,
   "metadata": {},
   "outputs": [],
   "source": []
  }
 ],
 "metadata": {
  "kernelspec": {
   "display_name": "Python 3",
   "language": "python",
   "name": "python3"
  },
  "language_info": {
   "codemirror_mode": {
    "name": "ipython",
    "version": 3
   },
   "file_extension": ".py",
   "mimetype": "text/x-python",
   "name": "python",
   "nbconvert_exporter": "python",
   "pygments_lexer": "ipython3",
   "version": "3.7.3"
  }
 },
 "nbformat": 4,
 "nbformat_minor": 2
}
