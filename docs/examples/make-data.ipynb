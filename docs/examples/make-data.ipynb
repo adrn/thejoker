{
 "cells": [
  {
   "cell_type": "markdown",
   "metadata": {},
   "source": [
    "Not a tutorial! This notebook just generates the fake data used in some of the tutorials."
   ]
  },
  {
   "cell_type": "code",
   "execution_count": 9,
   "metadata": {},
   "outputs": [],
   "source": [
    "import pickle\n",
    "\n",
    "from astropy.time import Time\n",
    "import astropy.units as u\n",
    "from astropy.table import QTable\n",
    "import numpy as np\n",
    "%matplotlib inline\n",
    "\n",
    "from twobody import KeplerOrbit, PolynomialRVTrend\n",
    "from thejoker import RVData"
   ]
  },
  {
   "cell_type": "code",
   "execution_count": 4,
   "metadata": {},
   "outputs": [],
   "source": [
    "n_data = 256\n",
    "\n",
    "rnd = np.random.RandomState(42)\n",
    "\n",
    "t0 = Time('2019-1-1') + rnd.uniform(0., 40) * u.day\n",
    "\n",
    "truth1 = dict()\n",
    "truth1['P'] = np.random.uniform(40, 80) * u.day\n",
    "truth1['M0'] = rnd.uniform(0., 2*np.pi) * u.radian\n",
    "truth1['omega'] = rnd.uniform(0., 2*np.pi) * u.radian\n",
    "truth1['e'] = 0.1\n",
    "truth1['K'] = rnd.uniform(5, 15) * u.km/u.s\n",
    "truth1['v0'] = rnd.uniform(-50, 50) * u.km/u.s\n",
    "\n",
    "orbit = KeplerOrbit(P=truth1['P'], e=truth1['e'], omega=truth1['omega'],\n",
    "                    M0=truth1['M0'], t0=t0, K=truth1['K'],\n",
    "                    i=90*u.deg, Omega=0*u.deg,  # these don't matter\n",
    "                    barycenter=PolynomialRVTrend([truth1['v0']]))\n",
    "\n",
    "t = t0 + truth1['P'] * np.sort(rnd.uniform(0, 3., n_data))\n",
    "\n",
    "rv = orbit.radial_velocity(t)\n",
    "err = 10**np.random.uniform(-1, 0.5, size=len(rv)) * u.km/u.s\n",
    "data = RVData(t, rv, rv_err=err)"
   ]
  },
  {
   "cell_type": "code",
   "execution_count": 12,
   "metadata": {},
   "outputs": [],
   "source": [
    "tbl = QTable()\n",
    "tbl['bjd'] = data.t.tcb.jd\n",
    "tbl['rv'] = data.rv\n",
    "tbl['rv_err'] = data.rv_err\n",
    "tbl.write('data.ecsv', overwrite=True)"
   ]
  },
  {
   "cell_type": "code",
   "execution_count": 14,
   "metadata": {},
   "outputs": [],
   "source": [
    "with open('true-orbit.pkl', 'wb') as f:\n",
    "    pickle.dump(orbit.elements, f)"
   ]
  },
  {
   "cell_type": "code",
   "execution_count": null,
   "metadata": {},
   "outputs": [],
   "source": [
    "orbit.elements."
   ]
  }
 ],
 "metadata": {
  "kernelspec": {
   "display_name": "Python [conda env:root] *",
   "language": "python",
   "name": "conda-root-py"
  },
  "language_info": {
   "codemirror_mode": {
    "name": "ipython",
    "version": 3
   },
   "file_extension": ".py",
   "mimetype": "text/x-python",
   "name": "python",
   "nbconvert_exporter": "python",
   "pygments_lexer": "ipython3",
   "version": "3.7.3"
  },
  "toc": {
   "base_numbering": 1,
   "nav_menu": {},
   "number_sections": true,
   "sideBar": true,
   "skip_h1_title": false,
   "title_cell": "Table of Contents",
   "title_sidebar": "Contents",
   "toc_cell": false,
   "toc_position": {},
   "toc_section_display": true,
   "toc_window_display": false
  }
 },
 "nbformat": 4,
 "nbformat_minor": 2
}
