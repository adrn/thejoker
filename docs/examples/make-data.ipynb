{
 "cells": [
  {
   "cell_type": "markdown",
   "metadata": {},
   "source": [
    "Not a tutorial! This notebook just generates the fake data used in some of the tutorials."
   ]
  },
  {
   "cell_type": "code",
   "execution_count": 1,
   "metadata": {
    "execution": {
     "iopub.execute_input": "2022-10-12T12:38:45.702113Z",
     "iopub.status.busy": "2022-10-12T12:38:45.701802Z",
     "iopub.status.idle": "2022-10-12T12:38:47.612887Z",
     "shell.execute_reply": "2022-10-12T12:38:47.612027Z"
    }
   },
   "outputs": [
    {
     "name": "stderr",
     "output_type": "stream",
     "text": [
      "WARNING (theano.tensor.blas): Using NumPy C-API based implementation for BLAS functions.\n"
     ]
    }
   ],
   "source": [
    "import pickle\n",
    "\n",
    "from astropy.time import Time\n",
    "import astropy.units as u\n",
    "from astropy.table import QTable\n",
    "import numpy as np\n",
    "%matplotlib inline\n",
    "\n",
    "from twobody import KeplerOrbit, PolynomialRVTrend\n",
    "from thejoker import RVData"
   ]
  },
  {
   "cell_type": "code",
   "execution_count": 2,
   "metadata": {
    "execution": {
     "iopub.execute_input": "2022-10-12T12:38:47.616592Z",
     "iopub.status.busy": "2022-10-12T12:38:47.616273Z",
     "iopub.status.idle": "2022-10-12T12:38:47.619817Z",
     "shell.execute_reply": "2022-10-12T12:38:47.619282Z"
    }
   },
   "outputs": [],
   "source": [
    "rnd = np.random.default_rng(seed=123)"
   ]
  },
  {
   "cell_type": "markdown",
   "metadata": {},
   "source": [
    "# Binary"
   ]
  },
  {
   "cell_type": "code",
   "execution_count": 3,
   "metadata": {
    "execution": {
     "iopub.execute_input": "2022-10-12T12:38:47.622961Z",
     "iopub.status.busy": "2022-10-12T12:38:47.622695Z",
     "iopub.status.idle": "2022-10-12T12:38:47.652351Z",
     "shell.execute_reply": "2022-10-12T12:38:47.651688Z"
    }
   },
   "outputs": [],
   "source": [
    "n_data = 256\n",
    "\n",
    "t0 = Time('2019-1-1') + rnd.uniform(0., 40) * u.day\n",
    "\n",
    "truth1 = dict()\n",
    "truth1['P'] = rnd.uniform(40, 80) * u.day\n",
    "truth1['M0'] = rnd.uniform(0., 2*np.pi) * u.radian\n",
    "truth1['omega'] = rnd.uniform(0., 2*np.pi) * u.radian\n",
    "truth1['e'] = 0.1 * u.one\n",
    "truth1['K'] = rnd.uniform(5, 15) * u.km/u.s\n",
    "truth1['v0'] = rnd.uniform(-50, 50) * u.km/u.s\n",
    "\n",
    "orbit = KeplerOrbit(P=truth1['P'], e=truth1['e'], omega=truth1['omega'],\n",
    "                    M0=truth1['M0'], t0=t0, K=truth1['K'],\n",
    "                    i=90*u.deg, Omega=0*u.deg,  # these don't matter\n",
    "                    barycenter=PolynomialRVTrend([truth1['v0']]))\n",
    "\n",
    "t = t0 + truth1['P'] * np.concatenate(([0], np.sort(rnd.uniform(0, 3., n_data))))\n",
    "\n",
    "rv = orbit.radial_velocity(t)\n",
    "err = 10 ** rnd.uniform(-1, 0.5, size=len(rv)) * u.km/u.s\n",
    "data = RVData(t, rv, rv_err=err)"
   ]
  },
  {
   "cell_type": "code",
   "execution_count": 4,
   "metadata": {
    "execution": {
     "iopub.execute_input": "2022-10-12T12:38:47.655806Z",
     "iopub.status.busy": "2022-10-12T12:38:47.655504Z",
     "iopub.status.idle": "2022-10-12T12:38:47.667438Z",
     "shell.execute_reply": "2022-10-12T12:38:47.666782Z"
    }
   },
   "outputs": [],
   "source": [
    "tbl = QTable()\n",
    "tbl['bjd'] = data.t.tcb.jd\n",
    "tbl['rv'] = data.rv\n",
    "tbl['rv_err'] = data.rv_err\n",
    "tbl.meta['t_ref'] = data.t_ref\n",
    "tbl.write('data.ecsv', overwrite=True)"
   ]
  },
  {
   "cell_type": "code",
   "execution_count": 5,
   "metadata": {
    "execution": {
     "iopub.execute_input": "2022-10-12T12:38:47.670769Z",
     "iopub.status.busy": "2022-10-12T12:38:47.670471Z",
     "iopub.status.idle": "2022-10-12T12:38:47.674057Z",
     "shell.execute_reply": "2022-10-12T12:38:47.673536Z"
    }
   },
   "outputs": [],
   "source": [
    "with open('true-orbit.pkl', 'wb') as f:\n",
    "    pickle.dump(truth1, f)"
   ]
  },
  {
   "cell_type": "markdown",
   "metadata": {},
   "source": [
    "# Triple"
   ]
  },
  {
   "cell_type": "code",
   "execution_count": 6,
   "metadata": {
    "execution": {
     "iopub.execute_input": "2022-10-12T12:38:47.677605Z",
     "iopub.status.busy": "2022-10-12T12:38:47.677321Z",
     "iopub.status.idle": "2022-10-12T12:38:47.712315Z",
     "shell.execute_reply": "2022-10-12T12:38:47.711666Z"
    }
   },
   "outputs": [],
   "source": [
    "n_data = 256\n",
    "\n",
    "t0 = Time('2019-1-1') + rnd.uniform(0., 40) * u.day\n",
    "\n",
    "truth1 = dict()\n",
    "truth1['P'] = rnd.uniform(40, 80) * u.day\n",
    "truth1['M0'] = rnd.uniform(0., 2*np.pi) * u.radian\n",
    "truth1['omega'] = rnd.uniform(0., 2*np.pi) * u.radian\n",
    "truth1['e'] = 0.25 * u.one\n",
    "truth1['K'] = rnd.uniform(5, 15) * u.km/u.s\n",
    "truth1['v0'] = rnd.uniform(-50, 50) * u.km/u.s\n",
    "\n",
    "orbit = KeplerOrbit(P=truth1['P'], e=truth1['e'], omega=truth1['omega'],\n",
    "                    M0=truth1['M0'], t0=t0, K=truth1['K'],\n",
    "                    i=90*u.deg, Omega=0*u.deg,  # these don't matter\n",
    "                    barycenter=PolynomialRVTrend([truth1['v0']]))\n",
    "\n",
    "with open('true-orbit-triple.pkl', 'wb') as f:\n",
    "    pickle.dump(truth1, f)\n",
    "\n",
    "truth2 = dict()\n",
    "truth2['P'] = 10 * rnd.uniform(40, 80) * u.day\n",
    "truth2['M0'] = rnd.uniform(0., 2*np.pi) * u.radian\n",
    "truth2['omega'] = rnd.uniform(0., 2*np.pi) * u.radian\n",
    "truth2['e'] = 0.1\n",
    "truth2['K'] = 13 * u.km/u.s\n",
    "\n",
    "orbit2 = KeplerOrbit(P=truth2['P'], e=truth2['e'], omega=truth2['omega'],\n",
    "                     M0=truth2['M0'], t0=t0, K=truth2['K'],\n",
    "                     i=90*u.deg, Omega=0*u.deg)\n",
    "\n",
    "t = t0 + truth1['P'] * np.concatenate(([0], np.sort(rnd.uniform(0, 5., n_data))))\n",
    "\n",
    "rv = orbit.radial_velocity(t) + orbit2.radial_velocity(t)\n",
    "err = 10**rnd.uniform(-1, 0.5, size=len(rv)) * u.km/u.s\n",
    "data = RVData(t, rv, rv_err=err)\n",
    "\n",
    "tbl = QTable()\n",
    "tbl['bjd'] = data.t.tcb.jd\n",
    "tbl['rv'] = data.rv\n",
    "tbl['rv_err'] = data.rv_err\n",
    "tbl.write('data-triple.ecsv', overwrite=True)"
   ]
  },
  {
   "cell_type": "code",
   "execution_count": 7,
   "metadata": {
    "execution": {
     "iopub.execute_input": "2022-10-12T12:38:47.716175Z",
     "iopub.status.busy": "2022-10-12T12:38:47.715833Z",
     "iopub.status.idle": "2022-10-12T12:38:48.061851Z",
     "shell.execute_reply": "2022-10-12T12:38:48.061202Z"
    }
   },
   "outputs": [
    {
     "data": {
      "image/png": "[encoded data removed]",
      "text/plain": [
       "<Figure size 640x480 with 1 Axes>"
      ]
     },
     "metadata": {},
     "output_type": "display_data"
    }
   ],
   "source": [
    "_ = data.plot()"
   ]
  },
  {
   "cell_type": "markdown",
   "metadata": {},
   "source": [
    "# Multiple surveys:"
   ]
  },
  {
   "cell_type": "code",
   "execution_count": 8,
   "metadata": {
    "execution": {
     "iopub.execute_input": "2022-10-12T12:38:48.157937Z",
     "iopub.status.busy": "2022-10-12T12:38:48.157588Z",
     "iopub.status.idle": "2022-10-12T12:38:48.176685Z",
     "shell.execute_reply": "2022-10-12T12:38:48.176073Z"
    }
   },
   "outputs": [],
   "source": [
    "n_data = 16\n",
    "\n",
    "t0 = Time('2019-1-1') + rnd.uniform(0., 40) * u.day\n",
    "\n",
    "truth1 = dict()\n",
    "truth1['P'] = rnd.uniform(40, 80) * u.day\n",
    "truth1['M0'] = rnd.uniform(0., 2*np.pi) * u.radian\n",
    "truth1['omega'] = rnd.uniform(0., 2*np.pi) * u.radian\n",
    "truth1['e'] = 0.13 * u.one\n",
    "truth1['K'] = rnd.uniform(5, 15) * u.km/u.s\n",
    "truth1['v0'] = rnd.uniform(-50, 50) * u.km/u.s\n",
    "\n",
    "orbit = KeplerOrbit(P=truth1['P'], e=truth1['e'], omega=truth1['omega'],\n",
    "                    M0=truth1['M0'], t0=t0, K=truth1['K'],\n",
    "                    i=90*u.deg, Omega=0*u.deg,  # these don't matter\n",
    "                    barycenter=PolynomialRVTrend([truth1['v0']]))\n",
    "\n",
    "t = t0 + truth1['P'] * np.concatenate(([0], np.sort(rnd.uniform(0, 3., n_data))))\n",
    "\n",
    "rv = orbit.radial_velocity(t)\n",
    "err = 10**rnd.uniform(-1, 0.5, size=len(rv)) * u.km/u.s\n",
    "\n",
    "data1 = RVData(t[:10], rv[:10], rv_err=err[:10])\n",
    "\n",
    "rv[10:] += 4.8 * u.km/u.s\n",
    "data2 = RVData(t[10:], rv[10:], rv_err=err[10:])"
   ]
  },
  {
   "cell_type": "code",
   "execution_count": 9,
   "metadata": {
    "execution": {
     "iopub.execute_input": "2022-10-12T12:38:48.179736Z",
     "iopub.status.busy": "2022-10-12T12:38:48.179421Z",
     "iopub.status.idle": "2022-10-12T12:38:48.183704Z",
     "shell.execute_reply": "2022-10-12T12:38:48.183143Z"
    }
   },
   "outputs": [],
   "source": [
    "import matplotlib as mpl\n",
    "import matplotlib.pyplot as plt\n",
    "%matplotlib inline\n",
    "import numpy as np"
   ]
  },
  {
   "cell_type": "code",
   "execution_count": 10,
   "metadata": {
    "execution": {
     "iopub.execute_input": "2022-10-12T12:38:48.187151Z",
     "iopub.status.busy": "2022-10-12T12:38:48.186806Z",
     "iopub.status.idle": "2022-10-12T12:38:48.352824Z",
     "shell.execute_reply": "2022-10-12T12:38:48.352121Z"
    }
   },
   "outputs": [
    {
     "data": {
      "image/png": "[encoded data removed]",
      "text/plain": [
       "<Figure size 640x480 with 1 Axes>"
      ]
     },
     "metadata": {},
     "output_type": "display_data"
    }
   ],
   "source": [
    "fig, ax = plt.subplots()\n",
    "_ = data1.plot(ax=ax)\n",
    "_ = data2.plot(ax=ax)"
   ]
  },
  {
   "cell_type": "code",
   "execution_count": 11,
   "metadata": {
    "execution": {
     "iopub.execute_input": "2022-10-12T12:38:48.427795Z",
     "iopub.status.busy": "2022-10-12T12:38:48.427429Z",
     "iopub.status.idle": "2022-10-12T12:38:48.442509Z",
     "shell.execute_reply": "2022-10-12T12:38:48.441764Z"
    }
   },
   "outputs": [
    {
     "name": "stderr",
     "output_type": "stream",
     "text": [
      "/home/circleci/project/thejoker/data.py:124: TheJokerDeprecationWarning: The argument and attribute \"t0\" has been renamed and should now be specified / accessed as \"t_ref\"\n",
      "  warnings.warn('The argument and attribute \"t0\" has been renamed '\n"
     ]
    }
   ],
   "source": [
    "for i, data in enumerate([data1, data2]):\n",
    "    tbl = QTable()\n",
    "    tbl['bjd'] = data.t.tcb.jd\n",
    "    tbl['rv'] = data.rv\n",
    "    tbl['rv_err'] = data.rv_err\n",
    "    tbl.meta['t_ref'] = data1.t0\n",
    "    tbl.write(f'data-survey{i+1}.ecsv', overwrite=True)"
   ]
  },
  {
   "cell_type": "code",
   "execution_count": null,
   "metadata": {},
   "outputs": [],
   "source": []
  }
 ],
 "metadata": {
  "kernelspec": {
   "display_name": "Python [conda env:root] *",
   "language": "python",
   "name": "conda-root-py"
  },
  "language_info": {
   "codemirror_mode": {
    "name": "ipython",
    "version": 3
   },
   "file_extension": ".py",
   "mimetype": "text/x-python",
   "name": "python",
   "nbconvert_exporter": "python",
   "pygments_lexer": "ipython3",
   "version": "3.9.9"
  },
  "nbsphinx": {
   "orphan": true
  },
  "toc": {
   "base_numbering": 1,
   "nav_menu": {},
   "number_sections": true,
   "sideBar": true,
   "skip_h1_title": false,
   "title_cell": "Table of Contents",
   "title_sidebar": "Contents",
   "toc_cell": false,
   "toc_position": {},
   "toc_section_display": true,
   "toc_window_display": false
  }
 },
 "nbformat": 4,
 "nbformat_minor": 2
}
