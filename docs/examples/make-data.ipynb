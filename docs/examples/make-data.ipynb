{
 "cells": [
  {
   "cell_type": "markdown",
   "metadata": {},
   "source": [
    "Not a tutorial! This notebook just generates the fake data used in some of the tutorials."
   ]
  },
  {
   "cell_type": "code",
   "execution_count": null,
   "metadata": {},
   "outputs": [],
   "source": [
    "import pickle\n",
    "\n",
    "from astropy.time import Time\n",
    "import astropy.units as u\n",
    "from astropy.table import QTable\n",
    "import numpy as np\n",
    "%matplotlib inline\n",
    "\n",
    "from twobody import KeplerOrbit, PolynomialRVTrend\n",
    "from thejoker import RVData"
   ]
  },
  {
   "cell_type": "markdown",
   "metadata": {},
   "source": [
    "# Binary"
   ]
  },
  {
   "cell_type": "code",
   "execution_count": null,
   "metadata": {},
   "outputs": [],
   "source": [
    "n_data = 256\n",
    "\n",
    "rnd = np.random.RandomState(42)\n",
    "\n",
    "t0 = Time('2019-1-1') + rnd.uniform(0., 40) * u.day\n",
    "\n",
    "truth1 = dict()\n",
    "truth1['P'] = np.random.uniform(40, 80) * u.day\n",
    "truth1['M0'] = rnd.uniform(0., 2*np.pi) * u.radian\n",
    "truth1['omega'] = rnd.uniform(0., 2*np.pi) * u.radian\n",
    "truth1['e'] = 0.1 * u.one\n",
    "truth1['K'] = rnd.uniform(5, 15) * u.km/u.s\n",
    "truth1['v0'] = rnd.uniform(-50, 50) * u.km/u.s\n",
    "\n",
    "orbit = KeplerOrbit(P=truth1['P'], e=truth1['e'], omega=truth1['omega'],\n",
    "                    M0=truth1['M0'], t0=t0, K=truth1['K'],\n",
    "                    i=90*u.deg, Omega=0*u.deg,  # these don't matter\n",
    "                    barycenter=PolynomialRVTrend([truth1['v0']]))\n",
    "\n",
    "t = t0 + truth1['P'] * np.concatenate(([0], np.sort(rnd.uniform(0, 3., n_data))))\n",
    "\n",
    "rv = orbit.radial_velocity(t)\n",
    "err = 10**np.random.uniform(-1, 0.5, size=len(rv)) * u.km/u.s\n",
    "data = RVData(t, rv, rv_err=err)"
   ]
  },
  {
   "cell_type": "code",
   "execution_count": null,
   "metadata": {},
   "outputs": [],
   "source": [
    "tbl = QTable()\n",
    "tbl['bjd'] = data.t.tcb.jd\n",
    "tbl['rv'] = data.rv\n",
    "tbl['rv_err'] = data.rv_err\n",
    "tbl.meta['t0'] = data.t0\n",
    "tbl.write('data.ecsv', overwrite=True)"
   ]
  },
  {
   "cell_type": "code",
   "execution_count": null,
   "metadata": {},
   "outputs": [],
   "source": [
    "with open('true-orbit.pkl', 'wb') as f:\n",
    "    pickle.dump(truth1, f)"
   ]
  },
  {
   "cell_type": "markdown",
   "metadata": {},
   "source": [
    "# Triple"
   ]
  },
  {
   "cell_type": "code",
   "execution_count": null,
   "metadata": {},
   "outputs": [],
   "source": [
    "n_data = 256\n",
    "\n",
    "rnd = np.random.RandomState(202)\n",
    "\n",
    "t0 = Time('2019-1-1') + rnd.uniform(0., 40) * u.day\n",
    "\n",
    "truth1 = dict()\n",
    "truth1['P'] = rnd.uniform(40, 80) * u.day\n",
    "truth1['M0'] = rnd.uniform(0., 2*np.pi) * u.radian\n",
    "truth1['omega'] = rnd.uniform(0., 2*np.pi) * u.radian\n",
    "truth1['e'] = 0.25 * u.one\n",
    "truth1['K'] = rnd.uniform(5, 15) * u.km/u.s\n",
    "truth1['v0'] = rnd.uniform(-50, 50) * u.km/u.s\n",
    "\n",
    "orbit = KeplerOrbit(P=truth1['P'], e=truth1['e'], omega=truth1['omega'],\n",
    "                    M0=truth1['M0'], t0=t0, K=truth1['K'],\n",
    "                    i=90*u.deg, Omega=0*u.deg,  # these don't matter\n",
    "                    barycenter=PolynomialRVTrend([truth1['v0']]))\n",
    "\n",
    "with open('true-orbit-triple.pkl', 'wb') as f:\n",
    "    pickle.dump(truth1, f)\n",
    "\n",
    "truth2 = dict()\n",
    "truth2['P'] = 10 * rnd.uniform(40, 80) * u.day\n",
    "truth2['M0'] = rnd.uniform(0., 2*np.pi) * u.radian\n",
    "truth2['omega'] = rnd.uniform(0., 2*np.pi) * u.radian\n",
    "truth2['e'] = 0.1\n",
    "truth2['K'] = 13 * u.km/u.s\n",
    "\n",
    "orbit2 = KeplerOrbit(P=truth2['P'], e=truth2['e'], omega=truth2['omega'],\n",
    "                     M0=truth2['M0'], t0=t0, K=truth2['K'],\n",
    "                     i=90*u.deg, Omega=0*u.deg)\n",
    "\n",
    "t = t0 + truth1['P'] * np.concatenate(([0], np.sort(rnd.uniform(0, 5., n_data))))\n",
    "\n",
    "rv = orbit.radial_velocity(t) + orbit2.radial_velocity(t)\n",
    "err = 10**rnd.uniform(-1, 0.5, size=len(rv)) * u.km/u.s\n",
    "data = RVData(t, rv, rv_err=err)\n",
    "\n",
    "tbl = QTable()\n",
    "tbl['bjd'] = data.t.tcb.jd\n",
    "tbl['rv'] = data.rv\n",
    "tbl['rv_err'] = data.rv_err\n",
    "tbl.write('data-triple.ecsv', overwrite=True)"
   ]
  },
  {
   "cell_type": "code",
   "execution_count": null,
   "metadata": {},
   "outputs": [],
   "source": [
    "_ = data.plot()"
   ]
  },
  {
   "cell_type": "markdown",
   "metadata": {},
   "source": [
    "# Multiple surveys:"
   ]
  },
  {
   "cell_type": "code",
   "execution_count": null,
   "metadata": {},
   "outputs": [],
   "source": [
    "n_data = 16\n",
    "\n",
    "rnd = np.random.RandomState(891)\n",
    "\n",
    "t0 = Time('2019-1-1') + rnd.uniform(0., 40) * u.day\n",
    "\n",
    "truth1 = dict()\n",
    "truth1['P'] = rnd.uniform(40, 80) * u.day\n",
    "truth1['M0'] = rnd.uniform(0., 2*np.pi) * u.radian\n",
    "truth1['omega'] = rnd.uniform(0., 2*np.pi) * u.radian\n",
    "truth1['e'] = 0.13 * u.one\n",
    "truth1['K'] = rnd.uniform(5, 15) * u.km/u.s\n",
    "truth1['v0'] = rnd.uniform(-50, 50) * u.km/u.s\n",
    "\n",
    "orbit = KeplerOrbit(P=truth1['P'], e=truth1['e'], omega=truth1['omega'],\n",
    "                    M0=truth1['M0'], t0=t0, K=truth1['K'],\n",
    "                    i=90*u.deg, Omega=0*u.deg,  # these don't matter\n",
    "                    barycenter=PolynomialRVTrend([truth1['v0']]))\n",
    "\n",
    "t = t0 + truth1['P'] * np.concatenate(([0], np.sort(rnd.uniform(0, 3., n_data))))\n",
    "\n",
    "rv = orbit.radial_velocity(t)\n",
    "err = 10**np.random.uniform(-1, 0.5, size=len(rv)) * u.km/u.s\n",
    "\n",
    "data1 = RVData(t[:10], rv[:10], rv_err=err[:10])\n",
    "\n",
    "rv[10:] += 4.8 * u.km/u.s\n",
    "data2 = RVData(t[10:], rv[10:], rv_err=err[10:])"
   ]
  },
  {
   "cell_type": "code",
   "execution_count": null,
   "metadata": {},
   "outputs": [],
   "source": [
    "import matplotlib as mpl\n",
    "import matplotlib.pyplot as plt\n",
    "%matplotlib inline\n",
    "import numpy as np"
   ]
  },
  {
   "cell_type": "code",
   "execution_count": null,
   "metadata": {},
   "outputs": [],
   "source": [
    "fig, ax = plt.subplots()\n",
    "_ = data1.plot(ax=ax)\n",
    "_ = data2.plot(ax=ax)"
   ]
  },
  {
   "cell_type": "code",
   "execution_count": null,
   "metadata": {},
   "outputs": [],
   "source": [
    "for i, data in enumerate([data1, data2]):\n",
    "    tbl = QTable()\n",
    "    tbl['bjd'] = data.t.tcb.jd\n",
    "    tbl['rv'] = data.rv\n",
    "    tbl['rv_err'] = data.rv_err\n",
    "    tbl.meta['t0'] = data1.t0\n",
    "    tbl.write(f'data-survey{i+1}.ecsv', overwrite=True)"
   ]
  },
  {
   "cell_type": "code",
   "execution_count": null,
   "metadata": {},
   "outputs": [],
   "source": []
  }
 ],
 "metadata": {
  "kernelspec": {
   "display_name": "Python [conda env:root] *",
   "language": "python",
   "name": "conda-root-py"
  },
  "language_info": {
   "codemirror_mode": {
    "name": "ipython"
   },
   "file_extension": ".py",
   "mimetype": "text/x-python",
   "name": "python",
   "nbconvert_exporter": "python"
  },
  "nbsphinx": {
   "orphan": true
  }
 },
 "nbformat": 4,
 "nbformat_minor": 2
}
