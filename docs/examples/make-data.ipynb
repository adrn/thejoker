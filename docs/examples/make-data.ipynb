{
 "cells": [
  {
   "cell_type": "markdown",
   "metadata": {},
   "source": [
    "Not a tutorial! This notebook just generates the fake data used in some of the tutorials."
   ]
  },
  {
   "cell_type": "code",
   "execution_count": null,
   "metadata": {},
   "outputs": [],
   "source": [
    "import pickle\n",
    "\n",
    "import astropy.units as u\n",
    "import matplotlib.pyplot as plt\n",
    "import numpy as np\n",
    "from astropy.table import QTable\n",
    "from astropy.time import Time\n",
    "from thejoker import RVData\n",
    "from twobody import KeplerOrbit, PolynomialRVTrend\n",
    "\n",
    "%matplotlib inline"
   ]
  },
  {
   "cell_type": "code",
   "execution_count": null,
   "metadata": {},
   "outputs": [],
   "source": [
    "rnd = np.random.default_rng(seed=123)"
   ]
  },
  {
   "cell_type": "markdown",
   "metadata": {},
   "source": [
    "# Binary"
   ]
  },
  {
   "cell_type": "code",
   "execution_count": null,
   "metadata": {},
   "outputs": [],
   "source": [
    "n_data = 256\n",
    "\n",
    "t0 = Time(\"2019-1-1\") + rnd.uniform(0.0, 40) * u.day\n",
    "\n",
    "truth1 = dict()\n",
    "truth1[\"P\"] = rnd.uniform(40, 80) * u.day\n",
    "truth1[\"M0\"] = rnd.uniform(0.0, 2 * np.pi) * u.radian\n",
    "truth1[\"omega\"] = rnd.uniform(0.0, 2 * np.pi) * u.radian\n",
    "truth1[\"e\"] = 0.1 * u.one\n",
    "truth1[\"K\"] = rnd.uniform(5, 15) * u.km / u.s\n",
    "truth1[\"v0\"] = rnd.uniform(-50, 50) * u.km / u.s\n",
    "\n",
    "orbit = KeplerOrbit(\n",
    "    P=truth1[\"P\"],\n",
    "    e=truth1[\"e\"],\n",
    "    omega=truth1[\"omega\"],\n",
    "    M0=truth1[\"M0\"],\n",
    "    t0=t0,\n",
    "    K=truth1[\"K\"],\n",
    "    i=90 * u.deg,\n",
    "    Omega=0 * u.deg,  # these don't matter\n",
    "    barycenter=PolynomialRVTrend([truth1[\"v0\"]]),\n",
    ")\n",
    "\n",
    "t = t0 + truth1[\"P\"] * np.concatenate(([0], np.sort(rnd.uniform(0, 3.0, n_data))))\n",
    "\n",
    "rv = orbit.radial_velocity(t)\n",
    "err = 10 ** rnd.uniform(-1, 0.5, size=len(rv)) * u.km / u.s\n",
    "data = RVData(t, rv, rv_err=err)"
   ]
  },
  {
   "cell_type": "code",
   "execution_count": null,
   "metadata": {},
   "outputs": [],
   "source": [
    "tbl = QTable()\n",
    "tbl[\"bjd\"] = data.t.tcb.jd\n",
    "tbl[\"rv\"] = data.rv\n",
    "tbl[\"rv_err\"] = data.rv_err\n",
    "tbl.meta[\"t_ref\"] = data.t_ref\n",
    "tbl.write(\"data.ecsv\", overwrite=True)"
   ]
  },
  {
   "cell_type": "code",
   "execution_count": null,
   "metadata": {},
   "outputs": [],
   "source": [
    "with open(\"true-orbit.pkl\", \"wb\") as f:\n",
    "    pickle.dump(truth1, f)"
   ]
  },
  {
   "cell_type": "markdown",
   "metadata": {},
   "source": [
    "# Triple"
   ]
  },
  {
   "cell_type": "code",
   "execution_count": null,
   "metadata": {},
   "outputs": [],
   "source": [
    "n_data = 256\n",
    "\n",
    "t0 = Time(\"2019-1-1\") + rnd.uniform(0.0, 40) * u.day\n",
    "\n",
    "truth1 = dict()\n",
    "truth1[\"P\"] = rnd.uniform(40, 80) * u.day\n",
    "truth1[\"M0\"] = rnd.uniform(0.0, 2 * np.pi) * u.radian\n",
    "truth1[\"omega\"] = rnd.uniform(0.0, 2 * np.pi) * u.radian\n",
    "truth1[\"e\"] = 0.25 * u.one\n",
    "truth1[\"K\"] = rnd.uniform(5, 15) * u.km / u.s\n",
    "truth1[\"v0\"] = rnd.uniform(-50, 50) * u.km / u.s\n",
    "\n",
    "orbit = KeplerOrbit(\n",
    "    P=truth1[\"P\"],\n",
    "    e=truth1[\"e\"],\n",
    "    omega=truth1[\"omega\"],\n",
    "    M0=truth1[\"M0\"],\n",
    "    t0=t0,\n",
    "    K=truth1[\"K\"],\n",
    "    i=90 * u.deg,\n",
    "    Omega=0 * u.deg,  # these don't matter\n",
    "    barycenter=PolynomialRVTrend([truth1[\"v0\"]]),\n",
    ")\n",
    "\n",
    "with open(\"true-orbit-triple.pkl\", \"wb\") as f:\n",
    "    pickle.dump(truth1, f)\n",
    "\n",
    "truth2 = dict()\n",
    "truth2[\"P\"] = 10 * rnd.uniform(40, 80) * u.day\n",
    "truth2[\"M0\"] = rnd.uniform(0.0, 2 * np.pi) * u.radian\n",
    "truth2[\"omega\"] = rnd.uniform(0.0, 2 * np.pi) * u.radian\n",
    "truth2[\"e\"] = 0.1\n",
    "truth2[\"K\"] = 13 * u.km / u.s\n",
    "\n",
    "orbit2 = KeplerOrbit(\n",
    "    P=truth2[\"P\"],\n",
    "    e=truth2[\"e\"],\n",
    "    omega=truth2[\"omega\"],\n",
    "    M0=truth2[\"M0\"],\n",
    "    t0=t0,\n",
    "    K=truth2[\"K\"],\n",
    "    i=90 * u.deg,\n",
    "    Omega=0 * u.deg,\n",
    ")\n",
    "\n",
    "t = t0 + truth1[\"P\"] * np.concatenate(([0], np.sort(rnd.uniform(0, 5.0, n_data))))\n",
    "\n",
    "rv = orbit.radial_velocity(t) + orbit2.radial_velocity(t)\n",
    "err = 10 ** rnd.uniform(-1, 0.5, size=len(rv)) * u.km / u.s\n",
    "data = RVData(t, rv, rv_err=err)\n",
    "\n",
    "tbl = QTable()\n",
    "tbl[\"bjd\"] = data.t.tcb.jd\n",
    "tbl[\"rv\"] = data.rv\n",
    "tbl[\"rv_err\"] = data.rv_err\n",
    "tbl.write(\"data-triple.ecsv\", overwrite=True)"
   ]
  },
  {
   "cell_type": "code",
   "execution_count": null,
   "metadata": {},
   "outputs": [],
   "source": [
    "_ = data.plot()"
   ]
  },
  {
   "cell_type": "markdown",
   "metadata": {},
   "source": [
    "# Multiple surveys:"
   ]
  },
  {
   "cell_type": "code",
   "execution_count": null,
   "metadata": {},
   "outputs": [],
   "source": [
    "n_data = 16\n",
    "\n",
    "t0 = Time(\"2019-1-1\") + rnd.uniform(0.0, 40) * u.day\n",
    "\n",
    "truth1 = dict()\n",
    "truth1[\"P\"] = rnd.uniform(40, 80) * u.day\n",
    "truth1[\"M0\"] = rnd.uniform(0.0, 2 * np.pi) * u.radian\n",
    "truth1[\"omega\"] = rnd.uniform(0.0, 2 * np.pi) * u.radian\n",
    "truth1[\"e\"] = 0.13 * u.one\n",
    "truth1[\"K\"] = rnd.uniform(5, 15) * u.km / u.s\n",
    "truth1[\"v0\"] = rnd.uniform(-50, 50) * u.km / u.s\n",
    "\n",
    "orbit = KeplerOrbit(\n",
    "    P=truth1[\"P\"],\n",
    "    e=truth1[\"e\"],\n",
    "    omega=truth1[\"omega\"],\n",
    "    M0=truth1[\"M0\"],\n",
    "    t0=t0,\n",
    "    K=truth1[\"K\"],\n",
    "    i=90 * u.deg,\n",
    "    Omega=0 * u.deg,  # these don't matter\n",
    "    barycenter=PolynomialRVTrend([truth1[\"v0\"]]),\n",
    ")\n",
    "\n",
    "t = t0 + truth1[\"P\"] * np.concatenate(([0], np.sort(rnd.uniform(0, 3.0, n_data))))\n",
    "\n",
    "rv = orbit.radial_velocity(t)\n",
    "err = 10 ** rnd.uniform(-1, 0.5, size=len(rv)) * u.km / u.s\n",
    "\n",
    "data1 = RVData(t[:10], rv[:10], rv_err=err[:10])\n",
    "\n",
    "rv[10:] += 4.8 * u.km / u.s\n",
    "data2 = RVData(t[10:], rv[10:], rv_err=err[10:])"
   ]
  },
  {
   "cell_type": "code",
   "execution_count": null,
   "metadata": {},
   "outputs": [],
   "source": [
    "fig, ax = plt.subplots()\n",
    "_ = data1.plot(ax=ax)\n",
    "_ = data2.plot(ax=ax)"
   ]
  },
  {
   "cell_type": "code",
   "execution_count": null,
   "metadata": {},
   "outputs": [],
   "source": [
    "for i, data in enumerate([data1, data2]):\n",
    "    tbl = QTable()\n",
    "    tbl[\"bjd\"] = data.t.tcb.jd\n",
    "    tbl[\"rv\"] = data.rv\n",
    "    tbl[\"rv_err\"] = data.rv_err\n",
    "    tbl.meta[\"t_ref\"] = data1.t_ref\n",
    "    tbl.write(f\"data-survey{i+1}.ecsv\", overwrite=True)"
   ]
  }
 ],
 "metadata": {
  "kernelspec": {
   "display_name": "thejoker2024",
   "language": "python",
   "name": "python3"
  },
  "language_info": {
   "codemirror_mode": {
    "name": "ipython",
    "version": 3
   },
   "file_extension": ".py",
   "mimetype": "text/x-python",
   "name": "python",
   "nbconvert_exporter": "python",
   "pygments_lexer": "ipython3",
   "version": "3.11.8"
  },
  "nbsphinx": {
   "orphan": true
  },
  "toc": {
   "base_numbering": 1,
   "nav_menu": {},
   "number_sections": true,
   "sideBar": true,
   "skip_h1_title": false,
   "title_cell": "Table of Contents",
   "title_sidebar": "Contents",
   "toc_cell": false,
   "toc_position": {},
   "toc_section_display": true,
   "toc_window_display": false
  }
 },
 "nbformat": 4,
 "nbformat_minor": 2
}
